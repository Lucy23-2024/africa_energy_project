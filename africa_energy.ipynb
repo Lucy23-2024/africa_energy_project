{
 "cells": [
  {
   "cell_type": "code",
   "execution_count": 3,
   "id": "e9f89e26",
   "metadata": {},
   "outputs": [
    {
     "name": "stdout",
     "output_type": "stream",
     "text": [
      "Collecting pandas\n",
      "  Downloading pandas-2.3.3-cp312-cp312-manylinux_2_24_x86_64.manylinux_2_28_x86_64.whl.metadata (91 kB)\n",
      "\u001b[2K     \u001b[38;2;114;156;31m━━━━━━━━━━━━━━━━━━━━━━━━━━━━━━━━━━━━━━━\u001b[0m \u001b[32m91.2/91.2 kB\u001b[0m \u001b[31m223.7 kB/s\u001b[0m eta \u001b[36m0:00:00\u001b[0m1m155.2 kB/s\u001b[0m eta \u001b[36m0:00:01\u001b[0m\n",
      "\u001b[?25hCollecting numpy>=1.26.0 (from pandas)\n",
      "  Using cached numpy-2.3.3-cp312-cp312-manylinux_2_27_x86_64.manylinux_2_28_x86_64.whl.metadata (62 kB)\n",
      "Requirement already satisfied: python-dateutil>=2.8.2 in ./venv/lib/python3.12/site-packages (from pandas) (2.9.0.post0)\n",
      "Collecting pytz>=2020.1 (from pandas)\n",
      "  Using cached pytz-2025.2-py2.py3-none-any.whl.metadata (22 kB)\n",
      "Collecting tzdata>=2022.7 (from pandas)\n",
      "  Using cached tzdata-2025.2-py2.py3-none-any.whl.metadata (1.4 kB)\n",
      "Requirement already satisfied: six>=1.5 in ./venv/lib/python3.12/site-packages (from python-dateutil>=2.8.2->pandas) (1.17.0)\n",
      "Downloading pandas-2.3.3-cp312-cp312-manylinux_2_24_x86_64.manylinux_2_28_x86_64.whl (12.4 MB)\n",
      "\u001b[2K   \u001b[38;2;114;156;31m━━━━━━━━━━━━━━━━━━━━━━━━━━━━━━━━━━━━━━━━\u001b[0m \u001b[32m12.4/12.4 MB\u001b[0m \u001b[31m78.3 kB/s\u001b[0m eta \u001b[36m0:00:00\u001b[0mm eta \u001b[36m0:00:01\u001b[0m[36m0:00:05\u001b[0m\n",
      "\u001b[?25hUsing cached numpy-2.3.3-cp312-cp312-manylinux_2_27_x86_64.manylinux_2_28_x86_64.whl (16.6 MB)\n",
      "Using cached pytz-2025.2-py2.py3-none-any.whl (509 kB)\n",
      "Using cached tzdata-2025.2-py2.py3-none-any.whl (347 kB)\n",
      "Installing collected packages: pytz, tzdata, numpy, pandas\n",
      "Successfully installed numpy-2.3.3 pandas-2.3.3 pytz-2025.2 tzdata-2025.2\n"
     ]
    }
   ],
   "source": [
    "!pip install pandas\n"
   ]
  },
  {
   "cell_type": "raw",
   "id": "ae8aa467",
   "metadata": {
    "vscode": {
     "languageId": "raw"
    }
   },
   "source": [
    "import json\n",
    "\n",
    "try:\n",
    "    with open(\"electricity.json\", \"r\") as f:\n",
    "        json.load(f)\n",
    "    print(\"JSON is valid!\")\n",
    "except json.JSONDecodeError as e:\n",
    "    print(\"JSON error:\", e)\n"
   ]
  },
  {
   "cell_type": "markdown",
   "id": "9373bbca",
   "metadata": {},
   "source": [
    "#### Electricity Sector"
   ]
  },
  {
   "cell_type": "code",
   "execution_count": 3,
   "id": "73cbb828",
   "metadata": {},
   "outputs": [],
   "source": [
    "import json\n",
    "import pandas as pd\n",
    "\n",
    "# Step 1: Load JSON data from file\n",
    "with open(\"electricity.json\", \"r\") as file:\n",
    "    data = json.load(file)\n",
    "\n"
   ]
  },
  {
   "cell_type": "code",
   "execution_count": 4,
   "metadata": {},
   "outputs": [
    {
     "name": "stdout",
     "output_type": "stream",
     "text": [
      "   id     name         score unit   region_name indicator_topic  \\\n",
      "0  DZ  Algeria         25412  GWh  North Africa          Supply   \n",
      "1  DZ  Algeria  26830.699219  GWh  North Africa          Supply   \n",
      "2  DZ  Algeria  27865.699219  GWh  North Africa          Supply   \n",
      "3  DZ  Algeria  29845.740234  GWh  North Africa          Supply   \n",
      "4  DZ  Algeria  30885.099609  GWh  North Africa          Supply   \n",
      "\n",
      "  indicator_source                       indicator_name indicator_group  year  \\\n",
      "0   AFREC Database  Electricity generation, Total (GWh)     Electricity  2000   \n",
      "1   AFREC Database  Electricity generation, Total (GWh)     Electricity  2001   \n",
      "2   AFREC Database  Electricity generation, Total (GWh)     Electricity  2002   \n",
      "3   AFREC Database  Electricity generation, Total (GWh)     Electricity  2003   \n",
      "4   AFREC Database  Electricity generation, Total (GWh)     Electricity  2004   \n",
      "\n",
      "                    url  \n",
      "0  /aep/country/algeria  \n",
      "1  /aep/country/algeria  \n",
      "2  /aep/country/algeria  \n",
      "3  /aep/country/algeria  \n",
      "4  /aep/country/algeria  \n"
     ]
    }
   ],
   "source": [
    "# Step 2: Convert JSON data to a pandas DataFrame\n",
    "df = pd.DataFrame(data)\n",
    "\n",
    "# Step 3: Display summary\n",
    "print(df.head())\n",
    "\n",
    "# Step 4: Save to CSV\n",
    "df.to_csv(\"electricity_data.csv\", index=False)"
   ]
  },
  {
   "cell_type": "code",
   "execution_count": null,
   "id": "42f38e53",
   "metadata": {},
   "outputs": [
    {
     "name": "stdout",
     "output_type": "stream",
     "text": [
      "   id    name unit      region_name indicator_topic indicator_source  \\\n",
      "0  AO  Angola  GWh  Southern Africa          Supply   AFREC Database   \n",
      "1  AO  Angola  GWh  Southern Africa          Supply   AFREC Database   \n",
      "2  AO  Angola  GWh  Southern Africa          Supply   AFREC Database   \n",
      "3  AO  Angola  GWh  Southern Africa          Supply   AFREC Database   \n",
      "4  AO  Angola  GWh  Southern Africa          Supply   AFREC Database   \n",
      "\n",
      "                                      indicator_name indicator_group  \\\n",
      "0                           Electricity export (GWh)     Electricity   \n",
      "1                Electricity final consumption (GWh)     Electricity   \n",
      "2  Electricity generated from biofuels and waste ...     Electricity   \n",
      "3      Electricity generated from fossil fuels (GWh)     Electricity   \n",
      "4  Electricity generated from geothermal energy (...     Electricity   \n",
      "\n",
      "                   url    2000  ...    2013    2014         2015    2016  \\\n",
      "0  /aep/country/angola     0.0  ...     0.0     0.0     0.000000     0.0   \n",
      "1  /aep/country/angola  1157.0  ...  7087.0  8178.0  8384.165039  5744.0   \n",
      "2  /aep/country/angola     0.0  ...     0.0     0.0     0.000000     0.0   \n",
      "3  /aep/country/angola   533.0  ...  3449.0  4439.0  4572.000000  4546.0   \n",
      "4  /aep/country/angola     0.0  ...     0.0     0.0     0.000000     0.0   \n",
      "\n",
      "          2017          2018          2019          2020          2021  2022  \n",
      "0     0.000000      0.000000      0.000000      0.000000      0.000000   NaN  \n",
      "1  9182.895508  11390.256836  11639.166992  11928.141602  12204.162109   NaN  \n",
      "2     0.000000      0.000000      0.000000      0.000000      0.000000   NaN  \n",
      "3  3066.762695   2702.246094   2751.809082   2803.543945   2857.484375   NaN  \n",
      "4     0.000000      0.000000      0.000000      0.000000      0.000000   NaN  \n",
      "\n",
      "[5 rows x 32 columns]\n"
     ]
    }
   ],
   "source": [
    "# Step 5: Load your CSV\n",
    "df = pd.read_csv(\"electricity_data.csv\") \n",
    "\n",
    "# Step 7: Pivot years into columns\n",
    "pivot_df = df.pivot_table(\n",
    "    index=[\"id\", \"name\", \"unit\", \"region_name\", \"indicator_topic\", \n",
    "           \"indicator_source\", \"indicator_name\", \"indicator_group\", \"url\"],\n",
    "    columns=\"year\",\n",
    "    values=\"score\"\n",
    ").reset_index()\n",
    "\n",
    "# Step 8: Flatten the column index\n",
    "pivot_df.columns.name = None\n",
    "\n",
    "# Step 9: Save the formatted data\n",
    "pivot_df.to_csv(\"electricity_pivoted.csv\", index=False)\n",
    "print(pivot_df.head())\n",
    "\n"
   ]
  },
  {
   "cell_type": "markdown",
   "id": "ed2bab21",
   "metadata": {},
   "source": [
    "Energy Extract"
   ]
  },
  {
   "cell_type": "code",
   "execution_count": 9,
   "id": "a9f3f9dd",
   "metadata": {},
   "outputs": [],
   "source": [
    "import json\n",
    "import pandas as pd\n",
    "\n",
    "# Step 1: Load JSON data from file\n",
    "with open(\"energy.json\", \"r\") as file:\n",
    "    data = json.load(file)"
   ]
  },
  {
   "cell_type": "code",
   "execution_count": 10,
   "id": "3472d441",
   "metadata": {},
   "outputs": [
    {
     "name": "stdout",
     "output_type": "stream",
     "text": [
      "   id     name     score                unit   region_name indicator_topic  \\\n",
      "0  DZ  Algeria  1.122612  Millions of people  North Africa          Access   \n",
      "1  DZ  Algeria  0.947765  Millions of people  North Africa          Access   \n",
      "2  DZ  Algeria  0.831871  Millions of people  North Africa          Access   \n",
      "3  DZ  Algeria  0.712877  Millions of people  North Africa          Access   \n",
      "4  DZ  Algeria  0.623791  Millions of people  North Africa          Access   \n",
      "\n",
      "    indicator_source                                     indicator_name  \\\n",
      "0  Tracking SDG7/WBG  Energy: Population without access to clean coo...   \n",
      "1  Tracking SDG7/WBG  Energy: Population without access to clean coo...   \n",
      "2  Tracking SDG7/WBG  Energy: Population without access to clean coo...   \n",
      "3  Tracking SDG7/WBG  Energy: Population without access to clean coo...   \n",
      "4  Tracking SDG7/WBG  Energy: Population without access to clean coo...   \n",
      "\n",
      "  indicator_group  year                   url  \n",
      "0          Energy  2000  /aep/country/algeria  \n",
      "1          Energy  2001  /aep/country/algeria  \n",
      "2          Energy  2002  /aep/country/algeria  \n",
      "3          Energy  2003  /aep/country/algeria  \n",
      "4          Energy  2004  /aep/country/algeria  \n"
     ]
    }
   ],
   "source": [
    "# Step 2: Convert JSON data to a pandas DataFrame\n",
    "df = pd.DataFrame(data)\n",
    "\n",
    "# Step 3: Display summary\n",
    "print(df.head())\n",
    "\n",
    "# Step 4: Save to CSV\n",
    "df.to_csv(\"energy_data.csv\", index=False)"
   ]
  },
  {
   "cell_type": "code",
   "execution_count": 11,
   "id": "d067abf0",
   "metadata": {},
   "outputs": [
    {
     "name": "stdout",
     "output_type": "stream",
     "text": [
      "   id          name                unit      region_name indicator_topic  \\\n",
      "0  AO        Angola     MJ/USD PPP 2017  Southern Africa      Efficiency   \n",
      "1  AO        Angola  Millions of people  Southern Africa          Access   \n",
      "2  BF  Burkina Faso     MJ/USD PPP 2017      West Africa      Efficiency   \n",
      "3  BF  Burkina Faso  Millions of people      West Africa          Access   \n",
      "4  BI       Burundi     MJ/USD PPP 2017      East Africa      Efficiency   \n",
      "\n",
      "    indicator_source                                     indicator_name  \\\n",
      "0  Tracking SDG7/WBG  Energy intensity level of primary energy (MJ/2...   \n",
      "1  Tracking SDG7/WBG  Energy: Population without access to clean coo...   \n",
      "2  Tracking SDG7/WBG  Energy intensity level of primary energy (MJ/2...   \n",
      "3  Tracking SDG7/WBG  Energy: Population without access to clean coo...   \n",
      "4  Tracking SDG7/WBG  Energy intensity level of primary energy (MJ/2...   \n",
      "\n",
      "  indicator_group                        url       2000  ...       2013  \\\n",
      "0          Energy        /aep/country/angola   3.765100  ...   2.650700   \n",
      "1          Energy        /aep/country/angola   9.716583  ...  14.052103   \n",
      "2          Energy  /aep/country/burkina-faso   5.374300  ...   5.503500   \n",
      "3          Energy  /aep/country/burkina-faso  11.294525  ...  15.792266   \n",
      "4          Energy       /aep/country/burundi  10.750600  ...   7.552800   \n",
      "\n",
      "        2014       2015       2016       2017       2018       2019  \\\n",
      "0   2.292400   2.724800   2.593100   2.654300   2.470100   2.661100   \n",
      "1  14.375531  14.681851  15.040627  15.398426  15.817939  16.211660   \n",
      "2   5.554100   5.803500   5.503500   5.611500   5.707300   5.572300   \n",
      "3  16.143930  16.498775  16.781788  17.120495  17.401203  17.659435   \n",
      "4   7.068200   7.340800   7.521000   7.583000   7.690300   7.596300   \n",
      "\n",
      "        2020       2021       2022  \n",
      "0   2.802200   3.102400        NaN  \n",
      "1  16.512182  17.015034  17.494150  \n",
      "2   5.532700   5.431900   5.400000  \n",
      "3  17.872364  18.100441  18.300737  \n",
      "4   7.743000   7.475300   7.400000  \n",
      "\n",
      "[5 rows x 32 columns]\n"
     ]
    }
   ],
   "source": [
    "# Step 1: Load your JSON (or CSV)\n",
    "df = pd.read_csv(\"energy_data.csv\") \n",
    "\n",
    "# Step 2: Pivot years into columns\n",
    "pivot_df = df.pivot_table(\n",
    "    index=[\"id\", \"name\", \"unit\", \"region_name\", \"indicator_topic\", \n",
    "           \"indicator_source\", \"indicator_name\", \"indicator_group\", \"url\"],\n",
    "    columns=\"year\",\n",
    "    values=\"score\"\n",
    ").reset_index()\n",
    "\n",
    "# Step 3: Flatten the column index\n",
    "pivot_df.columns.name = None\n",
    "\n",
    "# Step 4: Save the formatted data\n",
    "pivot_df.to_csv(\"energy_pivoted.csv\", index=False)\n",
    "print(pivot_df.head())"
   ]
  },
  {
   "cell_type": "markdown",
   "id": "2e6f3964",
   "metadata": {},
   "source": [
    "Social & Economic"
   ]
  },
  {
   "cell_type": "code",
   "execution_count": 14,
   "id": "34dbaf1b",
   "metadata": {},
   "outputs": [],
   "source": [
    "import json\n",
    "import pandas as pd\n",
    "\n",
    "# Step 1: Load JSON data from file\n",
    "with open(\"social_and_economic.json\", \"r\") as file:\n",
    "    data = json.load(file)"
   ]
  },
  {
   "cell_type": "code",
   "execution_count": 15,
   "id": "79ab75cd",
   "metadata": {},
   "outputs": [
    {
     "name": "stdout",
     "output_type": "stream",
     "text": [
      "   id     name      score                unit   region_name indicator_topic  \\\n",
      "0  DZ  Algeria  12.498847  Millions of people  North Africa      Population   \n",
      "1  DZ  Algeria   12.41194  Millions of people  North Africa      Population   \n",
      "2  DZ  Algeria  12.317847  Millions of people  North Africa      Population   \n",
      "3  DZ  Algeria  12.221443  Millions of people  North Africa      Population   \n",
      "4  DZ  Algeria  12.127441  Millions of people  North Africa      Population   \n",
      "\n",
      "   indicator_source                         indicator_name  \\\n",
      "0  AfDB Data portal  Rural population (millions of people)   \n",
      "1  AfDB Data portal  Rural population (millions of people)   \n",
      "2  AfDB Data portal  Rural population (millions of people)   \n",
      "3  AfDB Data portal  Rural population (millions of people)   \n",
      "4  AfDB Data portal  Rural population (millions of people)   \n",
      "\n",
      "       indicator_group  year                   url  \n",
      "0  Social and Economic  2000  /aep/country/algeria  \n",
      "1  Social and Economic  2001  /aep/country/algeria  \n",
      "2  Social and Economic  2002  /aep/country/algeria  \n",
      "3  Social and Economic  2003  /aep/country/algeria  \n",
      "4  Social and Economic  2004  /aep/country/algeria  \n"
     ]
    }
   ],
   "source": [
    "# Step 2: Convert JSON data to a pandas DataFrame\n",
    "df = pd.DataFrame(data)\n",
    "\n",
    "# Step 3: Display summary\n",
    "print(df.head())\n",
    "\n",
    "# Step 4: Save to CSV\n",
    "df.to_csv(\"social_and_economic_data.csv\", index=False)"
   ]
  },
  {
   "cell_type": "code",
   "execution_count": 16,
   "id": "e48f3615",
   "metadata": {},
   "outputs": [
    {
     "name": "stdout",
     "output_type": "stream",
     "text": [
      "   id          name                unit      region_name   indicator_topic  \\\n",
      "0  AO        Angola         Current US$  Southern Africa  National Account   \n",
      "1  AO        Angola  Millions of people  Southern Africa        Population   \n",
      "2  AO        Angola  Millions of people  Southern Africa        Population   \n",
      "3  BF  Burkina Faso         Current US$      West Africa  National Account   \n",
      "4  BF  Burkina Faso  Millions of people      West Africa        Population   \n",
      "\n",
      "   indicator_source                         indicator_name  \\\n",
      "0  AfDB Data portal                      GDP (current US$)   \n",
      "1  AfDB Data portal  Rural population (millions of people)   \n",
      "2  AfDB Data portal  Urban population (millions of people)   \n",
      "3  AfDB Data portal                      GDP (current US$)   \n",
      "4  AfDB Data portal  Rural population (millions of people)   \n",
      "\n",
      "       indicator_group                        url          2000  ...  \\\n",
      "0  Social and Economic        /aep/country/angola  9.146631e+09  ...   \n",
      "1  Social and Economic        /aep/country/angola  8.206100e+00  ...   \n",
      "2  Social and Economic        /aep/country/angola  8.234824e+00  ...   \n",
      "3  Social and Economic  /aep/country/burkina-faso  2.632700e+09  ...   \n",
      "4  Social and Economic  /aep/country/burkina-faso  9.536675e+00  ...   \n",
      "\n",
      "           2013          2014          2015          2016          2017  \\\n",
      "0  1.367099e+11  1.457122e+11  1.161936e+11  1.011238e+11  1.221239e+11   \n",
      "1  9.878943e+00  1.003311e+01  1.018356e+01  1.032986e+01  1.047255e+01   \n",
      "2  1.611940e+01  1.688736e+01  1.767575e+01  1.848360e+01  1.931164e+01   \n",
      "3  1.414082e+10  1.446508e+10  1.183336e+10  1.282982e+10  1.410198e+10   \n",
      "4  1.257471e+01  1.284937e+01  1.312477e+01  1.340052e+01  1.367665e+01   \n",
      "\n",
      "           2018          2019          2020          2021          2022  \n",
      "0  1.013532e+11  8.451554e+10  5.837598e+10  7.455827e+10  9.418127e+10  \n",
      "1  1.061267e+01  1.075163e+01  1.089045e+01  1.102933e+01  1.116804e+01  \n",
      "2  2.016154e+01  2.103594e+01  2.193695e+01  2.286516e+01  2.382026e+01  \n",
      "3  1.606719e+10  1.599148e+10  1.751235e+10  2.115267e+10  2.285534e+10  \n",
      "4  1.395288e+01  1.422917e+01  1.450543e+01  1.478138e+01  1.505671e+01  \n",
      "\n",
      "[5 rows x 32 columns]\n"
     ]
    }
   ],
   "source": [
    "# Step 1: Load your JSON (or CSV)\n",
    "df = pd.read_csv(\"social_and_economic_data.csv\") \n",
    "\n",
    "# Step 2: Pivot years into columns\n",
    "pivot_df = df.pivot_table(\n",
    "    index=[\"id\", \"name\", \"unit\", \"region_name\", \"indicator_topic\", \n",
    "           \"indicator_source\", \"indicator_name\", \"indicator_group\", \"url\"],\n",
    "    columns=\"year\",\n",
    "    values=\"score\"\n",
    ").reset_index()\n",
    "\n",
    "# Step 3: Flatten the column index\n",
    "pivot_df.columns.name = None\n",
    "\n",
    "# Step 4: Save the formatted data\n",
    "pivot_df.to_csv(\"social_and_economic_pivoted.csv\", index=False)\n",
    "print(pivot_df.head())"
   ]
  },
  {
   "cell_type": "markdown",
   "id": "20a7df95",
   "metadata": {},
   "source": [
    "Combining Data"
   ]
  },
  {
   "cell_type": "code",
   "execution_count": 1,
   "id": "4115f9e6",
   "metadata": {},
   "outputs": [
    {
     "name": "stdout",
     "output_type": "stream",
     "text": [
      "Combined shape: (1907, 32)\n"
     ]
    }
   ],
   "source": [
    "import pandas as pd\n",
    "import glob\n",
    "\n",
    "# Step 1: Get all Excel files (you can specify paths if needed)\n",
    "files = glob.glob(\"*csv\")\n",
    "\n",
    "# Step 2: Read and combine\n",
    "df_list = [pd.read_csv(file) for file in files]\n",
    "combined_df = pd.concat(df_list, ignore_index=True)\n",
    "\n",
    "# Step 3: Verify\n",
    "print(\"Combined shape:\", combined_df.shape)\n",
    "combined_df.head()\n",
    "\n",
    "# Step 4: Save as one final file\n",
    "combined_df.to_csv(\"africa_energy_data_.csv\", index=False)\n",
    "\n"
   ]
  },
  {
   "cell_type": "markdown",
   "id": "a4f896de",
   "metadata": {},
   "source": [
    "Renaming"
   ]
  },
  {
   "cell_type": "code",
   "execution_count": null,
   "id": "7c33c044",
   "metadata": {},
   "outputs": [],
   "source": [
    "df = combined_df.rename(columns={\n",
    "    \"id\": \"country_serial\",\n",
    "    \"name\": \"country\",\n",
    "    \"indicator_name\": \"metric\",\n",
    "    \"indicator_group\": \"sector\",\n",
    "    \"indicator_topic\": \"sub_sector\",\n",
    "    \"region_name\": \"sub_sub_sector\",\n",
    "    \"indicator_source\": \"source\",\n",
    "    \"url\": \"source_link\"\n",
    "})"
   ]
  }
 ],
 "metadata": {
  "kernelspec": {
   "display_name": "venv",
   "language": "python",
   "name": "python3"
  },
  "language_info": {
   "codemirror_mode": {
    "name": "ipython",
    "version": 3
   },
   "file_extension": ".py",
   "mimetype": "text/x-python",
   "name": "python",
   "nbconvert_exporter": "python",
   "pygments_lexer": "ipython3",
   "version": "3.12.3"
  }
 },
 "nbformat": 4,
 "nbformat_minor": 5
}
