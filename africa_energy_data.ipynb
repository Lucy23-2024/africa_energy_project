{
 "cells": [
  {
   "cell_type": "markdown",
   "id": "7226faa9",
   "metadata": {},
   "source": [
    "#### Step 1: Importing Libraries"
   ]
  },
  {
   "cell_type": "code",
   "execution_count": 2,
   "id": "8c9d81f8",
   "metadata": {},
   "outputs": [],
   "source": [
    "import json\n",
    "import pandas as pd\n",
    "import glob"
   ]
  },
  {
   "cell_type": "markdown",
   "id": "e88932f9",
   "metadata": {},
   "source": [
    "#### Step 2: Data Loading"
   ]
  },
  {
   "cell_type": "code",
   "execution_count": 7,
   "id": "7711b083",
   "metadata": {},
   "outputs": [
    {
     "name": "stdout",
     "output_type": "stream",
     "text": [
      "Found files: ['energy.json', 'social_and_economic.json', 'electricity.json']\n"
     ]
    }
   ],
   "source": [
    "# Step 1: Get all JSON file names from the folder\n",
    "files = glob.glob(\"*.json\") # change this to your folder path\n",
    "\n",
    "print(\"Found files:\", files)"
   ]
  },
  {
   "cell_type": "code",
   "execution_count": 10,
   "id": "84af164f",
   "metadata": {},
   "outputs": [
    {
     "name": "stdout",
     "output_type": "stream",
     "text": [
      "[      id      name      score                unit      region_name  \\\n",
      "0     DZ   Algeria   1.122612  Millions of people     North Africa   \n",
      "1     DZ   Algeria   0.947765  Millions of people     North Africa   \n",
      "2     DZ   Algeria   0.831871  Millions of people     North Africa   \n",
      "3     DZ   Algeria   0.712877  Millions of people     North Africa   \n",
      "4     DZ   Algeria   0.623791  Millions of people     North Africa   \n",
      "...   ..       ...        ...                 ...              ...   \n",
      "3721  ZW  Zimbabwe  30.299999     % of population  Southern Africa   \n",
      "3722  ZW  Zimbabwe  30.299999     % of population  Southern Africa   \n",
      "3723  ZW  Zimbabwe       30.5     % of population  Southern Africa   \n",
      "3724  ZW  Zimbabwe       30.5     % of population  Southern Africa   \n",
      "3725  ZW  Zimbabwe  30.799999     % of population  Southern Africa   \n",
      "\n",
      "     indicator_topic   indicator_source  \\\n",
      "0             Access  Tracking SDG7/WBG   \n",
      "1             Access  Tracking SDG7/WBG   \n",
      "2             Access  Tracking SDG7/WBG   \n",
      "3             Access  Tracking SDG7/WBG   \n",
      "4             Access  Tracking SDG7/WBG   \n",
      "...              ...                ...   \n",
      "3721          Access               None   \n",
      "3722          Access               None   \n",
      "3723          Access               None   \n",
      "3724          Access               None   \n",
      "3725          Access               None   \n",
      "\n",
      "                                         indicator_name indicator_group  year  \\\n",
      "0     Energy: Population without access to clean coo...          Energy  2000   \n",
      "1     Energy: Population without access to clean coo...          Energy  2001   \n",
      "2     Energy: Population without access to clean coo...          Energy  2002   \n",
      "3     Energy: Population without access to clean coo...          Energy  2003   \n",
      "4     Energy: Population without access to clean coo...          Energy  2004   \n",
      "...                                                 ...             ...   ...   \n",
      "3721  Energy: Population with access to clean cookin...          Energy  2018   \n",
      "3722  Energy: Population with access to clean cookin...          Energy  2019   \n",
      "3723  Energy: Population with access to clean cookin...          Energy  2020   \n",
      "3724  Energy: Population with access to clean cookin...          Energy  2021   \n",
      "3725  Energy: Population with access to clean cookin...          Energy  2022   \n",
      "\n",
      "                        url  \n",
      "0      /aep/country/algeria  \n",
      "1      /aep/country/algeria  \n",
      "2      /aep/country/algeria  \n",
      "3      /aep/country/algeria  \n",
      "4      /aep/country/algeria  \n",
      "...                     ...  \n",
      "3721  /aep/country/zimbabwe  \n",
      "3722  /aep/country/zimbabwe  \n",
      "3723  /aep/country/zimbabwe  \n",
      "3724  /aep/country/zimbabwe  \n",
      "3725  /aep/country/zimbabwe  \n",
      "\n",
      "[3726 rows x 11 columns],       id      name        score                unit      region_name  \\\n",
      "0     DZ   Algeria    12.498847  Millions of people     North Africa   \n",
      "1     DZ   Algeria     12.41194  Millions of people     North Africa   \n",
      "2     DZ   Algeria    12.317847  Millions of people     North Africa   \n",
      "3     DZ   Algeria    12.221443  Millions of people     North Africa   \n",
      "4     DZ   Algeria    12.127441  Millions of people     North Africa   \n",
      "...   ..       ...          ...                 ...              ...   \n",
      "4963  ZW  Zimbabwe  23651000320         Current US$  Southern Africa   \n",
      "4964  ZW  Zimbabwe  22599999488         Current US$  Southern Africa   \n",
      "4965  ZW  Zimbabwe  21670000640         Current US$  Southern Africa   \n",
      "4966  ZW  Zimbabwe  21901393920         Current US$  Southern Africa   \n",
      "4967  ZW  Zimbabwe  23440736256         Current US$  Southern Africa   \n",
      "\n",
      "       indicator_topic  indicator_source  \\\n",
      "0           Population  AfDB Data portal   \n",
      "1           Population  AfDB Data portal   \n",
      "2           Population  AfDB Data portal   \n",
      "3           Population  AfDB Data portal   \n",
      "4           Population  AfDB Data portal   \n",
      "...                ...               ...   \n",
      "4963  National Account  AfDB Data portal   \n",
      "4964  National Account  AfDB Data portal   \n",
      "4965  National Account  AfDB Data portal   \n",
      "4966  National Account  AfDB Data portal   \n",
      "4967  National Account  AfDB Data portal   \n",
      "\n",
      "                             indicator_name      indicator_group  year  \\\n",
      "0     Rural population (millions of people)  Social and Economic  2000   \n",
      "1     Rural population (millions of people)  Social and Economic  2001   \n",
      "2     Rural population (millions of people)  Social and Economic  2002   \n",
      "3     Rural population (millions of people)  Social and Economic  2003   \n",
      "4     Rural population (millions of people)  Social and Economic  2004   \n",
      "...                                     ...                  ...   ...   \n",
      "4963                      GDP (current US$)  Social and Economic  2018   \n",
      "4964                      GDP (current US$)  Social and Economic  2019   \n",
      "4965                      GDP (current US$)  Social and Economic  2020   \n",
      "4966                      GDP (current US$)  Social and Economic  2021   \n",
      "4967                      GDP (current US$)  Social and Economic  2022   \n",
      "\n",
      "                        url  \n",
      "0      /aep/country/algeria  \n",
      "1      /aep/country/algeria  \n",
      "2      /aep/country/algeria  \n",
      "3      /aep/country/algeria  \n",
      "4      /aep/country/algeria  \n",
      "...                     ...  \n",
      "4963  /aep/country/zimbabwe  \n",
      "4964  /aep/country/zimbabwe  \n",
      "4965  /aep/country/zimbabwe  \n",
      "4966  /aep/country/zimbabwe  \n",
      "4967  /aep/country/zimbabwe  \n",
      "\n",
      "[4968 rows x 11 columns],        id      name         score unit      region_name indicator_topic  \\\n",
      "0      DZ   Algeria         25412  GWh     North Africa          Supply   \n",
      "1      DZ   Algeria  26830.699219  GWh     North Africa          Supply   \n",
      "2      DZ   Algeria  27865.699219  GWh     North Africa          Supply   \n",
      "3      DZ   Algeria  29845.740234  GWh     North Africa          Supply   \n",
      "4      DZ   Algeria  30885.099609  GWh     North Africa          Supply   \n",
      "...    ..       ...           ...  ...              ...             ...   \n",
      "42223  ZW  Zimbabwe             0   MW  Southern Africa       Technical   \n",
      "42224  ZW  Zimbabwe             0   MW  Southern Africa       Technical   \n",
      "42225  ZW  Zimbabwe             0   MW  Southern Africa       Technical   \n",
      "42226  ZW  Zimbabwe             0   MW  Southern Africa       Technical   \n",
      "42227  ZW  Zimbabwe             0   MW  Southern Africa       Technical   \n",
      "\n",
      "      indicator_source                                     indicator_name  \\\n",
      "0       AFREC Database                Electricity generation, Total (GWh)   \n",
      "1       AFREC Database                Electricity generation, Total (GWh)   \n",
      "2       AFREC Database                Electricity generation, Total (GWh)   \n",
      "3       AFREC Database                Electricity generation, Total (GWh)   \n",
      "4       AFREC Database                Electricity generation, Total (GWh)   \n",
      "...                ...                                                ...   \n",
      "42223   IRENA database  Electricity installed capacity in Geothermal (MW)   \n",
      "42224   IRENA database  Electricity installed capacity in Geothermal (MW)   \n",
      "42225   IRENA database  Electricity installed capacity in Geothermal (MW)   \n",
      "42226   IRENA database  Electricity installed capacity in Geothermal (MW)   \n",
      "42227   IRENA database  Electricity installed capacity in Geothermal (MW)   \n",
      "\n",
      "      indicator_group  year                    url  \n",
      "0         Electricity  2000   /aep/country/algeria  \n",
      "1         Electricity  2001   /aep/country/algeria  \n",
      "2         Electricity  2002   /aep/country/algeria  \n",
      "3         Electricity  2003   /aep/country/algeria  \n",
      "4         Electricity  2004   /aep/country/algeria  \n",
      "...               ...   ...                    ...  \n",
      "42223     Electricity  2018  /aep/country/zimbabwe  \n",
      "42224     Electricity  2019  /aep/country/zimbabwe  \n",
      "42225     Electricity  2020  /aep/country/zimbabwe  \n",
      "42226     Electricity  2021  /aep/country/zimbabwe  \n",
      "42227     Electricity  2022  /aep/country/zimbabwe  \n",
      "\n",
      "[42228 rows x 11 columns]]\n"
     ]
    }
   ],
   "source": [
    "# Step 2: Read and combine them all\n",
    "dataframes = []\n",
    "\n",
    "for file in files:\n",
    "    with open(file, \"r\") as f:\n",
    "        data = json.load(f)\n",
    "        df = pd.DataFrame(data)\n",
    "        dataframes.append(df)\n",
    "\n",
    "print(dataframes)"
   ]
  },
  {
   "cell_type": "code",
   "execution_count": 11,
   "id": "297e2eaf",
   "metadata": {},
   "outputs": [
    {
     "name": "stdout",
     "output_type": "stream",
     "text": [
      "Combined shape: (50922, 11)\n",
      "   id     name     score                unit   region_name indicator_topic  \\\n",
      "0  DZ  Algeria  1.122612  Millions of people  North Africa          Access   \n",
      "1  DZ  Algeria  0.947765  Millions of people  North Africa          Access   \n",
      "2  DZ  Algeria  0.831871  Millions of people  North Africa          Access   \n",
      "3  DZ  Algeria  0.712877  Millions of people  North Africa          Access   \n",
      "4  DZ  Algeria  0.623791  Millions of people  North Africa          Access   \n",
      "\n",
      "    indicator_source                                     indicator_name  \\\n",
      "0  Tracking SDG7/WBG  Energy: Population without access to clean coo...   \n",
      "1  Tracking SDG7/WBG  Energy: Population without access to clean coo...   \n",
      "2  Tracking SDG7/WBG  Energy: Population without access to clean coo...   \n",
      "3  Tracking SDG7/WBG  Energy: Population without access to clean coo...   \n",
      "4  Tracking SDG7/WBG  Energy: Population without access to clean coo...   \n",
      "\n",
      "  indicator_group  year                   url  \n",
      "0          Energy  2000  /aep/country/algeria  \n",
      "1          Energy  2001  /aep/country/algeria  \n",
      "2          Energy  2002  /aep/country/algeria  \n",
      "3          Energy  2003  /aep/country/algeria  \n",
      "4          Energy  2004  /aep/country/algeria  \n"
     ]
    }
   ],
   "source": [
    "# Step 3: Combine all into one DataFrame\n",
    "combined_df = pd.concat(dataframes, ignore_index=True)\n",
    "\n",
    "print(\"Combined shape:\", combined_df.shape)\n",
    "print(combined_df.head())\n"
   ]
  },
  {
   "cell_type": "markdown",
   "id": "cab16066",
   "metadata": {},
   "source": [
    "#### Step 3: Data Cleaning & Formatting"
   ]
  },
  {
   "cell_type": "code",
   "execution_count": 12,
   "id": "e1f37f10",
   "metadata": {},
   "outputs": [
    {
     "data": {
      "text/html": [
       "<div>\n",
       "<style scoped>\n",
       "    .dataframe tbody tr th:only-of-type {\n",
       "        vertical-align: middle;\n",
       "    }\n",
       "\n",
       "    .dataframe tbody tr th {\n",
       "        vertical-align: top;\n",
       "    }\n",
       "\n",
       "    .dataframe thead th {\n",
       "        text-align: right;\n",
       "    }\n",
       "</style>\n",
       "<table border=\"1\" class=\"dataframe\">\n",
       "  <thead>\n",
       "    <tr style=\"text-align: right;\">\n",
       "      <th></th>\n",
       "      <th>country_serial</th>\n",
       "      <th>country</th>\n",
       "      <th>value</th>\n",
       "      <th>unit</th>\n",
       "      <th>region_name</th>\n",
       "      <th>sub_sector</th>\n",
       "      <th>source</th>\n",
       "      <th>metric</th>\n",
       "      <th>sector</th>\n",
       "      <th>year</th>\n",
       "      <th>source_link</th>\n",
       "    </tr>\n",
       "  </thead>\n",
       "  <tbody>\n",
       "    <tr>\n",
       "      <th>0</th>\n",
       "      <td>DZ</td>\n",
       "      <td>Algeria</td>\n",
       "      <td>1.122612</td>\n",
       "      <td>Millions of people</td>\n",
       "      <td>North Africa</td>\n",
       "      <td>Access</td>\n",
       "      <td>Tracking SDG7/WBG</td>\n",
       "      <td>Energy: Population without access to clean coo...</td>\n",
       "      <td>Energy</td>\n",
       "      <td>2000</td>\n",
       "      <td>/aep/country/algeria</td>\n",
       "    </tr>\n",
       "    <tr>\n",
       "      <th>1</th>\n",
       "      <td>DZ</td>\n",
       "      <td>Algeria</td>\n",
       "      <td>0.947765</td>\n",
       "      <td>Millions of people</td>\n",
       "      <td>North Africa</td>\n",
       "      <td>Access</td>\n",
       "      <td>Tracking SDG7/WBG</td>\n",
       "      <td>Energy: Population without access to clean coo...</td>\n",
       "      <td>Energy</td>\n",
       "      <td>2001</td>\n",
       "      <td>/aep/country/algeria</td>\n",
       "    </tr>\n",
       "    <tr>\n",
       "      <th>2</th>\n",
       "      <td>DZ</td>\n",
       "      <td>Algeria</td>\n",
       "      <td>0.831871</td>\n",
       "      <td>Millions of people</td>\n",
       "      <td>North Africa</td>\n",
       "      <td>Access</td>\n",
       "      <td>Tracking SDG7/WBG</td>\n",
       "      <td>Energy: Population without access to clean coo...</td>\n",
       "      <td>Energy</td>\n",
       "      <td>2002</td>\n",
       "      <td>/aep/country/algeria</td>\n",
       "    </tr>\n",
       "    <tr>\n",
       "      <th>3</th>\n",
       "      <td>DZ</td>\n",
       "      <td>Algeria</td>\n",
       "      <td>0.712877</td>\n",
       "      <td>Millions of people</td>\n",
       "      <td>North Africa</td>\n",
       "      <td>Access</td>\n",
       "      <td>Tracking SDG7/WBG</td>\n",
       "      <td>Energy: Population without access to clean coo...</td>\n",
       "      <td>Energy</td>\n",
       "      <td>2003</td>\n",
       "      <td>/aep/country/algeria</td>\n",
       "    </tr>\n",
       "    <tr>\n",
       "      <th>4</th>\n",
       "      <td>DZ</td>\n",
       "      <td>Algeria</td>\n",
       "      <td>0.623791</td>\n",
       "      <td>Millions of people</td>\n",
       "      <td>North Africa</td>\n",
       "      <td>Access</td>\n",
       "      <td>Tracking SDG7/WBG</td>\n",
       "      <td>Energy: Population without access to clean coo...</td>\n",
       "      <td>Energy</td>\n",
       "      <td>2004</td>\n",
       "      <td>/aep/country/algeria</td>\n",
       "    </tr>\n",
       "  </tbody>\n",
       "</table>\n",
       "</div>"
      ],
      "text/plain": [
       "  country_serial  country     value                unit   region_name  \\\n",
       "0             DZ  Algeria  1.122612  Millions of people  North Africa   \n",
       "1             DZ  Algeria  0.947765  Millions of people  North Africa   \n",
       "2             DZ  Algeria  0.831871  Millions of people  North Africa   \n",
       "3             DZ  Algeria  0.712877  Millions of people  North Africa   \n",
       "4             DZ  Algeria  0.623791  Millions of people  North Africa   \n",
       "\n",
       "  sub_sector             source  \\\n",
       "0     Access  Tracking SDG7/WBG   \n",
       "1     Access  Tracking SDG7/WBG   \n",
       "2     Access  Tracking SDG7/WBG   \n",
       "3     Access  Tracking SDG7/WBG   \n",
       "4     Access  Tracking SDG7/WBG   \n",
       "\n",
       "                                              metric  sector  year  \\\n",
       "0  Energy: Population without access to clean coo...  Energy  2000   \n",
       "1  Energy: Population without access to clean coo...  Energy  2001   \n",
       "2  Energy: Population without access to clean coo...  Energy  2002   \n",
       "3  Energy: Population without access to clean coo...  Energy  2003   \n",
       "4  Energy: Population without access to clean coo...  Energy  2004   \n",
       "\n",
       "            source_link  \n",
       "0  /aep/country/algeria  \n",
       "1  /aep/country/algeria  \n",
       "2  /aep/country/algeria  \n",
       "3  /aep/country/algeria  \n",
       "4  /aep/country/algeria  "
      ]
     },
     "execution_count": 12,
     "metadata": {},
     "output_type": "execute_result"
    }
   ],
   "source": [
    "# Step 1: Rename columns\n",
    "df = combined_df.rename(columns={\n",
    "    \"id\": \"country_serial\",\n",
    "    \"name\": \"country\",\n",
    "    \"indicator_name\": \"metric\",\n",
    "    \"unit\": \"unit\",\n",
    "    \"indicator_group\": \"sector\",\n",
    "    \"indicator_topic\": \"sub_sector\",\n",
    "    \"indicator_source\": \"source\",\n",
    "    \"url\": \"source_link\",\n",
    "    \"score\": \"value\"\n",
    "})\n",
    "\n",
    "df.head()"
   ]
  },
  {
   "cell_type": "code",
   "execution_count": 6,
   "id": "26d15b26",
   "metadata": {},
   "outputs": [],
   "source": [
    "# Step 2: Convert value column to numeric\n",
    "df[\"value\"] = pd.to_numeric(df[\"value\"], errors=\"coerce\")"
   ]
  },
  {
   "cell_type": "markdown",
   "id": "0b157864",
   "metadata": {},
   "source": [
    "- The above code cell “Convert every entry in the ‘value’ column to a number. e.g. Some values might appear as \"36.5\" instead of 36.5\n",
    "\n",
    "- If something cannot be converted (like ‘N/A’ or text), replace it with NaN (which means missing value).\n",
    "\n",
    "- If we try to perform calculations or reshape this data while it’s still text, pandas will throw an error because it can’t compute mathematical operations on strings.\n",
    "\n",
    "- `errors=\"coerce\"` tells pandas: “If you can’t convert something to a number, turn it into NaN (missing value), don’t crash.”"
   ]
  },
  {
   "cell_type": "code",
   "execution_count": 13,
   "id": "074540ea",
   "metadata": {},
   "outputs": [],
   "source": [
    "# Step 3: Pivot data (years → columns)\n",
    "pivot_df = df.pivot_table(\n",
    "    index=[\n",
    "        \"country\", \"country_serial\", \"metric\", \"unit\",\n",
    "        \"sector\", \"sub_sector\", \"source_link\", \"source\"\n",
    "    ],\n",
    "    columns=\"year\",\n",
    "    values=\"value\",\n",
    "    aggfunc=\"first\"   # safer than 'mean'\n",
    ").reset_index()"
   ]
  },
  {
   "cell_type": "code",
   "execution_count": 17,
   "id": "b4abf294",
   "metadata": {},
   "outputs": [],
   "source": [
    "# Step 4: Flatten the columns - removes the year column\n",
    "pivot_df.columns.name = None"
   ]
  },
  {
   "cell_type": "code",
   "execution_count": 18,
   "id": "b7ade6c7",
   "metadata": {},
   "outputs": [
    {
     "data": {
      "text/html": [
       "<div>\n",
       "<style scoped>\n",
       "    .dataframe tbody tr th:only-of-type {\n",
       "        vertical-align: middle;\n",
       "    }\n",
       "\n",
       "    .dataframe tbody tr th {\n",
       "        vertical-align: top;\n",
       "    }\n",
       "\n",
       "    .dataframe thead th {\n",
       "        text-align: right;\n",
       "    }\n",
       "</style>\n",
       "<table border=\"1\" class=\"dataframe\">\n",
       "  <thead>\n",
       "    <tr style=\"text-align: right;\">\n",
       "      <th></th>\n",
       "      <th>country</th>\n",
       "      <th>country_serial</th>\n",
       "      <th>metric</th>\n",
       "      <th>unit</th>\n",
       "      <th>sector</th>\n",
       "      <th>sub_sector</th>\n",
       "      <th>source_link</th>\n",
       "      <th>source</th>\n",
       "      <th>2000</th>\n",
       "      <th>2001</th>\n",
       "      <th>...</th>\n",
       "      <th>2013</th>\n",
       "      <th>2014</th>\n",
       "      <th>2015</th>\n",
       "      <th>2016</th>\n",
       "      <th>2017</th>\n",
       "      <th>2018</th>\n",
       "      <th>2019</th>\n",
       "      <th>2020</th>\n",
       "      <th>2021</th>\n",
       "      <th>2022</th>\n",
       "    </tr>\n",
       "  </thead>\n",
       "  <tbody>\n",
       "    <tr>\n",
       "      <th>0</th>\n",
       "      <td>Algeria</td>\n",
       "      <td>DZ</td>\n",
       "      <td>Electricity export (GWh)</td>\n",
       "      <td>GWh</td>\n",
       "      <td>Electricity</td>\n",
       "      <td>Supply</td>\n",
       "      <td>/aep/country/algeria</td>\n",
       "      <td>AFREC Database</td>\n",
       "      <td>319</td>\n",
       "      <td>196</td>\n",
       "      <td>...</td>\n",
       "      <td>384</td>\n",
       "      <td>877</td>\n",
       "      <td>641</td>\n",
       "      <td>507</td>\n",
       "      <td>918.764526</td>\n",
       "      <td>833.876404</td>\n",
       "      <td>975.834595</td>\n",
       "      <td>1128.864014</td>\n",
       "      <td>1529.344971</td>\n",
       "      <td>NULL</td>\n",
       "    </tr>\n",
       "    <tr>\n",
       "      <th>1</th>\n",
       "      <td>Algeria</td>\n",
       "      <td>DZ</td>\n",
       "      <td>Electricity final consumption (GWh)</td>\n",
       "      <td>GWh</td>\n",
       "      <td>Electricity</td>\n",
       "      <td>Supply</td>\n",
       "      <td>/aep/country/algeria</td>\n",
       "      <td>AFREC Database</td>\n",
       "      <td>18592</td>\n",
       "      <td>19664</td>\n",
       "      <td>...</td>\n",
       "      <td>40188</td>\n",
       "      <td>45751</td>\n",
       "      <td>47956.96875</td>\n",
       "      <td>52288</td>\n",
       "      <td>56376.101562</td>\n",
       "      <td>58152.601562</td>\n",
       "      <td>59053.726562</td>\n",
       "      <td>60044.328125</td>\n",
       "      <td>62502.121094</td>\n",
       "      <td>NULL</td>\n",
       "    </tr>\n",
       "    <tr>\n",
       "      <th>2</th>\n",
       "      <td>Algeria</td>\n",
       "      <td>DZ</td>\n",
       "      <td>Electricity final consumption per capita (KWh)</td>\n",
       "      <td>KWh per capita</td>\n",
       "      <td>Electricity</td>\n",
       "      <td>Supply</td>\n",
       "      <td>/aep/country/algeria</td>\n",
       "      <td>AFREC Database</td>\n",
       "      <td>596.209656</td>\n",
       "      <td>622.433105</td>\n",
       "      <td>...</td>\n",
       "      <td>1048.239624</td>\n",
       "      <td>1169.704102</td>\n",
       "      <td>1202.787354</td>\n",
       "      <td>1287.689941</td>\n",
       "      <td>1364.439453</td>\n",
       "      <td>1384.320435</td>\n",
       "      <td>1383.671143</td>\n",
       "      <td>1385.640747</td>\n",
       "      <td>1421.494507</td>\n",
       "      <td>NULL</td>\n",
       "    </tr>\n",
       "    <tr>\n",
       "      <th>3</th>\n",
       "      <td>Algeria</td>\n",
       "      <td>DZ</td>\n",
       "      <td>Electricity generated from biofuels and waste ...</td>\n",
       "      <td>GWh</td>\n",
       "      <td>Electricity</td>\n",
       "      <td>Supply</td>\n",
       "      <td>/aep/country/algeria</td>\n",
       "      <td>AFREC Database</td>\n",
       "      <td>0</td>\n",
       "      <td>0</td>\n",
       "      <td>...</td>\n",
       "      <td>0</td>\n",
       "      <td>0</td>\n",
       "      <td>0</td>\n",
       "      <td>0</td>\n",
       "      <td>0</td>\n",
       "      <td>0</td>\n",
       "      <td>0</td>\n",
       "      <td>0</td>\n",
       "      <td>0</td>\n",
       "      <td>NULL</td>\n",
       "    </tr>\n",
       "    <tr>\n",
       "      <th>4</th>\n",
       "      <td>Algeria</td>\n",
       "      <td>DZ</td>\n",
       "      <td>Electricity generated from fossil fuels (GWh)</td>\n",
       "      <td>GWh</td>\n",
       "      <td>Electricity</td>\n",
       "      <td>Supply</td>\n",
       "      <td>/aep/country/algeria</td>\n",
       "      <td>AFREC Database</td>\n",
       "      <td>25358</td>\n",
       "      <td>26556</td>\n",
       "      <td>...</td>\n",
       "      <td>59560</td>\n",
       "      <td>63988</td>\n",
       "      <td>68576</td>\n",
       "      <td>70663</td>\n",
       "      <td>75381.96875</td>\n",
       "      <td>75879.992188</td>\n",
       "      <td>79441.46875</td>\n",
       "      <td>83299.226562</td>\n",
       "      <td>84709.507812</td>\n",
       "      <td>NULL</td>\n",
       "    </tr>\n",
       "  </tbody>\n",
       "</table>\n",
       "<p>5 rows × 31 columns</p>\n",
       "</div>"
      ],
      "text/plain": [
       "   country country_serial                                             metric  \\\n",
       "0  Algeria             DZ                           Electricity export (GWh)   \n",
       "1  Algeria             DZ                Electricity final consumption (GWh)   \n",
       "2  Algeria             DZ     Electricity final consumption per capita (KWh)   \n",
       "3  Algeria             DZ  Electricity generated from biofuels and waste ...   \n",
       "4  Algeria             DZ      Electricity generated from fossil fuels (GWh)   \n",
       "\n",
       "             unit       sector sub_sector           source_link  \\\n",
       "0             GWh  Electricity     Supply  /aep/country/algeria   \n",
       "1             GWh  Electricity     Supply  /aep/country/algeria   \n",
       "2  KWh per capita  Electricity     Supply  /aep/country/algeria   \n",
       "3             GWh  Electricity     Supply  /aep/country/algeria   \n",
       "4             GWh  Electricity     Supply  /aep/country/algeria   \n",
       "\n",
       "           source        2000        2001  ...         2013         2014  \\\n",
       "0  AFREC Database         319         196  ...          384          877   \n",
       "1  AFREC Database       18592       19664  ...        40188        45751   \n",
       "2  AFREC Database  596.209656  622.433105  ...  1048.239624  1169.704102   \n",
       "3  AFREC Database           0           0  ...            0            0   \n",
       "4  AFREC Database       25358       26556  ...        59560        63988   \n",
       "\n",
       "          2015         2016          2017          2018          2019  \\\n",
       "0          641          507    918.764526    833.876404    975.834595   \n",
       "1  47956.96875        52288  56376.101562  58152.601562  59053.726562   \n",
       "2  1202.787354  1287.689941   1364.439453   1384.320435   1383.671143   \n",
       "3            0            0             0             0             0   \n",
       "4        68576        70663   75381.96875  75879.992188   79441.46875   \n",
       "\n",
       "           2020          2021  2022  \n",
       "0   1128.864014   1529.344971  NULL  \n",
       "1  60044.328125  62502.121094  NULL  \n",
       "2   1385.640747   1421.494507  NULL  \n",
       "3             0             0  NULL  \n",
       "4  83299.226562  84709.507812  NULL  \n",
       "\n",
       "[5 rows x 31 columns]"
      ]
     },
     "execution_count": 18,
     "metadata": {},
     "output_type": "execute_result"
    }
   ],
   "source": [
    "# Step 5: Save to CSV\n",
    "pivot_df.to_csv(\"africa_energy_data.csv\", index=False)\n",
    "\n",
    "pivot_df.head()"
   ]
  },
  {
   "cell_type": "code",
   "execution_count": 19,
   "id": "b723c622",
   "metadata": {},
   "outputs": [
    {
     "data": {
      "text/plain": [
       "(1944, 31)"
      ]
     },
     "execution_count": 19,
     "metadata": {},
     "output_type": "execute_result"
    }
   ],
   "source": [
    "pivot_df.shape"
   ]
  },
  {
   "cell_type": "markdown",
   "id": "a5086e9f",
   "metadata": {},
   "source": [
    "#### Step 4: Data Storage"
   ]
  },
  {
   "cell_type": "code",
   "execution_count": 8,
   "id": "52a97439",
   "metadata": {},
   "outputs": [
    {
     "name": "stdout",
     "output_type": "stream",
     "text": [
      "Collecting pymongo\n",
      "  Downloading pymongo-4.15.3-cp312-cp312-manylinux2014_x86_64.manylinux_2_17_x86_64.manylinux_2_28_x86_64.whl.metadata (22 kB)\n",
      "Collecting dnspython<3.0.0,>=1.16.0 (from pymongo)\n",
      "  Downloading dnspython-2.8.0-py3-none-any.whl.metadata (5.7 kB)\n",
      "Downloading pymongo-4.15.3-cp312-cp312-manylinux2014_x86_64.manylinux_2_17_x86_64.manylinux_2_28_x86_64.whl (1.7 MB)\n",
      "\u001b[2K   \u001b[38;2;114;156;31m━━━━━━━━━━━━━━━━━━━━━━━━━━━━━━━━━━━━━━━━\u001b[0m \u001b[32m1.7/1.7 MB\u001b[0m \u001b[31m3.5 MB/s\u001b[0m eta \u001b[36m0:00:00\u001b[0mm eta \u001b[36m0:00:01\u001b[0m[36m0:00:01\u001b[0m\n",
      "\u001b[?25hDownloading dnspython-2.8.0-py3-none-any.whl (331 kB)\n",
      "\u001b[2K   \u001b[38;2;114;156;31m━━━━━━━━━━━━━━━━━━━━━━━━━━━━━━━━━━━━━━━━\u001b[0m \u001b[32m331.1/331.1 kB\u001b[0m \u001b[31m5.9 MB/s\u001b[0m eta \u001b[36m0:00:00\u001b[0m0m eta \u001b[36m0:00:01\u001b[0m\n",
      "\u001b[?25hInstalling collected packages: dnspython, pymongo\n",
      "Successfully installed dnspython-2.8.0 pymongo-4.15.3\n"
     ]
    }
   ],
   "source": [
    "!pip install pymongo"
   ]
  },
  {
   "cell_type": "code",
   "execution_count": 20,
   "id": "fe4c6022",
   "metadata": {},
   "outputs": [],
   "source": [
    "from pymongo import MongoClient\n",
    "\n",
    "# Step 1: Ensure year columns are strings - In MongoDB, field names (the keys) must always be strings.\n",
    "pivot_df.columns = pivot_df.columns.map(str)"
   ]
  },
  {
   "cell_type": "code",
   "execution_count": null,
   "id": "80504ed6",
   "metadata": {},
   "outputs": [],
   "source": [
    "# Step 2: Replace NaN with None (MongoDB does not accept NaN)\n",
    "pivot_df = pivot_df.where(pd.notnull(pivot_df), None)"
   ]
  },
  {
   "cell_type": "markdown",
   "id": "a4689c03",
   "metadata": {},
   "source": [
    "- MongoDB does not accept NaN values\n",
    "\n",
    "- When you export from pandas to MongoDB, pandas uses NaN (Not a Number) to represent missing values.\n",
    "\n",
    "- But in MongoDB (and in JSON), there is no such thing as NaN.\n",
    "\n",
    "- The valid equivalent for “missing” is null, which corresponds to None in Python."
   ]
  },
  {
   "cell_type": "code",
   "execution_count": null,
   "id": "64c2f93b",
   "metadata": {},
   "outputs": [],
   "source": [
    "# Step 3: Convert DataFrame to list of dicts\n",
    "records = pivot_df.to_dict(orient=\"records\")\n",
    "print(records)"
   ]
  },
  {
   "cell_type": "markdown",
   "id": "f29c1428",
   "metadata": {},
   "source": [
    "- This code cell above your entire pandas DataFrame (pivot_df) into a list of Python dictionaries, where:\n",
    "\n",
    "    - each row in the DataFrame becomes one dictionary (document)\n",
    "\n",
    "    - each column name becomes a key in that dictionary\n",
    "\n",
    "- MongoDB doesn’t understand pandas DataFrames directly. MongoDB stores data as JSON-like documents\n",
    "\n",
    "- It expects data in a structure like:\n",
    "\n",
    "`{\"key\": \"value\", \"key2\": \"value2\"}`"
   ]
  },
  {
   "cell_type": "code",
   "execution_count": 22,
   "id": "f072045b",
   "metadata": {},
   "outputs": [],
   "source": [
    "# Step 4: Connect to MongoDB\n",
    "client = MongoClient(\"mongodb://localhost:27017/\")\n",
    "db = client[\"africa_energy_db\"]\n",
    "collection = db[\"energy_data\"]"
   ]
  },
  {
   "cell_type": "code",
   "execution_count": 23,
   "id": "6c2f12d0",
   "metadata": {},
   "outputs": [
    {
     "data": {
      "text/plain": [
       "InsertManyResult([ObjectId('68f0732a96d2d76cd460d0dc'), ObjectId('68f0732a96d2d76cd460d0dd'), ObjectId('68f0732a96d2d76cd460d0de'), ObjectId('68f0732a96d2d76cd460d0df'), ObjectId('68f0732a96d2d76cd460d0e0'), ObjectId('68f0732a96d2d76cd460d0e1'), ObjectId('68f0732a96d2d76cd460d0e2'), ObjectId('68f0732a96d2d76cd460d0e3'), ObjectId('68f0732a96d2d76cd460d0e4'), ObjectId('68f0732a96d2d76cd460d0e5'), ObjectId('68f0732a96d2d76cd460d0e6'), ObjectId('68f0732a96d2d76cd460d0e7'), ObjectId('68f0732a96d2d76cd460d0e8'), ObjectId('68f0732a96d2d76cd460d0e9'), ObjectId('68f0732a96d2d76cd460d0ea'), ObjectId('68f0732a96d2d76cd460d0eb'), ObjectId('68f0732a96d2d76cd460d0ec'), ObjectId('68f0732a96d2d76cd460d0ed'), ObjectId('68f0732a96d2d76cd460d0ee'), ObjectId('68f0732a96d2d76cd460d0ef'), ObjectId('68f0732a96d2d76cd460d0f0'), ObjectId('68f0732a96d2d76cd460d0f1'), ObjectId('68f0732a96d2d76cd460d0f2'), ObjectId('68f0732a96d2d76cd460d0f3'), ObjectId('68f0732a96d2d76cd460d0f4'), ObjectId('68f0732a96d2d76cd460d0f5'), ObjectId('68f0732a96d2d76cd460d0f6'), ObjectId('68f0732a96d2d76cd460d0f7'), ObjectId('68f0732a96d2d76cd460d0f8'), ObjectId('68f0732a96d2d76cd460d0f9'), ObjectId('68f0732a96d2d76cd460d0fa'), ObjectId('68f0732a96d2d76cd460d0fb'), ObjectId('68f0732a96d2d76cd460d0fc'), ObjectId('68f0732a96d2d76cd460d0fd'), ObjectId('68f0732a96d2d76cd460d0fe'), ObjectId('68f0732a96d2d76cd460d0ff'), ObjectId('68f0732a96d2d76cd460d100'), ObjectId('68f0732a96d2d76cd460d101'), ObjectId('68f0732a96d2d76cd460d102'), ObjectId('68f0732a96d2d76cd460d103'), ObjectId('68f0732a96d2d76cd460d104'), ObjectId('68f0732a96d2d76cd460d105'), ObjectId('68f0732a96d2d76cd460d106'), ObjectId('68f0732a96d2d76cd460d107'), ObjectId('68f0732a96d2d76cd460d108'), ObjectId('68f0732a96d2d76cd460d109'), ObjectId('68f0732a96d2d76cd460d10a'), ObjectId('68f0732a96d2d76cd460d10b'), ObjectId('68f0732a96d2d76cd460d10c'), ObjectId('68f0732a96d2d76cd460d10d'), ObjectId('68f0732a96d2d76cd460d10e'), ObjectId('68f0732a96d2d76cd460d10f'), ObjectId('68f0732a96d2d76cd460d110'), ObjectId('68f0732a96d2d76cd460d111'), ObjectId('68f0732a96d2d76cd460d112'), ObjectId('68f0732a96d2d76cd460d113'), ObjectId('68f0732a96d2d76cd460d114'), ObjectId('68f0732a96d2d76cd460d115'), ObjectId('68f0732a96d2d76cd460d116'), ObjectId('68f0732a96d2d76cd460d117'), ObjectId('68f0732a96d2d76cd460d118'), ObjectId('68f0732a96d2d76cd460d119'), ObjectId('68f0732a96d2d76cd460d11a'), ObjectId('68f0732a96d2d76cd460d11b'), ObjectId('68f0732a96d2d76cd460d11c'), ObjectId('68f0732a96d2d76cd460d11d'), ObjectId('68f0732a96d2d76cd460d11e'), ObjectId('68f0732a96d2d76cd460d11f'), ObjectId('68f0732a96d2d76cd460d120'), ObjectId('68f0732a96d2d76cd460d121'), ObjectId('68f0732a96d2d76cd460d122'), ObjectId('68f0732a96d2d76cd460d123'), ObjectId('68f0732a96d2d76cd460d124'), ObjectId('68f0732a96d2d76cd460d125'), ObjectId('68f0732a96d2d76cd460d126'), ObjectId('68f0732a96d2d76cd460d127'), ObjectId('68f0732a96d2d76cd460d128'), ObjectId('68f0732a96d2d76cd460d129'), ObjectId('68f0732a96d2d76cd460d12a'), ObjectId('68f0732a96d2d76cd460d12b'), ObjectId('68f0732a96d2d76cd460d12c'), ObjectId('68f0732a96d2d76cd460d12d'), ObjectId('68f0732a96d2d76cd460d12e'), ObjectId('68f0732a96d2d76cd460d12f'), ObjectId('68f0732a96d2d76cd460d130'), ObjectId('68f0732a96d2d76cd460d131'), ObjectId('68f0732a96d2d76cd460d132'), ObjectId('68f0732a96d2d76cd460d133'), ObjectId('68f0732a96d2d76cd460d134'), ObjectId('68f0732a96d2d76cd460d135'), ObjectId('68f0732a96d2d76cd460d136'), ObjectId('68f0732a96d2d76cd460d137'), ObjectId('68f0732a96d2d76cd460d138'), ObjectId('68f0732a96d2d76cd460d139'), ObjectId('68f0732a96d2d76cd460d13a'), ObjectId('68f0732a96d2d76cd460d13b'), ObjectId('68f0732a96d2d76cd460d13c'), ObjectId('68f0732a96d2d76cd460d13d'), ObjectId('68f0732a96d2d76cd460d13e'), ObjectId('68f0732a96d2d76cd460d13f'), ObjectId('68f0732a96d2d76cd460d140'), ObjectId('68f0732a96d2d76cd460d141'), ObjectId('68f0732a96d2d76cd460d142'), ObjectId('68f0732a96d2d76cd460d143'), ObjectId('68f0732a96d2d76cd460d144'), ObjectId('68f0732a96d2d76cd460d145'), ObjectId('68f0732a96d2d76cd460d146'), ObjectId('68f0732a96d2d76cd460d147'), ObjectId('68f0732a96d2d76cd460d148'), ObjectId('68f0732a96d2d76cd460d149'), ObjectId('68f0732a96d2d76cd460d14a'), ObjectId('68f0732a96d2d76cd460d14b'), ObjectId('68f0732a96d2d76cd460d14c'), ObjectId('68f0732a96d2d76cd460d14d'), ObjectId('68f0732a96d2d76cd460d14e'), ObjectId('68f0732a96d2d76cd460d14f'), ObjectId('68f0732a96d2d76cd460d150'), ObjectId('68f0732a96d2d76cd460d151'), ObjectId('68f0732a96d2d76cd460d152'), ObjectId('68f0732a96d2d76cd460d153'), ObjectId('68f0732a96d2d76cd460d154'), ObjectId('68f0732a96d2d76cd460d155'), ObjectId('68f0732a96d2d76cd460d156'), ObjectId('68f0732a96d2d76cd460d157'), ObjectId('68f0732a96d2d76cd460d158'), ObjectId('68f0732a96d2d76cd460d159'), ObjectId('68f0732a96d2d76cd460d15a'), ObjectId('68f0732a96d2d76cd460d15b'), ObjectId('68f0732a96d2d76cd460d15c'), ObjectId('68f0732a96d2d76cd460d15d'), ObjectId('68f0732a96d2d76cd460d15e'), ObjectId('68f0732a96d2d76cd460d15f'), ObjectId('68f0732a96d2d76cd460d160'), ObjectId('68f0732a96d2d76cd460d161'), ObjectId('68f0732a96d2d76cd460d162'), ObjectId('68f0732a96d2d76cd460d163'), ObjectId('68f0732a96d2d76cd460d164'), ObjectId('68f0732a96d2d76cd460d165'), ObjectId('68f0732a96d2d76cd460d166'), ObjectId('68f0732a96d2d76cd460d167'), ObjectId('68f0732a96d2d76cd460d168'), ObjectId('68f0732a96d2d76cd460d169'), ObjectId('68f0732a96d2d76cd460d16a'), ObjectId('68f0732a96d2d76cd460d16b'), ObjectId('68f0732a96d2d76cd460d16c'), ObjectId('68f0732a96d2d76cd460d16d'), ObjectId('68f0732a96d2d76cd460d16e'), ObjectId('68f0732a96d2d76cd460d16f'), ObjectId('68f0732a96d2d76cd460d170'), ObjectId('68f0732a96d2d76cd460d171'), ObjectId('68f0732a96d2d76cd460d172'), ObjectId('68f0732a96d2d76cd460d173'), ObjectId('68f0732a96d2d76cd460d174'), ObjectId('68f0732a96d2d76cd460d175'), ObjectId('68f0732a96d2d76cd460d176'), ObjectId('68f0732a96d2d76cd460d177'), ObjectId('68f0732a96d2d76cd460d178'), ObjectId('68f0732a96d2d76cd460d179'), ObjectId('68f0732a96d2d76cd460d17a'), ObjectId('68f0732a96d2d76cd460d17b'), ObjectId('68f0732a96d2d76cd460d17c'), ObjectId('68f0732a96d2d76cd460d17d'), ObjectId('68f0732a96d2d76cd460d17e'), ObjectId('68f0732a96d2d76cd460d17f'), ObjectId('68f0732a96d2d76cd460d180'), ObjectId('68f0732a96d2d76cd460d181'), ObjectId('68f0732a96d2d76cd460d182'), ObjectId('68f0732a96d2d76cd460d183'), ObjectId('68f0732a96d2d76cd460d184'), ObjectId('68f0732a96d2d76cd460d185'), ObjectId('68f0732a96d2d76cd460d186'), ObjectId('68f0732a96d2d76cd460d187'), ObjectId('68f0732a96d2d76cd460d188'), ObjectId('68f0732a96d2d76cd460d189'), ObjectId('68f0732a96d2d76cd460d18a'), ObjectId('68f0732a96d2d76cd460d18b'), ObjectId('68f0732a96d2d76cd460d18c'), ObjectId('68f0732a96d2d76cd460d18d'), ObjectId('68f0732a96d2d76cd460d18e'), ObjectId('68f0732a96d2d76cd460d18f'), ObjectId('68f0732a96d2d76cd460d190'), ObjectId('68f0732a96d2d76cd460d191'), ObjectId('68f0732a96d2d76cd460d192'), ObjectId('68f0732a96d2d76cd460d193'), ObjectId('68f0732a96d2d76cd460d194'), ObjectId('68f0732a96d2d76cd460d195'), ObjectId('68f0732a96d2d76cd460d196'), ObjectId('68f0732a96d2d76cd460d197'), ObjectId('68f0732a96d2d76cd460d198'), ObjectId('68f0732a96d2d76cd460d199'), ObjectId('68f0732a96d2d76cd460d19a'), ObjectId('68f0732a96d2d76cd460d19b'), ObjectId('68f0732a96d2d76cd460d19c'), ObjectId('68f0732a96d2d76cd460d19d'), ObjectId('68f0732a96d2d76cd460d19e'), ObjectId('68f0732a96d2d76cd460d19f'), ObjectId('68f0732a96d2d76cd460d1a0'), ObjectId('68f0732a96d2d76cd460d1a1'), ObjectId('68f0732a96d2d76cd460d1a2'), ObjectId('68f0732a96d2d76cd460d1a3'), ObjectId('68f0732a96d2d76cd460d1a4'), ObjectId('68f0732a96d2d76cd460d1a5'), ObjectId('68f0732a96d2d76cd460d1a6'), ObjectId('68f0732a96d2d76cd460d1a7'), ObjectId('68f0732a96d2d76cd460d1a8'), ObjectId('68f0732a96d2d76cd460d1a9'), ObjectId('68f0732a96d2d76cd460d1aa'), ObjectId('68f0732a96d2d76cd460d1ab'), ObjectId('68f0732a96d2d76cd460d1ac'), ObjectId('68f0732a96d2d76cd460d1ad'), ObjectId('68f0732a96d2d76cd460d1ae'), ObjectId('68f0732a96d2d76cd460d1af'), ObjectId('68f0732a96d2d76cd460d1b0'), ObjectId('68f0732a96d2d76cd460d1b1'), ObjectId('68f0732a96d2d76cd460d1b2'), ObjectId('68f0732a96d2d76cd460d1b3'), ObjectId('68f0732a96d2d76cd460d1b4'), ObjectId('68f0732a96d2d76cd460d1b5'), ObjectId('68f0732a96d2d76cd460d1b6'), ObjectId('68f0732a96d2d76cd460d1b7'), ObjectId('68f0732a96d2d76cd460d1b8'), ObjectId('68f0732a96d2d76cd460d1b9'), ObjectId('68f0732a96d2d76cd460d1ba'), ObjectId('68f0732a96d2d76cd460d1bb'), ObjectId('68f0732a96d2d76cd460d1bc'), ObjectId('68f0732a96d2d76cd460d1bd'), ObjectId('68f0732a96d2d76cd460d1be'), ObjectId('68f0732a96d2d76cd460d1bf'), ObjectId('68f0732a96d2d76cd460d1c0'), ObjectId('68f0732a96d2d76cd460d1c1'), ObjectId('68f0732a96d2d76cd460d1c2'), ObjectId('68f0732a96d2d76cd460d1c3'), ObjectId('68f0732a96d2d76cd460d1c4'), ObjectId('68f0732a96d2d76cd460d1c5'), ObjectId('68f0732a96d2d76cd460d1c6'), ObjectId('68f0732a96d2d76cd460d1c7'), ObjectId('68f0732a96d2d76cd460d1c8'), ObjectId('68f0732a96d2d76cd460d1c9'), ObjectId('68f0732a96d2d76cd460d1ca'), ObjectId('68f0732a96d2d76cd460d1cb'), ObjectId('68f0732a96d2d76cd460d1cc'), ObjectId('68f0732a96d2d76cd460d1cd'), ObjectId('68f0732a96d2d76cd460d1ce'), ObjectId('68f0732a96d2d76cd460d1cf'), ObjectId('68f0732a96d2d76cd460d1d0'), ObjectId('68f0732a96d2d76cd460d1d1'), ObjectId('68f0732a96d2d76cd460d1d2'), ObjectId('68f0732a96d2d76cd460d1d3'), ObjectId('68f0732a96d2d76cd460d1d4'), ObjectId('68f0732a96d2d76cd460d1d5'), ObjectId('68f0732a96d2d76cd460d1d6'), ObjectId('68f0732a96d2d76cd460d1d7'), ObjectId('68f0732a96d2d76cd460d1d8'), ObjectId('68f0732a96d2d76cd460d1d9'), ObjectId('68f0732a96d2d76cd460d1da'), ObjectId('68f0732a96d2d76cd460d1db'), ObjectId('68f0732a96d2d76cd460d1dc'), ObjectId('68f0732a96d2d76cd460d1dd'), ObjectId('68f0732a96d2d76cd460d1de'), ObjectId('68f0732a96d2d76cd460d1df'), ObjectId('68f0732a96d2d76cd460d1e0'), ObjectId('68f0732a96d2d76cd460d1e1'), ObjectId('68f0732a96d2d76cd460d1e2'), ObjectId('68f0732a96d2d76cd460d1e3'), ObjectId('68f0732a96d2d76cd460d1e4'), ObjectId('68f0732a96d2d76cd460d1e5'), ObjectId('68f0732a96d2d76cd460d1e6'), ObjectId('68f0732a96d2d76cd460d1e7'), ObjectId('68f0732a96d2d76cd460d1e8'), ObjectId('68f0732a96d2d76cd460d1e9'), ObjectId('68f0732a96d2d76cd460d1ea'), ObjectId('68f0732a96d2d76cd460d1eb'), ObjectId('68f0732a96d2d76cd460d1ec'), ObjectId('68f0732a96d2d76cd460d1ed'), ObjectId('68f0732a96d2d76cd460d1ee'), ObjectId('68f0732a96d2d76cd460d1ef'), ObjectId('68f0732a96d2d76cd460d1f0'), ObjectId('68f0732a96d2d76cd460d1f1'), ObjectId('68f0732a96d2d76cd460d1f2'), ObjectId('68f0732a96d2d76cd460d1f3'), ObjectId('68f0732a96d2d76cd460d1f4'), ObjectId('68f0732a96d2d76cd460d1f5'), ObjectId('68f0732a96d2d76cd460d1f6'), ObjectId('68f0732a96d2d76cd460d1f7'), ObjectId('68f0732a96d2d76cd460d1f8'), ObjectId('68f0732a96d2d76cd460d1f9'), ObjectId('68f0732a96d2d76cd460d1fa'), ObjectId('68f0732a96d2d76cd460d1fb'), ObjectId('68f0732a96d2d76cd460d1fc'), ObjectId('68f0732a96d2d76cd460d1fd'), ObjectId('68f0732a96d2d76cd460d1fe'), ObjectId('68f0732a96d2d76cd460d1ff'), ObjectId('68f0732a96d2d76cd460d200'), ObjectId('68f0732a96d2d76cd460d201'), ObjectId('68f0732a96d2d76cd460d202'), ObjectId('68f0732a96d2d76cd460d203'), ObjectId('68f0732a96d2d76cd460d204'), ObjectId('68f0732a96d2d76cd460d205'), ObjectId('68f0732a96d2d76cd460d206'), ObjectId('68f0732a96d2d76cd460d207'), ObjectId('68f0732a96d2d76cd460d208'), ObjectId('68f0732a96d2d76cd460d209'), ObjectId('68f0732a96d2d76cd460d20a'), ObjectId('68f0732a96d2d76cd460d20b'), ObjectId('68f0732a96d2d76cd460d20c'), ObjectId('68f0732a96d2d76cd460d20d'), ObjectId('68f0732a96d2d76cd460d20e'), ObjectId('68f0732a96d2d76cd460d20f'), ObjectId('68f0732a96d2d76cd460d210'), ObjectId('68f0732a96d2d76cd460d211'), ObjectId('68f0732a96d2d76cd460d212'), ObjectId('68f0732a96d2d76cd460d213'), ObjectId('68f0732a96d2d76cd460d214'), ObjectId('68f0732a96d2d76cd460d215'), ObjectId('68f0732a96d2d76cd460d216'), ObjectId('68f0732a96d2d76cd460d217'), ObjectId('68f0732a96d2d76cd460d218'), ObjectId('68f0732a96d2d76cd460d219'), ObjectId('68f0732a96d2d76cd460d21a'), ObjectId('68f0732a96d2d76cd460d21b'), ObjectId('68f0732a96d2d76cd460d21c'), ObjectId('68f0732a96d2d76cd460d21d'), ObjectId('68f0732a96d2d76cd460d21e'), ObjectId('68f0732a96d2d76cd460d21f'), ObjectId('68f0732a96d2d76cd460d220'), ObjectId('68f0732a96d2d76cd460d221'), ObjectId('68f0732a96d2d76cd460d222'), ObjectId('68f0732a96d2d76cd460d223'), ObjectId('68f0732a96d2d76cd460d224'), ObjectId('68f0732a96d2d76cd460d225'), ObjectId('68f0732a96d2d76cd460d226'), ObjectId('68f0732a96d2d76cd460d227'), ObjectId('68f0732a96d2d76cd460d228'), ObjectId('68f0732a96d2d76cd460d229'), ObjectId('68f0732a96d2d76cd460d22a'), ObjectId('68f0732a96d2d76cd460d22b'), ObjectId('68f0732a96d2d76cd460d22c'), ObjectId('68f0732a96d2d76cd460d22d'), ObjectId('68f0732a96d2d76cd460d22e'), ObjectId('68f0732a96d2d76cd460d22f'), ObjectId('68f0732a96d2d76cd460d230'), ObjectId('68f0732a96d2d76cd460d231'), ObjectId('68f0732a96d2d76cd460d232'), ObjectId('68f0732a96d2d76cd460d233'), ObjectId('68f0732a96d2d76cd460d234'), ObjectId('68f0732a96d2d76cd460d235'), ObjectId('68f0732a96d2d76cd460d236'), ObjectId('68f0732a96d2d76cd460d237'), ObjectId('68f0732a96d2d76cd460d238'), ObjectId('68f0732a96d2d76cd460d239'), ObjectId('68f0732a96d2d76cd460d23a'), ObjectId('68f0732a96d2d76cd460d23b'), ObjectId('68f0732a96d2d76cd460d23c'), ObjectId('68f0732a96d2d76cd460d23d'), ObjectId('68f0732a96d2d76cd460d23e'), ObjectId('68f0732a96d2d76cd460d23f'), ObjectId('68f0732a96d2d76cd460d240'), ObjectId('68f0732a96d2d76cd460d241'), ObjectId('68f0732a96d2d76cd460d242'), ObjectId('68f0732a96d2d76cd460d243'), ObjectId('68f0732a96d2d76cd460d244'), ObjectId('68f0732a96d2d76cd460d245'), ObjectId('68f0732a96d2d76cd460d246'), ObjectId('68f0732a96d2d76cd460d247'), ObjectId('68f0732a96d2d76cd460d248'), ObjectId('68f0732a96d2d76cd460d249'), ObjectId('68f0732a96d2d76cd460d24a'), ObjectId('68f0732a96d2d76cd460d24b'), ObjectId('68f0732a96d2d76cd460d24c'), ObjectId('68f0732a96d2d76cd460d24d'), ObjectId('68f0732a96d2d76cd460d24e'), ObjectId('68f0732a96d2d76cd460d24f'), ObjectId('68f0732a96d2d76cd460d250'), ObjectId('68f0732a96d2d76cd460d251'), ObjectId('68f0732a96d2d76cd460d252'), ObjectId('68f0732a96d2d76cd460d253'), ObjectId('68f0732a96d2d76cd460d254'), ObjectId('68f0732a96d2d76cd460d255'), ObjectId('68f0732a96d2d76cd460d256'), ObjectId('68f0732a96d2d76cd460d257'), ObjectId('68f0732a96d2d76cd460d258'), ObjectId('68f0732a96d2d76cd460d259'), ObjectId('68f0732a96d2d76cd460d25a'), ObjectId('68f0732a96d2d76cd460d25b'), ObjectId('68f0732a96d2d76cd460d25c'), ObjectId('68f0732a96d2d76cd460d25d'), ObjectId('68f0732a96d2d76cd460d25e'), ObjectId('68f0732a96d2d76cd460d25f'), ObjectId('68f0732a96d2d76cd460d260'), ObjectId('68f0732a96d2d76cd460d261'), ObjectId('68f0732a96d2d76cd460d262'), ObjectId('68f0732a96d2d76cd460d263'), ObjectId('68f0732a96d2d76cd460d264'), ObjectId('68f0732a96d2d76cd460d265'), ObjectId('68f0732a96d2d76cd460d266'), ObjectId('68f0732a96d2d76cd460d267'), ObjectId('68f0732a96d2d76cd460d268'), ObjectId('68f0732a96d2d76cd460d269'), ObjectId('68f0732a96d2d76cd460d26a'), ObjectId('68f0732a96d2d76cd460d26b'), ObjectId('68f0732a96d2d76cd460d26c'), ObjectId('68f0732a96d2d76cd460d26d'), ObjectId('68f0732a96d2d76cd460d26e'), ObjectId('68f0732a96d2d76cd460d26f'), ObjectId('68f0732a96d2d76cd460d270'), ObjectId('68f0732a96d2d76cd460d271'), ObjectId('68f0732a96d2d76cd460d272'), ObjectId('68f0732a96d2d76cd460d273'), ObjectId('68f0732a96d2d76cd460d274'), ObjectId('68f0732a96d2d76cd460d275'), ObjectId('68f0732a96d2d76cd460d276'), ObjectId('68f0732a96d2d76cd460d277'), ObjectId('68f0732a96d2d76cd460d278'), ObjectId('68f0732a96d2d76cd460d279'), ObjectId('68f0732a96d2d76cd460d27a'), ObjectId('68f0732a96d2d76cd460d27b'), ObjectId('68f0732a96d2d76cd460d27c'), ObjectId('68f0732a96d2d76cd460d27d'), ObjectId('68f0732a96d2d76cd460d27e'), ObjectId('68f0732a96d2d76cd460d27f'), ObjectId('68f0732a96d2d76cd460d280'), ObjectId('68f0732a96d2d76cd460d281'), ObjectId('68f0732a96d2d76cd460d282'), ObjectId('68f0732a96d2d76cd460d283'), ObjectId('68f0732a96d2d76cd460d284'), ObjectId('68f0732a96d2d76cd460d285'), ObjectId('68f0732a96d2d76cd460d286'), ObjectId('68f0732a96d2d76cd460d287'), ObjectId('68f0732a96d2d76cd460d288'), ObjectId('68f0732a96d2d76cd460d289'), ObjectId('68f0732a96d2d76cd460d28a'), ObjectId('68f0732a96d2d76cd460d28b'), ObjectId('68f0732a96d2d76cd460d28c'), ObjectId('68f0732a96d2d76cd460d28d'), ObjectId('68f0732a96d2d76cd460d28e'), ObjectId('68f0732a96d2d76cd460d28f'), ObjectId('68f0732a96d2d76cd460d290'), ObjectId('68f0732a96d2d76cd460d291'), ObjectId('68f0732a96d2d76cd460d292'), ObjectId('68f0732a96d2d76cd460d293'), ObjectId('68f0732a96d2d76cd460d294'), ObjectId('68f0732a96d2d76cd460d295'), ObjectId('68f0732a96d2d76cd460d296'), ObjectId('68f0732a96d2d76cd460d297'), ObjectId('68f0732a96d2d76cd460d298'), ObjectId('68f0732a96d2d76cd460d299'), ObjectId('68f0732a96d2d76cd460d29a'), ObjectId('68f0732a96d2d76cd460d29b'), ObjectId('68f0732a96d2d76cd460d29c'), ObjectId('68f0732a96d2d76cd460d29d'), ObjectId('68f0732a96d2d76cd460d29e'), ObjectId('68f0732a96d2d76cd460d29f'), ObjectId('68f0732a96d2d76cd460d2a0'), ObjectId('68f0732a96d2d76cd460d2a1'), ObjectId('68f0732a96d2d76cd460d2a2'), ObjectId('68f0732a96d2d76cd460d2a3'), ObjectId('68f0732a96d2d76cd460d2a4'), ObjectId('68f0732a96d2d76cd460d2a5'), ObjectId('68f0732a96d2d76cd460d2a6'), ObjectId('68f0732a96d2d76cd460d2a7'), ObjectId('68f0732a96d2d76cd460d2a8'), ObjectId('68f0732a96d2d76cd460d2a9'), ObjectId('68f0732a96d2d76cd460d2aa'), ObjectId('68f0732a96d2d76cd460d2ab'), ObjectId('68f0732a96d2d76cd460d2ac'), ObjectId('68f0732a96d2d76cd460d2ad'), ObjectId('68f0732a96d2d76cd460d2ae'), ObjectId('68f0732a96d2d76cd460d2af'), ObjectId('68f0732a96d2d76cd460d2b0'), ObjectId('68f0732a96d2d76cd460d2b1'), ObjectId('68f0732a96d2d76cd460d2b2'), ObjectId('68f0732a96d2d76cd460d2b3'), ObjectId('68f0732a96d2d76cd460d2b4'), ObjectId('68f0732a96d2d76cd460d2b5'), ObjectId('68f0732a96d2d76cd460d2b6'), ObjectId('68f0732a96d2d76cd460d2b7'), ObjectId('68f0732a96d2d76cd460d2b8'), ObjectId('68f0732a96d2d76cd460d2b9'), ObjectId('68f0732a96d2d76cd460d2ba'), ObjectId('68f0732a96d2d76cd460d2bb'), ObjectId('68f0732a96d2d76cd460d2bc'), ObjectId('68f0732a96d2d76cd460d2bd'), ObjectId('68f0732a96d2d76cd460d2be'), ObjectId('68f0732a96d2d76cd460d2bf'), ObjectId('68f0732a96d2d76cd460d2c0'), ObjectId('68f0732a96d2d76cd460d2c1'), ObjectId('68f0732a96d2d76cd460d2c2'), ObjectId('68f0732a96d2d76cd460d2c3'), ObjectId('68f0732a96d2d76cd460d2c4'), ObjectId('68f0732a96d2d76cd460d2c5'), ObjectId('68f0732a96d2d76cd460d2c6'), ObjectId('68f0732a96d2d76cd460d2c7'), ObjectId('68f0732a96d2d76cd460d2c8'), ObjectId('68f0732a96d2d76cd460d2c9'), ObjectId('68f0732a96d2d76cd460d2ca'), ObjectId('68f0732a96d2d76cd460d2cb'), ObjectId('68f0732a96d2d76cd460d2cc'), ObjectId('68f0732a96d2d76cd460d2cd'), ObjectId('68f0732a96d2d76cd460d2ce'), ObjectId('68f0732a96d2d76cd460d2cf'), ObjectId('68f0732a96d2d76cd460d2d0'), ObjectId('68f0732a96d2d76cd460d2d1'), ObjectId('68f0732a96d2d76cd460d2d2'), ObjectId('68f0732a96d2d76cd460d2d3'), ObjectId('68f0732a96d2d76cd460d2d4'), ObjectId('68f0732a96d2d76cd460d2d5'), ObjectId('68f0732a96d2d76cd460d2d6'), ObjectId('68f0732a96d2d76cd460d2d7'), ObjectId('68f0732a96d2d76cd460d2d8'), ObjectId('68f0732a96d2d76cd460d2d9'), ObjectId('68f0732a96d2d76cd460d2da'), ObjectId('68f0732a96d2d76cd460d2db'), ObjectId('68f0732a96d2d76cd460d2dc'), ObjectId('68f0732a96d2d76cd460d2dd'), ObjectId('68f0732a96d2d76cd460d2de'), ObjectId('68f0732a96d2d76cd460d2df'), ObjectId('68f0732a96d2d76cd460d2e0'), ObjectId('68f0732a96d2d76cd460d2e1'), ObjectId('68f0732a96d2d76cd460d2e2'), ObjectId('68f0732a96d2d76cd460d2e3'), ObjectId('68f0732a96d2d76cd460d2e4'), ObjectId('68f0732a96d2d76cd460d2e5'), ObjectId('68f0732a96d2d76cd460d2e6'), ObjectId('68f0732a96d2d76cd460d2e7'), ObjectId('68f0732a96d2d76cd460d2e8'), ObjectId('68f0732a96d2d76cd460d2e9'), ObjectId('68f0732a96d2d76cd460d2ea'), ObjectId('68f0732a96d2d76cd460d2eb'), ObjectId('68f0732a96d2d76cd460d2ec'), ObjectId('68f0732a96d2d76cd460d2ed'), ObjectId('68f0732a96d2d76cd460d2ee'), ObjectId('68f0732a96d2d76cd460d2ef'), ObjectId('68f0732a96d2d76cd460d2f0'), ObjectId('68f0732a96d2d76cd460d2f1'), ObjectId('68f0732a96d2d76cd460d2f2'), ObjectId('68f0732a96d2d76cd460d2f3'), ObjectId('68f0732a96d2d76cd460d2f4'), ObjectId('68f0732a96d2d76cd460d2f5'), ObjectId('68f0732a96d2d76cd460d2f6'), ObjectId('68f0732a96d2d76cd460d2f7'), ObjectId('68f0732a96d2d76cd460d2f8'), ObjectId('68f0732a96d2d76cd460d2f9'), ObjectId('68f0732a96d2d76cd460d2fa'), ObjectId('68f0732a96d2d76cd460d2fb'), ObjectId('68f0732a96d2d76cd460d2fc'), ObjectId('68f0732a96d2d76cd460d2fd'), ObjectId('68f0732a96d2d76cd460d2fe'), ObjectId('68f0732a96d2d76cd460d2ff'), ObjectId('68f0732a96d2d76cd460d300'), ObjectId('68f0732a96d2d76cd460d301'), ObjectId('68f0732a96d2d76cd460d302'), ObjectId('68f0732a96d2d76cd460d303'), ObjectId('68f0732a96d2d76cd460d304'), ObjectId('68f0732a96d2d76cd460d305'), ObjectId('68f0732a96d2d76cd460d306'), ObjectId('68f0732a96d2d76cd460d307'), ObjectId('68f0732a96d2d76cd460d308'), ObjectId('68f0732a96d2d76cd460d309'), ObjectId('68f0732a96d2d76cd460d30a'), ObjectId('68f0732a96d2d76cd460d30b'), ObjectId('68f0732a96d2d76cd460d30c'), ObjectId('68f0732a96d2d76cd460d30d'), ObjectId('68f0732a96d2d76cd460d30e'), ObjectId('68f0732a96d2d76cd460d30f'), ObjectId('68f0732a96d2d76cd460d310'), ObjectId('68f0732a96d2d76cd460d311'), ObjectId('68f0732a96d2d76cd460d312'), ObjectId('68f0732a96d2d76cd460d313'), ObjectId('68f0732a96d2d76cd460d314'), ObjectId('68f0732a96d2d76cd460d315'), ObjectId('68f0732a96d2d76cd460d316'), ObjectId('68f0732a96d2d76cd460d317'), ObjectId('68f0732a96d2d76cd460d318'), ObjectId('68f0732a96d2d76cd460d319'), ObjectId('68f0732a96d2d76cd460d31a'), ObjectId('68f0732a96d2d76cd460d31b'), ObjectId('68f0732a96d2d76cd460d31c'), ObjectId('68f0732a96d2d76cd460d31d'), ObjectId('68f0732a96d2d76cd460d31e'), ObjectId('68f0732a96d2d76cd460d31f'), ObjectId('68f0732a96d2d76cd460d320'), ObjectId('68f0732a96d2d76cd460d321'), ObjectId('68f0732a96d2d76cd460d322'), ObjectId('68f0732a96d2d76cd460d323'), ObjectId('68f0732a96d2d76cd460d324'), ObjectId('68f0732a96d2d76cd460d325'), ObjectId('68f0732a96d2d76cd460d326'), ObjectId('68f0732a96d2d76cd460d327'), ObjectId('68f0732a96d2d76cd460d328'), ObjectId('68f0732a96d2d76cd460d329'), ObjectId('68f0732a96d2d76cd460d32a'), ObjectId('68f0732a96d2d76cd460d32b'), ObjectId('68f0732a96d2d76cd460d32c'), ObjectId('68f0732a96d2d76cd460d32d'), ObjectId('68f0732a96d2d76cd460d32e'), ObjectId('68f0732a96d2d76cd460d32f'), ObjectId('68f0732a96d2d76cd460d330'), ObjectId('68f0732a96d2d76cd460d331'), ObjectId('68f0732a96d2d76cd460d332'), ObjectId('68f0732a96d2d76cd460d333'), ObjectId('68f0732a96d2d76cd460d334'), ObjectId('68f0732a96d2d76cd460d335'), ObjectId('68f0732a96d2d76cd460d336'), ObjectId('68f0732a96d2d76cd460d337'), ObjectId('68f0732a96d2d76cd460d338'), ObjectId('68f0732a96d2d76cd460d339'), ObjectId('68f0732a96d2d76cd460d33a'), ObjectId('68f0732a96d2d76cd460d33b'), ObjectId('68f0732a96d2d76cd460d33c'), ObjectId('68f0732a96d2d76cd460d33d'), ObjectId('68f0732a96d2d76cd460d33e'), ObjectId('68f0732a96d2d76cd460d33f'), ObjectId('68f0732a96d2d76cd460d340'), ObjectId('68f0732a96d2d76cd460d341'), ObjectId('68f0732a96d2d76cd460d342'), ObjectId('68f0732a96d2d76cd460d343'), ObjectId('68f0732a96d2d76cd460d344'), ObjectId('68f0732a96d2d76cd460d345'), ObjectId('68f0732a96d2d76cd460d346'), ObjectId('68f0732a96d2d76cd460d347'), ObjectId('68f0732a96d2d76cd460d348'), ObjectId('68f0732a96d2d76cd460d349'), ObjectId('68f0732a96d2d76cd460d34a'), ObjectId('68f0732a96d2d76cd460d34b'), ObjectId('68f0732a96d2d76cd460d34c'), ObjectId('68f0732a96d2d76cd460d34d'), ObjectId('68f0732a96d2d76cd460d34e'), ObjectId('68f0732a96d2d76cd460d34f'), ObjectId('68f0732a96d2d76cd460d350'), ObjectId('68f0732a96d2d76cd460d351'), ObjectId('68f0732a96d2d76cd460d352'), ObjectId('68f0732a96d2d76cd460d353'), ObjectId('68f0732a96d2d76cd460d354'), ObjectId('68f0732a96d2d76cd460d355'), ObjectId('68f0732a96d2d76cd460d356'), ObjectId('68f0732a96d2d76cd460d357'), ObjectId('68f0732a96d2d76cd460d358'), ObjectId('68f0732a96d2d76cd460d359'), ObjectId('68f0732a96d2d76cd460d35a'), ObjectId('68f0732a96d2d76cd460d35b'), ObjectId('68f0732a96d2d76cd460d35c'), ObjectId('68f0732a96d2d76cd460d35d'), ObjectId('68f0732a96d2d76cd460d35e'), ObjectId('68f0732a96d2d76cd460d35f'), ObjectId('68f0732a96d2d76cd460d360'), ObjectId('68f0732a96d2d76cd460d361'), ObjectId('68f0732a96d2d76cd460d362'), ObjectId('68f0732a96d2d76cd460d363'), ObjectId('68f0732a96d2d76cd460d364'), ObjectId('68f0732a96d2d76cd460d365'), ObjectId('68f0732a96d2d76cd460d366'), ObjectId('68f0732a96d2d76cd460d367'), ObjectId('68f0732a96d2d76cd460d368'), ObjectId('68f0732a96d2d76cd460d369'), ObjectId('68f0732a96d2d76cd460d36a'), ObjectId('68f0732a96d2d76cd460d36b'), ObjectId('68f0732a96d2d76cd460d36c'), ObjectId('68f0732a96d2d76cd460d36d'), ObjectId('68f0732a96d2d76cd460d36e'), ObjectId('68f0732a96d2d76cd460d36f'), ObjectId('68f0732a96d2d76cd460d370'), ObjectId('68f0732a96d2d76cd460d371'), ObjectId('68f0732a96d2d76cd460d372'), ObjectId('68f0732a96d2d76cd460d373'), ObjectId('68f0732a96d2d76cd460d374'), ObjectId('68f0732a96d2d76cd460d375'), ObjectId('68f0732a96d2d76cd460d376'), ObjectId('68f0732a96d2d76cd460d377'), ObjectId('68f0732a96d2d76cd460d378'), ObjectId('68f0732a96d2d76cd460d379'), ObjectId('68f0732a96d2d76cd460d37a'), ObjectId('68f0732a96d2d76cd460d37b'), ObjectId('68f0732a96d2d76cd460d37c'), ObjectId('68f0732a96d2d76cd460d37d'), ObjectId('68f0732a96d2d76cd460d37e'), ObjectId('68f0732a96d2d76cd460d37f'), ObjectId('68f0732a96d2d76cd460d380'), ObjectId('68f0732a96d2d76cd460d381'), ObjectId('68f0732a96d2d76cd460d382'), ObjectId('68f0732a96d2d76cd460d383'), ObjectId('68f0732a96d2d76cd460d384'), ObjectId('68f0732a96d2d76cd460d385'), ObjectId('68f0732a96d2d76cd460d386'), ObjectId('68f0732a96d2d76cd460d387'), ObjectId('68f0732a96d2d76cd460d388'), ObjectId('68f0732a96d2d76cd460d389'), ObjectId('68f0732a96d2d76cd460d38a'), ObjectId('68f0732a96d2d76cd460d38b'), ObjectId('68f0732a96d2d76cd460d38c'), ObjectId('68f0732a96d2d76cd460d38d'), ObjectId('68f0732a96d2d76cd460d38e'), ObjectId('68f0732a96d2d76cd460d38f'), ObjectId('68f0732a96d2d76cd460d390'), ObjectId('68f0732a96d2d76cd460d391'), ObjectId('68f0732a96d2d76cd460d392'), ObjectId('68f0732a96d2d76cd460d393'), ObjectId('68f0732a96d2d76cd460d394'), ObjectId('68f0732a96d2d76cd460d395'), ObjectId('68f0732a96d2d76cd460d396'), ObjectId('68f0732a96d2d76cd460d397'), ObjectId('68f0732a96d2d76cd460d398'), ObjectId('68f0732a96d2d76cd460d399'), ObjectId('68f0732a96d2d76cd460d39a'), ObjectId('68f0732a96d2d76cd460d39b'), ObjectId('68f0732a96d2d76cd460d39c'), ObjectId('68f0732a96d2d76cd460d39d'), ObjectId('68f0732a96d2d76cd460d39e'), ObjectId('68f0732a96d2d76cd460d39f'), ObjectId('68f0732a96d2d76cd460d3a0'), ObjectId('68f0732a96d2d76cd460d3a1'), ObjectId('68f0732a96d2d76cd460d3a2'), ObjectId('68f0732a96d2d76cd460d3a3'), ObjectId('68f0732a96d2d76cd460d3a4'), ObjectId('68f0732a96d2d76cd460d3a5'), ObjectId('68f0732a96d2d76cd460d3a6'), ObjectId('68f0732a96d2d76cd460d3a7'), ObjectId('68f0732a96d2d76cd460d3a8'), ObjectId('68f0732a96d2d76cd460d3a9'), ObjectId('68f0732a96d2d76cd460d3aa'), ObjectId('68f0732a96d2d76cd460d3ab'), ObjectId('68f0732a96d2d76cd460d3ac'), ObjectId('68f0732a96d2d76cd460d3ad'), ObjectId('68f0732a96d2d76cd460d3ae'), ObjectId('68f0732a96d2d76cd460d3af'), ObjectId('68f0732a96d2d76cd460d3b0'), ObjectId('68f0732a96d2d76cd460d3b1'), ObjectId('68f0732a96d2d76cd460d3b2'), ObjectId('68f0732a96d2d76cd460d3b3'), ObjectId('68f0732a96d2d76cd460d3b4'), ObjectId('68f0732a96d2d76cd460d3b5'), ObjectId('68f0732a96d2d76cd460d3b6'), ObjectId('68f0732a96d2d76cd460d3b7'), ObjectId('68f0732a96d2d76cd460d3b8'), ObjectId('68f0732a96d2d76cd460d3b9'), ObjectId('68f0732a96d2d76cd460d3ba'), ObjectId('68f0732a96d2d76cd460d3bb'), ObjectId('68f0732a96d2d76cd460d3bc'), ObjectId('68f0732a96d2d76cd460d3bd'), ObjectId('68f0732a96d2d76cd460d3be'), ObjectId('68f0732a96d2d76cd460d3bf'), ObjectId('68f0732a96d2d76cd460d3c0'), ObjectId('68f0732a96d2d76cd460d3c1'), ObjectId('68f0732a96d2d76cd460d3c2'), ObjectId('68f0732a96d2d76cd460d3c3'), ObjectId('68f0732a96d2d76cd460d3c4'), ObjectId('68f0732a96d2d76cd460d3c5'), ObjectId('68f0732a96d2d76cd460d3c6'), ObjectId('68f0732a96d2d76cd460d3c7'), ObjectId('68f0732a96d2d76cd460d3c8'), ObjectId('68f0732a96d2d76cd460d3c9'), ObjectId('68f0732a96d2d76cd460d3ca'), ObjectId('68f0732a96d2d76cd460d3cb'), ObjectId('68f0732a96d2d76cd460d3cc'), ObjectId('68f0732a96d2d76cd460d3cd'), ObjectId('68f0732a96d2d76cd460d3ce'), ObjectId('68f0732a96d2d76cd460d3cf'), ObjectId('68f0732a96d2d76cd460d3d0'), ObjectId('68f0732a96d2d76cd460d3d1'), ObjectId('68f0732a96d2d76cd460d3d2'), ObjectId('68f0732a96d2d76cd460d3d3'), ObjectId('68f0732a96d2d76cd460d3d4'), ObjectId('68f0732a96d2d76cd460d3d5'), ObjectId('68f0732a96d2d76cd460d3d6'), ObjectId('68f0732a96d2d76cd460d3d7'), ObjectId('68f0732a96d2d76cd460d3d8'), ObjectId('68f0732a96d2d76cd460d3d9'), ObjectId('68f0732a96d2d76cd460d3da'), ObjectId('68f0732a96d2d76cd460d3db'), ObjectId('68f0732a96d2d76cd460d3dc'), ObjectId('68f0732a96d2d76cd460d3dd'), ObjectId('68f0732a96d2d76cd460d3de'), ObjectId('68f0732a96d2d76cd460d3df'), ObjectId('68f0732a96d2d76cd460d3e0'), ObjectId('68f0732a96d2d76cd460d3e1'), ObjectId('68f0732a96d2d76cd460d3e2'), ObjectId('68f0732a96d2d76cd460d3e3'), ObjectId('68f0732a96d2d76cd460d3e4'), ObjectId('68f0732a96d2d76cd460d3e5'), ObjectId('68f0732a96d2d76cd460d3e6'), ObjectId('68f0732a96d2d76cd460d3e7'), ObjectId('68f0732a96d2d76cd460d3e8'), ObjectId('68f0732a96d2d76cd460d3e9'), ObjectId('68f0732a96d2d76cd460d3ea'), ObjectId('68f0732a96d2d76cd460d3eb'), ObjectId('68f0732a96d2d76cd460d3ec'), ObjectId('68f0732a96d2d76cd460d3ed'), ObjectId('68f0732a96d2d76cd460d3ee'), ObjectId('68f0732a96d2d76cd460d3ef'), ObjectId('68f0732a96d2d76cd460d3f0'), ObjectId('68f0732a96d2d76cd460d3f1'), ObjectId('68f0732a96d2d76cd460d3f2'), ObjectId('68f0732a96d2d76cd460d3f3'), ObjectId('68f0732a96d2d76cd460d3f4'), ObjectId('68f0732a96d2d76cd460d3f5'), ObjectId('68f0732a96d2d76cd460d3f6'), ObjectId('68f0732a96d2d76cd460d3f7'), ObjectId('68f0732a96d2d76cd460d3f8'), ObjectId('68f0732a96d2d76cd460d3f9'), ObjectId('68f0732a96d2d76cd460d3fa'), ObjectId('68f0732a96d2d76cd460d3fb'), ObjectId('68f0732a96d2d76cd460d3fc'), ObjectId('68f0732a96d2d76cd460d3fd'), ObjectId('68f0732a96d2d76cd460d3fe'), ObjectId('68f0732a96d2d76cd460d3ff'), ObjectId('68f0732a96d2d76cd460d400'), ObjectId('68f0732a96d2d76cd460d401'), ObjectId('68f0732a96d2d76cd460d402'), ObjectId('68f0732a96d2d76cd460d403'), ObjectId('68f0732a96d2d76cd460d404'), ObjectId('68f0732a96d2d76cd460d405'), ObjectId('68f0732a96d2d76cd460d406'), ObjectId('68f0732a96d2d76cd460d407'), ObjectId('68f0732a96d2d76cd460d408'), ObjectId('68f0732a96d2d76cd460d409'), ObjectId('68f0732a96d2d76cd460d40a'), ObjectId('68f0732a96d2d76cd460d40b'), ObjectId('68f0732a96d2d76cd460d40c'), ObjectId('68f0732a96d2d76cd460d40d'), ObjectId('68f0732a96d2d76cd460d40e'), ObjectId('68f0732a96d2d76cd460d40f'), ObjectId('68f0732a96d2d76cd460d410'), ObjectId('68f0732a96d2d76cd460d411'), ObjectId('68f0732a96d2d76cd460d412'), ObjectId('68f0732a96d2d76cd460d413'), ObjectId('68f0732a96d2d76cd460d414'), ObjectId('68f0732a96d2d76cd460d415'), ObjectId('68f0732a96d2d76cd460d416'), ObjectId('68f0732a96d2d76cd460d417'), ObjectId('68f0732a96d2d76cd460d418'), ObjectId('68f0732a96d2d76cd460d419'), ObjectId('68f0732a96d2d76cd460d41a'), ObjectId('68f0732a96d2d76cd460d41b'), ObjectId('68f0732a96d2d76cd460d41c'), ObjectId('68f0732a96d2d76cd460d41d'), ObjectId('68f0732a96d2d76cd460d41e'), ObjectId('68f0732a96d2d76cd460d41f'), ObjectId('68f0732a96d2d76cd460d420'), ObjectId('68f0732a96d2d76cd460d421'), ObjectId('68f0732a96d2d76cd460d422'), ObjectId('68f0732a96d2d76cd460d423'), ObjectId('68f0732a96d2d76cd460d424'), ObjectId('68f0732a96d2d76cd460d425'), ObjectId('68f0732a96d2d76cd460d426'), ObjectId('68f0732a96d2d76cd460d427'), ObjectId('68f0732a96d2d76cd460d428'), ObjectId('68f0732a96d2d76cd460d429'), ObjectId('68f0732a96d2d76cd460d42a'), ObjectId('68f0732a96d2d76cd460d42b'), ObjectId('68f0732a96d2d76cd460d42c'), ObjectId('68f0732a96d2d76cd460d42d'), ObjectId('68f0732a96d2d76cd460d42e'), ObjectId('68f0732a96d2d76cd460d42f'), ObjectId('68f0732a96d2d76cd460d430'), ObjectId('68f0732a96d2d76cd460d431'), ObjectId('68f0732a96d2d76cd460d432'), ObjectId('68f0732a96d2d76cd460d433'), ObjectId('68f0732a96d2d76cd460d434'), ObjectId('68f0732a96d2d76cd460d435'), ObjectId('68f0732a96d2d76cd460d436'), ObjectId('68f0732a96d2d76cd460d437'), ObjectId('68f0732a96d2d76cd460d438'), ObjectId('68f0732a96d2d76cd460d439'), ObjectId('68f0732a96d2d76cd460d43a'), ObjectId('68f0732a96d2d76cd460d43b'), ObjectId('68f0732a96d2d76cd460d43c'), ObjectId('68f0732a96d2d76cd460d43d'), ObjectId('68f0732a96d2d76cd460d43e'), ObjectId('68f0732a96d2d76cd460d43f'), ObjectId('68f0732a96d2d76cd460d440'), ObjectId('68f0732a96d2d76cd460d441'), ObjectId('68f0732a96d2d76cd460d442'), ObjectId('68f0732a96d2d76cd460d443'), ObjectId('68f0732a96d2d76cd460d444'), ObjectId('68f0732a96d2d76cd460d445'), ObjectId('68f0732a96d2d76cd460d446'), ObjectId('68f0732a96d2d76cd460d447'), ObjectId('68f0732a96d2d76cd460d448'), ObjectId('68f0732a96d2d76cd460d449'), ObjectId('68f0732a96d2d76cd460d44a'), ObjectId('68f0732a96d2d76cd460d44b'), ObjectId('68f0732a96d2d76cd460d44c'), ObjectId('68f0732a96d2d76cd460d44d'), ObjectId('68f0732a96d2d76cd460d44e'), ObjectId('68f0732a96d2d76cd460d44f'), ObjectId('68f0732a96d2d76cd460d450'), ObjectId('68f0732a96d2d76cd460d451'), ObjectId('68f0732a96d2d76cd460d452'), ObjectId('68f0732a96d2d76cd460d453'), ObjectId('68f0732a96d2d76cd460d454'), ObjectId('68f0732a96d2d76cd460d455'), ObjectId('68f0732a96d2d76cd460d456'), ObjectId('68f0732a96d2d76cd460d457'), ObjectId('68f0732a96d2d76cd460d458'), ObjectId('68f0732a96d2d76cd460d459'), ObjectId('68f0732a96d2d76cd460d45a'), ObjectId('68f0732a96d2d76cd460d45b'), ObjectId('68f0732a96d2d76cd460d45c'), ObjectId('68f0732a96d2d76cd460d45d'), ObjectId('68f0732a96d2d76cd460d45e'), ObjectId('68f0732a96d2d76cd460d45f'), ObjectId('68f0732a96d2d76cd460d460'), ObjectId('68f0732a96d2d76cd460d461'), ObjectId('68f0732a96d2d76cd460d462'), ObjectId('68f0732a96d2d76cd460d463'), ObjectId('68f0732a96d2d76cd460d464'), ObjectId('68f0732a96d2d76cd460d465'), ObjectId('68f0732a96d2d76cd460d466'), ObjectId('68f0732a96d2d76cd460d467'), ObjectId('68f0732a96d2d76cd460d468'), ObjectId('68f0732a96d2d76cd460d469'), ObjectId('68f0732a96d2d76cd460d46a'), ObjectId('68f0732a96d2d76cd460d46b'), ObjectId('68f0732a96d2d76cd460d46c'), ObjectId('68f0732a96d2d76cd460d46d'), ObjectId('68f0732a96d2d76cd460d46e'), ObjectId('68f0732a96d2d76cd460d46f'), ObjectId('68f0732a96d2d76cd460d470'), ObjectId('68f0732a96d2d76cd460d471'), ObjectId('68f0732a96d2d76cd460d472'), ObjectId('68f0732a96d2d76cd460d473'), ObjectId('68f0732a96d2d76cd460d474'), ObjectId('68f0732a96d2d76cd460d475'), ObjectId('68f0732a96d2d76cd460d476'), ObjectId('68f0732a96d2d76cd460d477'), ObjectId('68f0732a96d2d76cd460d478'), ObjectId('68f0732a96d2d76cd460d479'), ObjectId('68f0732a96d2d76cd460d47a'), ObjectId('68f0732a96d2d76cd460d47b'), ObjectId('68f0732a96d2d76cd460d47c'), ObjectId('68f0732a96d2d76cd460d47d'), ObjectId('68f0732a96d2d76cd460d47e'), ObjectId('68f0732a96d2d76cd460d47f'), ObjectId('68f0732a96d2d76cd460d480'), ObjectId('68f0732a96d2d76cd460d481'), ObjectId('68f0732a96d2d76cd460d482'), ObjectId('68f0732a96d2d76cd460d483'), ObjectId('68f0732a96d2d76cd460d484'), ObjectId('68f0732a96d2d76cd460d485'), ObjectId('68f0732a96d2d76cd460d486'), ObjectId('68f0732a96d2d76cd460d487'), ObjectId('68f0732a96d2d76cd460d488'), ObjectId('68f0732a96d2d76cd460d489'), ObjectId('68f0732a96d2d76cd460d48a'), ObjectId('68f0732a96d2d76cd460d48b'), ObjectId('68f0732a96d2d76cd460d48c'), ObjectId('68f0732a96d2d76cd460d48d'), ObjectId('68f0732a96d2d76cd460d48e'), ObjectId('68f0732a96d2d76cd460d48f'), ObjectId('68f0732a96d2d76cd460d490'), ObjectId('68f0732a96d2d76cd460d491'), ObjectId('68f0732a96d2d76cd460d492'), ObjectId('68f0732a96d2d76cd460d493'), ObjectId('68f0732a96d2d76cd460d494'), ObjectId('68f0732a96d2d76cd460d495'), ObjectId('68f0732a96d2d76cd460d496'), ObjectId('68f0732a96d2d76cd460d497'), ObjectId('68f0732a96d2d76cd460d498'), ObjectId('68f0732a96d2d76cd460d499'), ObjectId('68f0732a96d2d76cd460d49a'), ObjectId('68f0732a96d2d76cd460d49b'), ObjectId('68f0732a96d2d76cd460d49c'), ObjectId('68f0732a96d2d76cd460d49d'), ObjectId('68f0732a96d2d76cd460d49e'), ObjectId('68f0732a96d2d76cd460d49f'), ObjectId('68f0732a96d2d76cd460d4a0'), ObjectId('68f0732a96d2d76cd460d4a1'), ObjectId('68f0732a96d2d76cd460d4a2'), ObjectId('68f0732a96d2d76cd460d4a3'), ObjectId('68f0732a96d2d76cd460d4a4'), ObjectId('68f0732a96d2d76cd460d4a5'), ObjectId('68f0732a96d2d76cd460d4a6'), ObjectId('68f0732a96d2d76cd460d4a7'), ObjectId('68f0732a96d2d76cd460d4a8'), ObjectId('68f0732a96d2d76cd460d4a9'), ObjectId('68f0732a96d2d76cd460d4aa'), ObjectId('68f0732a96d2d76cd460d4ab'), ObjectId('68f0732a96d2d76cd460d4ac'), ObjectId('68f0732a96d2d76cd460d4ad'), ObjectId('68f0732a96d2d76cd460d4ae'), ObjectId('68f0732a96d2d76cd460d4af'), ObjectId('68f0732a96d2d76cd460d4b0'), ObjectId('68f0732a96d2d76cd460d4b1'), ObjectId('68f0732a96d2d76cd460d4b2'), ObjectId('68f0732a96d2d76cd460d4b3'), ObjectId('68f0732a96d2d76cd460d4b4'), ObjectId('68f0732a96d2d76cd460d4b5'), ObjectId('68f0732a96d2d76cd460d4b6'), ObjectId('68f0732a96d2d76cd460d4b7'), ObjectId('68f0732a96d2d76cd460d4b8'), ObjectId('68f0732a96d2d76cd460d4b9'), ObjectId('68f0732a96d2d76cd460d4ba'), ObjectId('68f0732a96d2d76cd460d4bb'), ObjectId('68f0732a96d2d76cd460d4bc'), ObjectId('68f0732a96d2d76cd460d4bd'), ObjectId('68f0732a96d2d76cd460d4be'), ObjectId('68f0732a96d2d76cd460d4bf'), ObjectId('68f0732a96d2d76cd460d4c0'), ObjectId('68f0732a96d2d76cd460d4c1'), ObjectId('68f0732a96d2d76cd460d4c2'), ObjectId('68f0732a96d2d76cd460d4c3'), ObjectId('68f0732a96d2d76cd460d4c4'), ObjectId('68f0732a96d2d76cd460d4c5'), ObjectId('68f0732a96d2d76cd460d4c6'), ObjectId('68f0732a96d2d76cd460d4c7'), ObjectId('68f0732a96d2d76cd460d4c8'), ObjectId('68f0732a96d2d76cd460d4c9'), ObjectId('68f0732a96d2d76cd460d4ca'), ObjectId('68f0732a96d2d76cd460d4cb'), ObjectId('68f0732a96d2d76cd460d4cc'), ObjectId('68f0732a96d2d76cd460d4cd'), ObjectId('68f0732a96d2d76cd460d4ce'), ObjectId('68f0732a96d2d76cd460d4cf'), ObjectId('68f0732a96d2d76cd460d4d0'), ObjectId('68f0732a96d2d76cd460d4d1'), ObjectId('68f0732a96d2d76cd460d4d2'), ObjectId('68f0732a96d2d76cd460d4d3'), ObjectId('68f0732a96d2d76cd460d4d4'), ObjectId('68f0732a96d2d76cd460d4d5'), ObjectId('68f0732a96d2d76cd460d4d6'), ObjectId('68f0732a96d2d76cd460d4d7'), ObjectId('68f0732a96d2d76cd460d4d8'), ObjectId('68f0732a96d2d76cd460d4d9'), ObjectId('68f0732a96d2d76cd460d4da'), ObjectId('68f0732a96d2d76cd460d4db'), ObjectId('68f0732a96d2d76cd460d4dc'), ObjectId('68f0732a96d2d76cd460d4dd'), ObjectId('68f0732a96d2d76cd460d4de'), ObjectId('68f0732a96d2d76cd460d4df'), ObjectId('68f0732a96d2d76cd460d4e0'), ObjectId('68f0732a96d2d76cd460d4e1'), ObjectId('68f0732a96d2d76cd460d4e2'), ObjectId('68f0732a96d2d76cd460d4e3'), ObjectId('68f0732a96d2d76cd460d4e4'), ObjectId('68f0732a96d2d76cd460d4e5'), ObjectId('68f0732a96d2d76cd460d4e6'), ObjectId('68f0732a96d2d76cd460d4e7'), ObjectId('68f0732a96d2d76cd460d4e8'), ObjectId('68f0732a96d2d76cd460d4e9'), ObjectId('68f0732a96d2d76cd460d4ea'), ObjectId('68f0732a96d2d76cd460d4eb'), ObjectId('68f0732a96d2d76cd460d4ec'), ObjectId('68f0732a96d2d76cd460d4ed'), ObjectId('68f0732a96d2d76cd460d4ee'), ObjectId('68f0732a96d2d76cd460d4ef'), ObjectId('68f0732a96d2d76cd460d4f0'), ObjectId('68f0732a96d2d76cd460d4f1'), ObjectId('68f0732a96d2d76cd460d4f2'), ObjectId('68f0732a96d2d76cd460d4f3'), ObjectId('68f0732a96d2d76cd460d4f4'), ObjectId('68f0732a96d2d76cd460d4f5'), ObjectId('68f0732a96d2d76cd460d4f6'), ObjectId('68f0732a96d2d76cd460d4f7'), ObjectId('68f0732a96d2d76cd460d4f8'), ObjectId('68f0732a96d2d76cd460d4f9'), ObjectId('68f0732a96d2d76cd460d4fa'), ObjectId('68f0732a96d2d76cd460d4fb'), ObjectId('68f0732a96d2d76cd460d4fc'), ObjectId('68f0732a96d2d76cd460d4fd'), ObjectId('68f0732a96d2d76cd460d4fe'), ObjectId('68f0732a96d2d76cd460d4ff'), ObjectId('68f0732a96d2d76cd460d500'), ObjectId('68f0732a96d2d76cd460d501'), ObjectId('68f0732a96d2d76cd460d502'), ObjectId('68f0732a96d2d76cd460d503'), ObjectId('68f0732a96d2d76cd460d504'), ObjectId('68f0732a96d2d76cd460d505'), ObjectId('68f0732a96d2d76cd460d506'), ObjectId('68f0732a96d2d76cd460d507'), ObjectId('68f0732a96d2d76cd460d508'), ObjectId('68f0732a96d2d76cd460d509'), ObjectId('68f0732a96d2d76cd460d50a'), ObjectId('68f0732a96d2d76cd460d50b'), ObjectId('68f0732a96d2d76cd460d50c'), ObjectId('68f0732a96d2d76cd460d50d'), ObjectId('68f0732a96d2d76cd460d50e'), ObjectId('68f0732a96d2d76cd460d50f'), ObjectId('68f0732a96d2d76cd460d510'), ObjectId('68f0732a96d2d76cd460d511'), ObjectId('68f0732a96d2d76cd460d512'), ObjectId('68f0732a96d2d76cd460d513'), ObjectId('68f0732a96d2d76cd460d514'), ObjectId('68f0732a96d2d76cd460d515'), ObjectId('68f0732a96d2d76cd460d516'), ObjectId('68f0732a96d2d76cd460d517'), ObjectId('68f0732a96d2d76cd460d518'), ObjectId('68f0732a96d2d76cd460d519'), ObjectId('68f0732a96d2d76cd460d51a'), ObjectId('68f0732a96d2d76cd460d51b'), ObjectId('68f0732a96d2d76cd460d51c'), ObjectId('68f0732a96d2d76cd460d51d'), ObjectId('68f0732a96d2d76cd460d51e'), ObjectId('68f0732a96d2d76cd460d51f'), ObjectId('68f0732a96d2d76cd460d520'), ObjectId('68f0732a96d2d76cd460d521'), ObjectId('68f0732a96d2d76cd460d522'), ObjectId('68f0732a96d2d76cd460d523'), ObjectId('68f0732a96d2d76cd460d524'), ObjectId('68f0732a96d2d76cd460d525'), ObjectId('68f0732a96d2d76cd460d526'), ObjectId('68f0732a96d2d76cd460d527'), ObjectId('68f0732a96d2d76cd460d528'), ObjectId('68f0732a96d2d76cd460d529'), ObjectId('68f0732a96d2d76cd460d52a'), ObjectId('68f0732a96d2d76cd460d52b'), ObjectId('68f0732a96d2d76cd460d52c'), ObjectId('68f0732a96d2d76cd460d52d'), ObjectId('68f0732a96d2d76cd460d52e'), ObjectId('68f0732a96d2d76cd460d52f'), ObjectId('68f0732a96d2d76cd460d530'), ObjectId('68f0732a96d2d76cd460d531'), ObjectId('68f0732a96d2d76cd460d532'), ObjectId('68f0732a96d2d76cd460d533'), ObjectId('68f0732a96d2d76cd460d534'), ObjectId('68f0732a96d2d76cd460d535'), ObjectId('68f0732a96d2d76cd460d536'), ObjectId('68f0732a96d2d76cd460d537'), ObjectId('68f0732a96d2d76cd460d538'), ObjectId('68f0732a96d2d76cd460d539'), ObjectId('68f0732a96d2d76cd460d53a'), ObjectId('68f0732a96d2d76cd460d53b'), ObjectId('68f0732a96d2d76cd460d53c'), ObjectId('68f0732a96d2d76cd460d53d'), ObjectId('68f0732a96d2d76cd460d53e'), ObjectId('68f0732a96d2d76cd460d53f'), ObjectId('68f0732a96d2d76cd460d540'), ObjectId('68f0732a96d2d76cd460d541'), ObjectId('68f0732a96d2d76cd460d542'), ObjectId('68f0732a96d2d76cd460d543'), ObjectId('68f0732a96d2d76cd460d544'), ObjectId('68f0732a96d2d76cd460d545'), ObjectId('68f0732a96d2d76cd460d546'), ObjectId('68f0732a96d2d76cd460d547'), ObjectId('68f0732a96d2d76cd460d548'), ObjectId('68f0732a96d2d76cd460d549'), ObjectId('68f0732a96d2d76cd460d54a'), ObjectId('68f0732a96d2d76cd460d54b'), ObjectId('68f0732a96d2d76cd460d54c'), ObjectId('68f0732a96d2d76cd460d54d'), ObjectId('68f0732a96d2d76cd460d54e'), ObjectId('68f0732a96d2d76cd460d54f'), ObjectId('68f0732a96d2d76cd460d550'), ObjectId('68f0732a96d2d76cd460d551'), ObjectId('68f0732a96d2d76cd460d552'), ObjectId('68f0732a96d2d76cd460d553'), ObjectId('68f0732a96d2d76cd460d554'), ObjectId('68f0732a96d2d76cd460d555'), ObjectId('68f0732a96d2d76cd460d556'), ObjectId('68f0732a96d2d76cd460d557'), ObjectId('68f0732a96d2d76cd460d558'), ObjectId('68f0732a96d2d76cd460d559'), ObjectId('68f0732a96d2d76cd460d55a'), ObjectId('68f0732a96d2d76cd460d55b'), ObjectId('68f0732a96d2d76cd460d55c'), ObjectId('68f0732a96d2d76cd460d55d'), ObjectId('68f0732a96d2d76cd460d55e'), ObjectId('68f0732a96d2d76cd460d55f'), ObjectId('68f0732a96d2d76cd460d560'), ObjectId('68f0732a96d2d76cd460d561'), ObjectId('68f0732a96d2d76cd460d562'), ObjectId('68f0732a96d2d76cd460d563'), ObjectId('68f0732a96d2d76cd460d564'), ObjectId('68f0732a96d2d76cd460d565'), ObjectId('68f0732a96d2d76cd460d566'), ObjectId('68f0732a96d2d76cd460d567'), ObjectId('68f0732a96d2d76cd460d568'), ObjectId('68f0732a96d2d76cd460d569'), ObjectId('68f0732a96d2d76cd460d56a'), ObjectId('68f0732a96d2d76cd460d56b'), ObjectId('68f0732a96d2d76cd460d56c'), ObjectId('68f0732a96d2d76cd460d56d'), ObjectId('68f0732a96d2d76cd460d56e'), ObjectId('68f0732a96d2d76cd460d56f'), ObjectId('68f0732a96d2d76cd460d570'), ObjectId('68f0732a96d2d76cd460d571'), ObjectId('68f0732a96d2d76cd460d572'), ObjectId('68f0732a96d2d76cd460d573'), ObjectId('68f0732a96d2d76cd460d574'), ObjectId('68f0732a96d2d76cd460d575'), ObjectId('68f0732a96d2d76cd460d576'), ObjectId('68f0732a96d2d76cd460d577'), ObjectId('68f0732a96d2d76cd460d578'), ObjectId('68f0732a96d2d76cd460d579'), ObjectId('68f0732a96d2d76cd460d57a'), ObjectId('68f0732a96d2d76cd460d57b'), ObjectId('68f0732a96d2d76cd460d57c'), ObjectId('68f0732a96d2d76cd460d57d'), ObjectId('68f0732a96d2d76cd460d57e'), ObjectId('68f0732a96d2d76cd460d57f'), ObjectId('68f0732a96d2d76cd460d580'), ObjectId('68f0732a96d2d76cd460d581'), ObjectId('68f0732a96d2d76cd460d582'), ObjectId('68f0732a96d2d76cd460d583'), ObjectId('68f0732a96d2d76cd460d584'), ObjectId('68f0732a96d2d76cd460d585'), ObjectId('68f0732a96d2d76cd460d586'), ObjectId('68f0732a96d2d76cd460d587'), ObjectId('68f0732a96d2d76cd460d588'), ObjectId('68f0732a96d2d76cd460d589'), ObjectId('68f0732a96d2d76cd460d58a'), ObjectId('68f0732a96d2d76cd460d58b'), ObjectId('68f0732a96d2d76cd460d58c'), ObjectId('68f0732a96d2d76cd460d58d'), ObjectId('68f0732a96d2d76cd460d58e'), ObjectId('68f0732a96d2d76cd460d58f'), ObjectId('68f0732a96d2d76cd460d590'), ObjectId('68f0732a96d2d76cd460d591'), ObjectId('68f0732a96d2d76cd460d592'), ObjectId('68f0732a96d2d76cd460d593'), ObjectId('68f0732a96d2d76cd460d594'), ObjectId('68f0732a96d2d76cd460d595'), ObjectId('68f0732a96d2d76cd460d596'), ObjectId('68f0732a96d2d76cd460d597'), ObjectId('68f0732a96d2d76cd460d598'), ObjectId('68f0732a96d2d76cd460d599'), ObjectId('68f0732a96d2d76cd460d59a'), ObjectId('68f0732a96d2d76cd460d59b'), ObjectId('68f0732a96d2d76cd460d59c'), ObjectId('68f0732a96d2d76cd460d59d'), ObjectId('68f0732a96d2d76cd460d59e'), ObjectId('68f0732a96d2d76cd460d59f'), ObjectId('68f0732a96d2d76cd460d5a0'), ObjectId('68f0732a96d2d76cd460d5a1'), ObjectId('68f0732a96d2d76cd460d5a2'), ObjectId('68f0732a96d2d76cd460d5a3'), ObjectId('68f0732a96d2d76cd460d5a4'), ObjectId('68f0732a96d2d76cd460d5a5'), ObjectId('68f0732a96d2d76cd460d5a6'), ObjectId('68f0732a96d2d76cd460d5a7'), ObjectId('68f0732a96d2d76cd460d5a8'), ObjectId('68f0732a96d2d76cd460d5a9'), ObjectId('68f0732a96d2d76cd460d5aa'), ObjectId('68f0732a96d2d76cd460d5ab'), ObjectId('68f0732a96d2d76cd460d5ac'), ObjectId('68f0732a96d2d76cd460d5ad'), ObjectId('68f0732a96d2d76cd460d5ae'), ObjectId('68f0732a96d2d76cd460d5af'), ObjectId('68f0732a96d2d76cd460d5b0'), ObjectId('68f0732a96d2d76cd460d5b1'), ObjectId('68f0732a96d2d76cd460d5b2'), ObjectId('68f0732a96d2d76cd460d5b3'), ObjectId('68f0732a96d2d76cd460d5b4'), ObjectId('68f0732a96d2d76cd460d5b5'), ObjectId('68f0732a96d2d76cd460d5b6'), ObjectId('68f0732a96d2d76cd460d5b7'), ObjectId('68f0732a96d2d76cd460d5b8'), ObjectId('68f0732a96d2d76cd460d5b9'), ObjectId('68f0732a96d2d76cd460d5ba'), ObjectId('68f0732a96d2d76cd460d5bb'), ObjectId('68f0732a96d2d76cd460d5bc'), ObjectId('68f0732a96d2d76cd460d5bd'), ObjectId('68f0732a96d2d76cd460d5be'), ObjectId('68f0732a96d2d76cd460d5bf'), ObjectId('68f0732a96d2d76cd460d5c0'), ObjectId('68f0732a96d2d76cd460d5c1'), ObjectId('68f0732a96d2d76cd460d5c2'), ObjectId('68f0732a96d2d76cd460d5c3'), ObjectId('68f0732a96d2d76cd460d5c4'), ObjectId('68f0732a96d2d76cd460d5c5'), ObjectId('68f0732a96d2d76cd460d5c6'), ObjectId('68f0732a96d2d76cd460d5c7'), ObjectId('68f0732a96d2d76cd460d5c8'), ObjectId('68f0732a96d2d76cd460d5c9'), ObjectId('68f0732a96d2d76cd460d5ca'), ObjectId('68f0732a96d2d76cd460d5cb'), ObjectId('68f0732a96d2d76cd460d5cc'), ObjectId('68f0732a96d2d76cd460d5cd'), ObjectId('68f0732a96d2d76cd460d5ce'), ObjectId('68f0732a96d2d76cd460d5cf'), ObjectId('68f0732a96d2d76cd460d5d0'), ObjectId('68f0732a96d2d76cd460d5d1'), ObjectId('68f0732a96d2d76cd460d5d2'), ObjectId('68f0732a96d2d76cd460d5d3'), ObjectId('68f0732a96d2d76cd460d5d4'), ObjectId('68f0732a96d2d76cd460d5d5'), ObjectId('68f0732a96d2d76cd460d5d6'), ObjectId('68f0732a96d2d76cd460d5d7'), ObjectId('68f0732a96d2d76cd460d5d8'), ObjectId('68f0732a96d2d76cd460d5d9'), ObjectId('68f0732a96d2d76cd460d5da'), ObjectId('68f0732a96d2d76cd460d5db'), ObjectId('68f0732a96d2d76cd460d5dc'), ObjectId('68f0732a96d2d76cd460d5dd'), ObjectId('68f0732a96d2d76cd460d5de'), ObjectId('68f0732a96d2d76cd460d5df'), ObjectId('68f0732a96d2d76cd460d5e0'), ObjectId('68f0732a96d2d76cd460d5e1'), ObjectId('68f0732a96d2d76cd460d5e2'), ObjectId('68f0732a96d2d76cd460d5e3'), ObjectId('68f0732a96d2d76cd460d5e4'), ObjectId('68f0732a96d2d76cd460d5e5'), ObjectId('68f0732a96d2d76cd460d5e6'), ObjectId('68f0732a96d2d76cd460d5e7'), ObjectId('68f0732a96d2d76cd460d5e8'), ObjectId('68f0732a96d2d76cd460d5e9'), ObjectId('68f0732a96d2d76cd460d5ea'), ObjectId('68f0732a96d2d76cd460d5eb'), ObjectId('68f0732a96d2d76cd460d5ec'), ObjectId('68f0732a96d2d76cd460d5ed'), ObjectId('68f0732a96d2d76cd460d5ee'), ObjectId('68f0732a96d2d76cd460d5ef'), ObjectId('68f0732a96d2d76cd460d5f0'), ObjectId('68f0732a96d2d76cd460d5f1'), ObjectId('68f0732a96d2d76cd460d5f2'), ObjectId('68f0732a96d2d76cd460d5f3'), ObjectId('68f0732a96d2d76cd460d5f4'), ObjectId('68f0732a96d2d76cd460d5f5'), ObjectId('68f0732a96d2d76cd460d5f6'), ObjectId('68f0732a96d2d76cd460d5f7'), ObjectId('68f0732a96d2d76cd460d5f8'), ObjectId('68f0732a96d2d76cd460d5f9'), ObjectId('68f0732a96d2d76cd460d5fa'), ObjectId('68f0732a96d2d76cd460d5fb'), ObjectId('68f0732a96d2d76cd460d5fc'), ObjectId('68f0732a96d2d76cd460d5fd'), ObjectId('68f0732a96d2d76cd460d5fe'), ObjectId('68f0732a96d2d76cd460d5ff'), ObjectId('68f0732a96d2d76cd460d600'), ObjectId('68f0732a96d2d76cd460d601'), ObjectId('68f0732a96d2d76cd460d602'), ObjectId('68f0732a96d2d76cd460d603'), ObjectId('68f0732a96d2d76cd460d604'), ObjectId('68f0732a96d2d76cd460d605'), ObjectId('68f0732a96d2d76cd460d606'), ObjectId('68f0732a96d2d76cd460d607'), ObjectId('68f0732a96d2d76cd460d608'), ObjectId('68f0732a96d2d76cd460d609'), ObjectId('68f0732a96d2d76cd460d60a'), ObjectId('68f0732a96d2d76cd460d60b'), ObjectId('68f0732a96d2d76cd460d60c'), ObjectId('68f0732a96d2d76cd460d60d'), ObjectId('68f0732a96d2d76cd460d60e'), ObjectId('68f0732a96d2d76cd460d60f'), ObjectId('68f0732a96d2d76cd460d610'), ObjectId('68f0732a96d2d76cd460d611'), ObjectId('68f0732a96d2d76cd460d612'), ObjectId('68f0732a96d2d76cd460d613'), ObjectId('68f0732a96d2d76cd460d614'), ObjectId('68f0732a96d2d76cd460d615'), ObjectId('68f0732a96d2d76cd460d616'), ObjectId('68f0732a96d2d76cd460d617'), ObjectId('68f0732a96d2d76cd460d618'), ObjectId('68f0732a96d2d76cd460d619'), ObjectId('68f0732a96d2d76cd460d61a'), ObjectId('68f0732a96d2d76cd460d61b'), ObjectId('68f0732a96d2d76cd460d61c'), ObjectId('68f0732a96d2d76cd460d61d'), ObjectId('68f0732a96d2d76cd460d61e'), ObjectId('68f0732a96d2d76cd460d61f'), ObjectId('68f0732a96d2d76cd460d620'), ObjectId('68f0732a96d2d76cd460d621'), ObjectId('68f0732a96d2d76cd460d622'), ObjectId('68f0732a96d2d76cd460d623'), ObjectId('68f0732a96d2d76cd460d624'), ObjectId('68f0732a96d2d76cd460d625'), ObjectId('68f0732a96d2d76cd460d626'), ObjectId('68f0732a96d2d76cd460d627'), ObjectId('68f0732a96d2d76cd460d628'), ObjectId('68f0732a96d2d76cd460d629'), ObjectId('68f0732a96d2d76cd460d62a'), ObjectId('68f0732a96d2d76cd460d62b'), ObjectId('68f0732a96d2d76cd460d62c'), ObjectId('68f0732a96d2d76cd460d62d'), ObjectId('68f0732a96d2d76cd460d62e'), ObjectId('68f0732a96d2d76cd460d62f'), ObjectId('68f0732a96d2d76cd460d630'), ObjectId('68f0732a96d2d76cd460d631'), ObjectId('68f0732a96d2d76cd460d632'), ObjectId('68f0732a96d2d76cd460d633'), ObjectId('68f0732a96d2d76cd460d634'), ObjectId('68f0732a96d2d76cd460d635'), ObjectId('68f0732a96d2d76cd460d636'), ObjectId('68f0732a96d2d76cd460d637'), ObjectId('68f0732a96d2d76cd460d638'), ObjectId('68f0732a96d2d76cd460d639'), ObjectId('68f0732a96d2d76cd460d63a'), ObjectId('68f0732a96d2d76cd460d63b'), ObjectId('68f0732a96d2d76cd460d63c'), ObjectId('68f0732a96d2d76cd460d63d'), ObjectId('68f0732a96d2d76cd460d63e'), ObjectId('68f0732a96d2d76cd460d63f'), ObjectId('68f0732a96d2d76cd460d640'), ObjectId('68f0732a96d2d76cd460d641'), ObjectId('68f0732a96d2d76cd460d642'), ObjectId('68f0732a96d2d76cd460d643'), ObjectId('68f0732a96d2d76cd460d644'), ObjectId('68f0732a96d2d76cd460d645'), ObjectId('68f0732a96d2d76cd460d646'), ObjectId('68f0732a96d2d76cd460d647'), ObjectId('68f0732a96d2d76cd460d648'), ObjectId('68f0732a96d2d76cd460d649'), ObjectId('68f0732a96d2d76cd460d64a'), ObjectId('68f0732a96d2d76cd460d64b'), ObjectId('68f0732a96d2d76cd460d64c'), ObjectId('68f0732a96d2d76cd460d64d'), ObjectId('68f0732a96d2d76cd460d64e'), ObjectId('68f0732a96d2d76cd460d64f'), ObjectId('68f0732a96d2d76cd460d650'), ObjectId('68f0732a96d2d76cd460d651'), ObjectId('68f0732a96d2d76cd460d652'), ObjectId('68f0732a96d2d76cd460d653'), ObjectId('68f0732a96d2d76cd460d654'), ObjectId('68f0732a96d2d76cd460d655'), ObjectId('68f0732a96d2d76cd460d656'), ObjectId('68f0732a96d2d76cd460d657'), ObjectId('68f0732a96d2d76cd460d658'), ObjectId('68f0732a96d2d76cd460d659'), ObjectId('68f0732a96d2d76cd460d65a'), ObjectId('68f0732a96d2d76cd460d65b'), ObjectId('68f0732a96d2d76cd460d65c'), ObjectId('68f0732a96d2d76cd460d65d'), ObjectId('68f0732a96d2d76cd460d65e'), ObjectId('68f0732a96d2d76cd460d65f'), ObjectId('68f0732a96d2d76cd460d660'), ObjectId('68f0732a96d2d76cd460d661'), ObjectId('68f0732a96d2d76cd460d662'), ObjectId('68f0732a96d2d76cd460d663'), ObjectId('68f0732a96d2d76cd460d664'), ObjectId('68f0732a96d2d76cd460d665'), ObjectId('68f0732a96d2d76cd460d666'), ObjectId('68f0732a96d2d76cd460d667'), ObjectId('68f0732a96d2d76cd460d668'), ObjectId('68f0732a96d2d76cd460d669'), ObjectId('68f0732a96d2d76cd460d66a'), ObjectId('68f0732a96d2d76cd460d66b'), ObjectId('68f0732a96d2d76cd460d66c'), ObjectId('68f0732a96d2d76cd460d66d'), ObjectId('68f0732a96d2d76cd460d66e'), ObjectId('68f0732a96d2d76cd460d66f'), ObjectId('68f0732a96d2d76cd460d670'), ObjectId('68f0732a96d2d76cd460d671'), ObjectId('68f0732a96d2d76cd460d672'), ObjectId('68f0732a96d2d76cd460d673'), ObjectId('68f0732a96d2d76cd460d674'), ObjectId('68f0732a96d2d76cd460d675'), ObjectId('68f0732a96d2d76cd460d676'), ObjectId('68f0732a96d2d76cd460d677'), ObjectId('68f0732a96d2d76cd460d678'), ObjectId('68f0732a96d2d76cd460d679'), ObjectId('68f0732a96d2d76cd460d67a'), ObjectId('68f0732a96d2d76cd460d67b'), ObjectId('68f0732a96d2d76cd460d67c'), ObjectId('68f0732a96d2d76cd460d67d'), ObjectId('68f0732a96d2d76cd460d67e'), ObjectId('68f0732a96d2d76cd460d67f'), ObjectId('68f0732a96d2d76cd460d680'), ObjectId('68f0732a96d2d76cd460d681'), ObjectId('68f0732a96d2d76cd460d682'), ObjectId('68f0732a96d2d76cd460d683'), ObjectId('68f0732a96d2d76cd460d684'), ObjectId('68f0732a96d2d76cd460d685'), ObjectId('68f0732a96d2d76cd460d686'), ObjectId('68f0732a96d2d76cd460d687'), ObjectId('68f0732a96d2d76cd460d688'), ObjectId('68f0732a96d2d76cd460d689'), ObjectId('68f0732a96d2d76cd460d68a'), ObjectId('68f0732a96d2d76cd460d68b'), ObjectId('68f0732a96d2d76cd460d68c'), ObjectId('68f0732a96d2d76cd460d68d'), ObjectId('68f0732a96d2d76cd460d68e'), ObjectId('68f0732a96d2d76cd460d68f'), ObjectId('68f0732a96d2d76cd460d690'), ObjectId('68f0732a96d2d76cd460d691'), ObjectId('68f0732a96d2d76cd460d692'), ObjectId('68f0732a96d2d76cd460d693'), ObjectId('68f0732a96d2d76cd460d694'), ObjectId('68f0732a96d2d76cd460d695'), ObjectId('68f0732a96d2d76cd460d696'), ObjectId('68f0732a96d2d76cd460d697'), ObjectId('68f0732a96d2d76cd460d698'), ObjectId('68f0732a96d2d76cd460d699'), ObjectId('68f0732a96d2d76cd460d69a'), ObjectId('68f0732a96d2d76cd460d69b'), ObjectId('68f0732a96d2d76cd460d69c'), ObjectId('68f0732a96d2d76cd460d69d'), ObjectId('68f0732a96d2d76cd460d69e'), ObjectId('68f0732a96d2d76cd460d69f'), ObjectId('68f0732a96d2d76cd460d6a0'), ObjectId('68f0732a96d2d76cd460d6a1'), ObjectId('68f0732a96d2d76cd460d6a2'), ObjectId('68f0732a96d2d76cd460d6a3'), ObjectId('68f0732a96d2d76cd460d6a4'), ObjectId('68f0732a96d2d76cd460d6a5'), ObjectId('68f0732a96d2d76cd460d6a6'), ObjectId('68f0732a96d2d76cd460d6a7'), ObjectId('68f0732a96d2d76cd460d6a8'), ObjectId('68f0732a96d2d76cd460d6a9'), ObjectId('68f0732a96d2d76cd460d6aa'), ObjectId('68f0732a96d2d76cd460d6ab'), ObjectId('68f0732a96d2d76cd460d6ac'), ObjectId('68f0732a96d2d76cd460d6ad'), ObjectId('68f0732a96d2d76cd460d6ae'), ObjectId('68f0732a96d2d76cd460d6af'), ObjectId('68f0732a96d2d76cd460d6b0'), ObjectId('68f0732a96d2d76cd460d6b1'), ObjectId('68f0732a96d2d76cd460d6b2'), ObjectId('68f0732a96d2d76cd460d6b3'), ObjectId('68f0732a96d2d76cd460d6b4'), ObjectId('68f0732a96d2d76cd460d6b5'), ObjectId('68f0732a96d2d76cd460d6b6'), ObjectId('68f0732a96d2d76cd460d6b7'), ObjectId('68f0732a96d2d76cd460d6b8'), ObjectId('68f0732a96d2d76cd460d6b9'), ObjectId('68f0732a96d2d76cd460d6ba'), ObjectId('68f0732a96d2d76cd460d6bb'), ObjectId('68f0732a96d2d76cd460d6bc'), ObjectId('68f0732a96d2d76cd460d6bd'), ObjectId('68f0732a96d2d76cd460d6be'), ObjectId('68f0732a96d2d76cd460d6bf'), ObjectId('68f0732a96d2d76cd460d6c0'), ObjectId('68f0732a96d2d76cd460d6c1'), ObjectId('68f0732a96d2d76cd460d6c2'), ObjectId('68f0732a96d2d76cd460d6c3'), ObjectId('68f0732a96d2d76cd460d6c4'), ObjectId('68f0732a96d2d76cd460d6c5'), ObjectId('68f0732a96d2d76cd460d6c6'), ObjectId('68f0732a96d2d76cd460d6c7'), ObjectId('68f0732a96d2d76cd460d6c8'), ObjectId('68f0732a96d2d76cd460d6c9'), ObjectId('68f0732a96d2d76cd460d6ca'), ObjectId('68f0732a96d2d76cd460d6cb'), ObjectId('68f0732a96d2d76cd460d6cc'), ObjectId('68f0732a96d2d76cd460d6cd'), ObjectId('68f0732a96d2d76cd460d6ce'), ObjectId('68f0732a96d2d76cd460d6cf'), ObjectId('68f0732a96d2d76cd460d6d0'), ObjectId('68f0732a96d2d76cd460d6d1'), ObjectId('68f0732a96d2d76cd460d6d2'), ObjectId('68f0732a96d2d76cd460d6d3'), ObjectId('68f0732a96d2d76cd460d6d4'), ObjectId('68f0732a96d2d76cd460d6d5'), ObjectId('68f0732a96d2d76cd460d6d6'), ObjectId('68f0732a96d2d76cd460d6d7'), ObjectId('68f0732a96d2d76cd460d6d8'), ObjectId('68f0732a96d2d76cd460d6d9'), ObjectId('68f0732a96d2d76cd460d6da'), ObjectId('68f0732a96d2d76cd460d6db'), ObjectId('68f0732a96d2d76cd460d6dc'), ObjectId('68f0732a96d2d76cd460d6dd'), ObjectId('68f0732a96d2d76cd460d6de'), ObjectId('68f0732a96d2d76cd460d6df'), ObjectId('68f0732a96d2d76cd460d6e0'), ObjectId('68f0732a96d2d76cd460d6e1'), ObjectId('68f0732a96d2d76cd460d6e2'), ObjectId('68f0732a96d2d76cd460d6e3'), ObjectId('68f0732a96d2d76cd460d6e4'), ObjectId('68f0732a96d2d76cd460d6e5'), ObjectId('68f0732a96d2d76cd460d6e6'), ObjectId('68f0732a96d2d76cd460d6e7'), ObjectId('68f0732a96d2d76cd460d6e8'), ObjectId('68f0732a96d2d76cd460d6e9'), ObjectId('68f0732a96d2d76cd460d6ea'), ObjectId('68f0732a96d2d76cd460d6eb'), ObjectId('68f0732a96d2d76cd460d6ec'), ObjectId('68f0732a96d2d76cd460d6ed'), ObjectId('68f0732a96d2d76cd460d6ee'), ObjectId('68f0732a96d2d76cd460d6ef'), ObjectId('68f0732a96d2d76cd460d6f0'), ObjectId('68f0732a96d2d76cd460d6f1'), ObjectId('68f0732a96d2d76cd460d6f2'), ObjectId('68f0732a96d2d76cd460d6f3'), ObjectId('68f0732a96d2d76cd460d6f4'), ObjectId('68f0732a96d2d76cd460d6f5'), ObjectId('68f0732a96d2d76cd460d6f6'), ObjectId('68f0732a96d2d76cd460d6f7'), ObjectId('68f0732a96d2d76cd460d6f8'), ObjectId('68f0732a96d2d76cd460d6f9'), ObjectId('68f0732a96d2d76cd460d6fa'), ObjectId('68f0732a96d2d76cd460d6fb'), ObjectId('68f0732a96d2d76cd460d6fc'), ObjectId('68f0732a96d2d76cd460d6fd'), ObjectId('68f0732a96d2d76cd460d6fe'), ObjectId('68f0732a96d2d76cd460d6ff'), ObjectId('68f0732a96d2d76cd460d700'), ObjectId('68f0732a96d2d76cd460d701'), ObjectId('68f0732a96d2d76cd460d702'), ObjectId('68f0732a96d2d76cd460d703'), ObjectId('68f0732a96d2d76cd460d704'), ObjectId('68f0732a96d2d76cd460d705'), ObjectId('68f0732a96d2d76cd460d706'), ObjectId('68f0732a96d2d76cd460d707'), ObjectId('68f0732a96d2d76cd460d708'), ObjectId('68f0732a96d2d76cd460d709'), ObjectId('68f0732a96d2d76cd460d70a'), ObjectId('68f0732a96d2d76cd460d70b'), ObjectId('68f0732a96d2d76cd460d70c'), ObjectId('68f0732a96d2d76cd460d70d'), ObjectId('68f0732a96d2d76cd460d70e'), ObjectId('68f0732a96d2d76cd460d70f'), ObjectId('68f0732a96d2d76cd460d710'), ObjectId('68f0732a96d2d76cd460d711'), ObjectId('68f0732a96d2d76cd460d712'), ObjectId('68f0732a96d2d76cd460d713'), ObjectId('68f0732a96d2d76cd460d714'), ObjectId('68f0732a96d2d76cd460d715'), ObjectId('68f0732a96d2d76cd460d716'), ObjectId('68f0732a96d2d76cd460d717'), ObjectId('68f0732a96d2d76cd460d718'), ObjectId('68f0732a96d2d76cd460d719'), ObjectId('68f0732a96d2d76cd460d71a'), ObjectId('68f0732a96d2d76cd460d71b'), ObjectId('68f0732a96d2d76cd460d71c'), ObjectId('68f0732a96d2d76cd460d71d'), ObjectId('68f0732a96d2d76cd460d71e'), ObjectId('68f0732a96d2d76cd460d71f'), ObjectId('68f0732a96d2d76cd460d720'), ObjectId('68f0732a96d2d76cd460d721'), ObjectId('68f0732a96d2d76cd460d722'), ObjectId('68f0732a96d2d76cd460d723'), ObjectId('68f0732a96d2d76cd460d724'), ObjectId('68f0732a96d2d76cd460d725'), ObjectId('68f0732a96d2d76cd460d726'), ObjectId('68f0732a96d2d76cd460d727'), ObjectId('68f0732a96d2d76cd460d728'), ObjectId('68f0732a96d2d76cd460d729'), ObjectId('68f0732a96d2d76cd460d72a'), ObjectId('68f0732a96d2d76cd460d72b'), ObjectId('68f0732a96d2d76cd460d72c'), ObjectId('68f0732a96d2d76cd460d72d'), ObjectId('68f0732a96d2d76cd460d72e'), ObjectId('68f0732a96d2d76cd460d72f'), ObjectId('68f0732a96d2d76cd460d730'), ObjectId('68f0732a96d2d76cd460d731'), ObjectId('68f0732a96d2d76cd460d732'), ObjectId('68f0732a96d2d76cd460d733'), ObjectId('68f0732a96d2d76cd460d734'), ObjectId('68f0732a96d2d76cd460d735'), ObjectId('68f0732a96d2d76cd460d736'), ObjectId('68f0732a96d2d76cd460d737'), ObjectId('68f0732a96d2d76cd460d738'), ObjectId('68f0732a96d2d76cd460d739'), ObjectId('68f0732a96d2d76cd460d73a'), ObjectId('68f0732a96d2d76cd460d73b'), ObjectId('68f0732a96d2d76cd460d73c'), ObjectId('68f0732a96d2d76cd460d73d'), ObjectId('68f0732a96d2d76cd460d73e'), ObjectId('68f0732a96d2d76cd460d73f'), ObjectId('68f0732a96d2d76cd460d740'), ObjectId('68f0732a96d2d76cd460d741'), ObjectId('68f0732a96d2d76cd460d742'), ObjectId('68f0732a96d2d76cd460d743'), ObjectId('68f0732a96d2d76cd460d744'), ObjectId('68f0732a96d2d76cd460d745'), ObjectId('68f0732a96d2d76cd460d746'), ObjectId('68f0732a96d2d76cd460d747'), ObjectId('68f0732a96d2d76cd460d748'), ObjectId('68f0732a96d2d76cd460d749'), ObjectId('68f0732a96d2d76cd460d74a'), ObjectId('68f0732a96d2d76cd460d74b'), ObjectId('68f0732a96d2d76cd460d74c'), ObjectId('68f0732a96d2d76cd460d74d'), ObjectId('68f0732a96d2d76cd460d74e'), ObjectId('68f0732a96d2d76cd460d74f'), ObjectId('68f0732a96d2d76cd460d750'), ObjectId('68f0732a96d2d76cd460d751'), ObjectId('68f0732a96d2d76cd460d752'), ObjectId('68f0732a96d2d76cd460d753'), ObjectId('68f0732a96d2d76cd460d754'), ObjectId('68f0732a96d2d76cd460d755'), ObjectId('68f0732a96d2d76cd460d756'), ObjectId('68f0732a96d2d76cd460d757'), ObjectId('68f0732a96d2d76cd460d758'), ObjectId('68f0732a96d2d76cd460d759'), ObjectId('68f0732a96d2d76cd460d75a'), ObjectId('68f0732a96d2d76cd460d75b'), ObjectId('68f0732a96d2d76cd460d75c'), ObjectId('68f0732a96d2d76cd460d75d'), ObjectId('68f0732a96d2d76cd460d75e'), ObjectId('68f0732a96d2d76cd460d75f'), ObjectId('68f0732a96d2d76cd460d760'), ObjectId('68f0732a96d2d76cd460d761'), ObjectId('68f0732a96d2d76cd460d762'), ObjectId('68f0732a96d2d76cd460d763'), ObjectId('68f0732a96d2d76cd460d764'), ObjectId('68f0732a96d2d76cd460d765'), ObjectId('68f0732a96d2d76cd460d766'), ObjectId('68f0732a96d2d76cd460d767'), ObjectId('68f0732a96d2d76cd460d768'), ObjectId('68f0732a96d2d76cd460d769'), ObjectId('68f0732a96d2d76cd460d76a'), ObjectId('68f0732a96d2d76cd460d76b'), ObjectId('68f0732a96d2d76cd460d76c'), ObjectId('68f0732a96d2d76cd460d76d'), ObjectId('68f0732a96d2d76cd460d76e'), ObjectId('68f0732a96d2d76cd460d76f'), ObjectId('68f0732a96d2d76cd460d770'), ObjectId('68f0732a96d2d76cd460d771'), ObjectId('68f0732a96d2d76cd460d772'), ObjectId('68f0732a96d2d76cd460d773'), ObjectId('68f0732a96d2d76cd460d774'), ObjectId('68f0732a96d2d76cd460d775'), ObjectId('68f0732a96d2d76cd460d776'), ObjectId('68f0732a96d2d76cd460d777'), ObjectId('68f0732a96d2d76cd460d778'), ObjectId('68f0732a96d2d76cd460d779'), ObjectId('68f0732a96d2d76cd460d77a'), ObjectId('68f0732a96d2d76cd460d77b'), ObjectId('68f0732a96d2d76cd460d77c'), ObjectId('68f0732a96d2d76cd460d77d'), ObjectId('68f0732a96d2d76cd460d77e'), ObjectId('68f0732a96d2d76cd460d77f'), ObjectId('68f0732a96d2d76cd460d780'), ObjectId('68f0732a96d2d76cd460d781'), ObjectId('68f0732a96d2d76cd460d782'), ObjectId('68f0732a96d2d76cd460d783'), ObjectId('68f0732a96d2d76cd460d784'), ObjectId('68f0732a96d2d76cd460d785'), ObjectId('68f0732a96d2d76cd460d786'), ObjectId('68f0732a96d2d76cd460d787'), ObjectId('68f0732a96d2d76cd460d788'), ObjectId('68f0732a96d2d76cd460d789'), ObjectId('68f0732a96d2d76cd460d78a'), ObjectId('68f0732a96d2d76cd460d78b'), ObjectId('68f0732a96d2d76cd460d78c'), ObjectId('68f0732a96d2d76cd460d78d'), ObjectId('68f0732a96d2d76cd460d78e'), ObjectId('68f0732a96d2d76cd460d78f'), ObjectId('68f0732a96d2d76cd460d790'), ObjectId('68f0732a96d2d76cd460d791'), ObjectId('68f0732a96d2d76cd460d792'), ObjectId('68f0732a96d2d76cd460d793'), ObjectId('68f0732a96d2d76cd460d794'), ObjectId('68f0732a96d2d76cd460d795'), ObjectId('68f0732a96d2d76cd460d796'), ObjectId('68f0732a96d2d76cd460d797'), ObjectId('68f0732a96d2d76cd460d798'), ObjectId('68f0732a96d2d76cd460d799'), ObjectId('68f0732a96d2d76cd460d79a'), ObjectId('68f0732a96d2d76cd460d79b'), ObjectId('68f0732a96d2d76cd460d79c'), ObjectId('68f0732a96d2d76cd460d79d'), ObjectId('68f0732a96d2d76cd460d79e'), ObjectId('68f0732a96d2d76cd460d79f'), ObjectId('68f0732a96d2d76cd460d7a0'), ObjectId('68f0732a96d2d76cd460d7a1'), ObjectId('68f0732a96d2d76cd460d7a2'), ObjectId('68f0732a96d2d76cd460d7a3'), ObjectId('68f0732a96d2d76cd460d7a4'), ObjectId('68f0732a96d2d76cd460d7a5'), ObjectId('68f0732a96d2d76cd460d7a6'), ObjectId('68f0732a96d2d76cd460d7a7'), ObjectId('68f0732a96d2d76cd460d7a8'), ObjectId('68f0732a96d2d76cd460d7a9'), ObjectId('68f0732a96d2d76cd460d7aa'), ObjectId('68f0732a96d2d76cd460d7ab'), ObjectId('68f0732a96d2d76cd460d7ac'), ObjectId('68f0732a96d2d76cd460d7ad'), ObjectId('68f0732a96d2d76cd460d7ae'), ObjectId('68f0732a96d2d76cd460d7af'), ObjectId('68f0732a96d2d76cd460d7b0'), ObjectId('68f0732a96d2d76cd460d7b1'), ObjectId('68f0732a96d2d76cd460d7b2'), ObjectId('68f0732a96d2d76cd460d7b3'), ObjectId('68f0732a96d2d76cd460d7b4'), ObjectId('68f0732a96d2d76cd460d7b5'), ObjectId('68f0732a96d2d76cd460d7b6'), ObjectId('68f0732a96d2d76cd460d7b7'), ObjectId('68f0732a96d2d76cd460d7b8'), ObjectId('68f0732a96d2d76cd460d7b9'), ObjectId('68f0732a96d2d76cd460d7ba'), ObjectId('68f0732a96d2d76cd460d7bb'), ObjectId('68f0732a96d2d76cd460d7bc'), ObjectId('68f0732a96d2d76cd460d7bd'), ObjectId('68f0732a96d2d76cd460d7be'), ObjectId('68f0732a96d2d76cd460d7bf'), ObjectId('68f0732a96d2d76cd460d7c0'), ObjectId('68f0732a96d2d76cd460d7c1'), ObjectId('68f0732a96d2d76cd460d7c2'), ObjectId('68f0732a96d2d76cd460d7c3'), ObjectId('68f0732a96d2d76cd460d7c4'), ObjectId('68f0732a96d2d76cd460d7c5'), ObjectId('68f0732a96d2d76cd460d7c6'), ObjectId('68f0732a96d2d76cd460d7c7'), ObjectId('68f0732a96d2d76cd460d7c8'), ObjectId('68f0732a96d2d76cd460d7c9'), ObjectId('68f0732a96d2d76cd460d7ca'), ObjectId('68f0732a96d2d76cd460d7cb'), ObjectId('68f0732a96d2d76cd460d7cc'), ObjectId('68f0732a96d2d76cd460d7cd'), ObjectId('68f0732a96d2d76cd460d7ce'), ObjectId('68f0732a96d2d76cd460d7cf'), ObjectId('68f0732a96d2d76cd460d7d0'), ObjectId('68f0732a96d2d76cd460d7d1'), ObjectId('68f0732a96d2d76cd460d7d2'), ObjectId('68f0732a96d2d76cd460d7d3'), ObjectId('68f0732a96d2d76cd460d7d4'), ObjectId('68f0732a96d2d76cd460d7d5'), ObjectId('68f0732a96d2d76cd460d7d6'), ObjectId('68f0732a96d2d76cd460d7d7'), ObjectId('68f0732a96d2d76cd460d7d8'), ObjectId('68f0732a96d2d76cd460d7d9'), ObjectId('68f0732a96d2d76cd460d7da'), ObjectId('68f0732a96d2d76cd460d7db'), ObjectId('68f0732a96d2d76cd460d7dc'), ObjectId('68f0732a96d2d76cd460d7dd'), ObjectId('68f0732a96d2d76cd460d7de'), ObjectId('68f0732a96d2d76cd460d7df'), ObjectId('68f0732a96d2d76cd460d7e0'), ObjectId('68f0732a96d2d76cd460d7e1'), ObjectId('68f0732a96d2d76cd460d7e2'), ObjectId('68f0732a96d2d76cd460d7e3'), ObjectId('68f0732a96d2d76cd460d7e4'), ObjectId('68f0732a96d2d76cd460d7e5'), ObjectId('68f0732a96d2d76cd460d7e6'), ObjectId('68f0732a96d2d76cd460d7e7'), ObjectId('68f0732a96d2d76cd460d7e8'), ObjectId('68f0732a96d2d76cd460d7e9'), ObjectId('68f0732a96d2d76cd460d7ea'), ObjectId('68f0732a96d2d76cd460d7eb'), ObjectId('68f0732a96d2d76cd460d7ec'), ObjectId('68f0732a96d2d76cd460d7ed'), ObjectId('68f0732a96d2d76cd460d7ee'), ObjectId('68f0732a96d2d76cd460d7ef'), ObjectId('68f0732a96d2d76cd460d7f0'), ObjectId('68f0732a96d2d76cd460d7f1'), ObjectId('68f0732a96d2d76cd460d7f2'), ObjectId('68f0732a96d2d76cd460d7f3'), ObjectId('68f0732a96d2d76cd460d7f4'), ObjectId('68f0732a96d2d76cd460d7f5'), ObjectId('68f0732a96d2d76cd460d7f6'), ObjectId('68f0732a96d2d76cd460d7f7'), ObjectId('68f0732a96d2d76cd460d7f8'), ObjectId('68f0732a96d2d76cd460d7f9'), ObjectId('68f0732a96d2d76cd460d7fa'), ObjectId('68f0732a96d2d76cd460d7fb'), ObjectId('68f0732a96d2d76cd460d7fc'), ObjectId('68f0732a96d2d76cd460d7fd'), ObjectId('68f0732a96d2d76cd460d7fe'), ObjectId('68f0732a96d2d76cd460d7ff'), ObjectId('68f0732a96d2d76cd460d800'), ObjectId('68f0732a96d2d76cd460d801'), ObjectId('68f0732a96d2d76cd460d802'), ObjectId('68f0732a96d2d76cd460d803'), ObjectId('68f0732a96d2d76cd460d804'), ObjectId('68f0732a96d2d76cd460d805'), ObjectId('68f0732a96d2d76cd460d806'), ObjectId('68f0732a96d2d76cd460d807'), ObjectId('68f0732a96d2d76cd460d808'), ObjectId('68f0732a96d2d76cd460d809'), ObjectId('68f0732a96d2d76cd460d80a'), ObjectId('68f0732a96d2d76cd460d80b'), ObjectId('68f0732a96d2d76cd460d80c'), ObjectId('68f0732a96d2d76cd460d80d'), ObjectId('68f0732a96d2d76cd460d80e'), ObjectId('68f0732a96d2d76cd460d80f'), ObjectId('68f0732a96d2d76cd460d810'), ObjectId('68f0732a96d2d76cd460d811'), ObjectId('68f0732a96d2d76cd460d812'), ObjectId('68f0732a96d2d76cd460d813'), ObjectId('68f0732a96d2d76cd460d814'), ObjectId('68f0732a96d2d76cd460d815'), ObjectId('68f0732a96d2d76cd460d816'), ObjectId('68f0732a96d2d76cd460d817'), ObjectId('68f0732a96d2d76cd460d818'), ObjectId('68f0732a96d2d76cd460d819'), ObjectId('68f0732a96d2d76cd460d81a'), ObjectId('68f0732a96d2d76cd460d81b'), ObjectId('68f0732a96d2d76cd460d81c'), ObjectId('68f0732a96d2d76cd460d81d'), ObjectId('68f0732a96d2d76cd460d81e'), ObjectId('68f0732a96d2d76cd460d81f'), ObjectId('68f0732a96d2d76cd460d820'), ObjectId('68f0732a96d2d76cd460d821'), ObjectId('68f0732a96d2d76cd460d822'), ObjectId('68f0732a96d2d76cd460d823'), ObjectId('68f0732a96d2d76cd460d824'), ObjectId('68f0732a96d2d76cd460d825'), ObjectId('68f0732a96d2d76cd460d826'), ObjectId('68f0732a96d2d76cd460d827'), ObjectId('68f0732a96d2d76cd460d828'), ObjectId('68f0732a96d2d76cd460d829'), ObjectId('68f0732a96d2d76cd460d82a'), ObjectId('68f0732a96d2d76cd460d82b'), ObjectId('68f0732a96d2d76cd460d82c'), ObjectId('68f0732a96d2d76cd460d82d'), ObjectId('68f0732a96d2d76cd460d82e'), ObjectId('68f0732a96d2d76cd460d82f'), ObjectId('68f0732a96d2d76cd460d830'), ObjectId('68f0732a96d2d76cd460d831'), ObjectId('68f0732a96d2d76cd460d832'), ObjectId('68f0732a96d2d76cd460d833'), ObjectId('68f0732a96d2d76cd460d834'), ObjectId('68f0732a96d2d76cd460d835'), ObjectId('68f0732a96d2d76cd460d836'), ObjectId('68f0732a96d2d76cd460d837'), ObjectId('68f0732a96d2d76cd460d838'), ObjectId('68f0732a96d2d76cd460d839'), ObjectId('68f0732a96d2d76cd460d83a'), ObjectId('68f0732a96d2d76cd460d83b'), ObjectId('68f0732a96d2d76cd460d83c'), ObjectId('68f0732a96d2d76cd460d83d'), ObjectId('68f0732a96d2d76cd460d83e'), ObjectId('68f0732a96d2d76cd460d83f'), ObjectId('68f0732a96d2d76cd460d840'), ObjectId('68f0732a96d2d76cd460d841'), ObjectId('68f0732a96d2d76cd460d842'), ObjectId('68f0732a96d2d76cd460d843'), ObjectId('68f0732a96d2d76cd460d844'), ObjectId('68f0732a96d2d76cd460d845'), ObjectId('68f0732a96d2d76cd460d846'), ObjectId('68f0732a96d2d76cd460d847'), ObjectId('68f0732a96d2d76cd460d848'), ObjectId('68f0732a96d2d76cd460d849'), ObjectId('68f0732a96d2d76cd460d84a'), ObjectId('68f0732a96d2d76cd460d84b'), ObjectId('68f0732a96d2d76cd460d84c'), ObjectId('68f0732a96d2d76cd460d84d'), ObjectId('68f0732a96d2d76cd460d84e'), ObjectId('68f0732a96d2d76cd460d84f'), ObjectId('68f0732a96d2d76cd460d850'), ObjectId('68f0732a96d2d76cd460d851'), ObjectId('68f0732a96d2d76cd460d852'), ObjectId('68f0732a96d2d76cd460d853'), ObjectId('68f0732a96d2d76cd460d854'), ObjectId('68f0732a96d2d76cd460d855'), ObjectId('68f0732a96d2d76cd460d856'), ObjectId('68f0732a96d2d76cd460d857'), ObjectId('68f0732a96d2d76cd460d858'), ObjectId('68f0732a96d2d76cd460d859'), ObjectId('68f0732a96d2d76cd460d85a'), ObjectId('68f0732a96d2d76cd460d85b'), ObjectId('68f0732a96d2d76cd460d85c'), ObjectId('68f0732a96d2d76cd460d85d'), ObjectId('68f0732a96d2d76cd460d85e'), ObjectId('68f0732a96d2d76cd460d85f'), ObjectId('68f0732a96d2d76cd460d860'), ObjectId('68f0732a96d2d76cd460d861'), ObjectId('68f0732a96d2d76cd460d862'), ObjectId('68f0732a96d2d76cd460d863'), ObjectId('68f0732a96d2d76cd460d864'), ObjectId('68f0732a96d2d76cd460d865'), ObjectId('68f0732a96d2d76cd460d866'), ObjectId('68f0732a96d2d76cd460d867'), ObjectId('68f0732a96d2d76cd460d868'), ObjectId('68f0732a96d2d76cd460d869'), ObjectId('68f0732a96d2d76cd460d86a'), ObjectId('68f0732a96d2d76cd460d86b'), ObjectId('68f0732a96d2d76cd460d86c'), ObjectId('68f0732a96d2d76cd460d86d'), ObjectId('68f0732a96d2d76cd460d86e'), ObjectId('68f0732a96d2d76cd460d86f'), ObjectId('68f0732a96d2d76cd460d870'), ObjectId('68f0732a96d2d76cd460d871'), ObjectId('68f0732a96d2d76cd460d872'), ObjectId('68f0732a96d2d76cd460d873')], acknowledged=True)"
      ]
     },
     "execution_count": 23,
     "metadata": {},
     "output_type": "execute_result"
    }
   ],
   "source": [
    "# Step 5: Insert data\n",
    "collection.insert_many(records)"
   ]
  },
  {
   "cell_type": "code",
   "execution_count": null,
   "id": "95cec06a",
   "metadata": {},
   "outputs": [
    {
     "name": "stdout",
     "output_type": "stream",
     "text": [
      "Inserted: 1943 documents\n",
      "{'_id': ObjectId('68ef1e0f36d3b506fcf02f9a'), 'country': 'Algeria', 'country_serial': 'DZ', 'metric': 'Electricity export (GWh)', 'unit': 'GWh', 'sector': 'Electricity', 'sub_sector': 'Supply', 'source_link': '/aep/country/algeria', 'source': 'AFREC Database', '2000': 319.0, '2001': 196.0, '2002': 259.0, '2003': 212.0, '2004': 197.0, '2005': 275.0, '2006': 298.0, '2007': 273.0, '2008': 323.0, '2009': 362.0, '2010': 803.0, '2011': 799.0, '2012': 985.0, '2013': 384.0, '2014': 877.0, '2015': 641.0, '2016': 507.0, '2017': 918.764526367188, '2018': 833.876403808594, '2019': 975.834594726563, '2020': 1128.86401367188, '2021': 1529.34497070313, '2022': nan}\n"
     ]
    }
   ],
   "source": [
    "# Step 6: Verify\n",
    "print(\"Inserted:\", collection.count_documents({}), \"documents\")\n",
    "print(collection.find_one())"
   ]
  },
  {
   "cell_type": "markdown",
   "id": "9ef837b2",
   "metadata": {},
   "source": [
    "Step 5: Data Validation"
   ]
  },
  {
   "cell_type": "code",
   "execution_count": 24,
   "id": "f63959b6",
   "metadata": {},
   "outputs": [
    {
     "name": "stdout",
     "output_type": "stream",
     "text": [
      "Shape: (1944, 31)\n",
      "   country country_serial                                             metric  \\\n",
      "0  Algeria             DZ                           Electricity export (GWh)   \n",
      "1  Algeria             DZ                Electricity final consumption (GWh)   \n",
      "2  Algeria             DZ     Electricity final consumption per capita (KWh)   \n",
      "3  Algeria             DZ  Electricity generated from biofuels and waste ...   \n",
      "4  Algeria             DZ      Electricity generated from fossil fuels (GWh)   \n",
      "\n",
      "             unit       sector sub_sector           source_link  \\\n",
      "0             GWh  Electricity     Supply  /aep/country/algeria   \n",
      "1             GWh  Electricity     Supply  /aep/country/algeria   \n",
      "2  KWh per capita  Electricity     Supply  /aep/country/algeria   \n",
      "3             GWh  Electricity     Supply  /aep/country/algeria   \n",
      "4             GWh  Electricity     Supply  /aep/country/algeria   \n",
      "\n",
      "           source          2000          2001  ...          2013  \\\n",
      "0  AFREC Database    319.000000    196.000000  ...    384.000000   \n",
      "1  AFREC Database  18592.000000  19664.000000  ...  40188.000000   \n",
      "2  AFREC Database    596.209656    622.433105  ...   1048.239624   \n",
      "3  AFREC Database      0.000000      0.000000  ...      0.000000   \n",
      "4  AFREC Database  25358.000000  26556.000000  ...  59560.000000   \n",
      "\n",
      "           2014          2015          2016          2017          2018  \\\n",
      "0    877.000000    641.000000    507.000000    918.764526    833.876404   \n",
      "1  45751.000000  47956.968750  52288.000000  56376.101562  58152.601562   \n",
      "2   1169.704102   1202.787354   1287.689941   1364.439453   1384.320435   \n",
      "3      0.000000      0.000000      0.000000      0.000000      0.000000   \n",
      "4  63988.000000  68576.000000  70663.000000  75381.968750  75879.992188   \n",
      "\n",
      "           2019          2020          2021  2022  \n",
      "0    975.834595   1128.864014   1529.344971   NaN  \n",
      "1  59053.726562  60044.328125  62502.121094   NaN  \n",
      "2   1383.671143   1385.640747   1421.494507   NaN  \n",
      "3      0.000000      0.000000      0.000000   NaN  \n",
      "4  79441.468750  83299.226562  84709.507812   NaN  \n",
      "\n",
      "[5 rows x 31 columns]\n"
     ]
    }
   ],
   "source": [
    "# Step 1: Load your CSV\n",
    "df = pd.read_csv(\"africa_energy_data.csv\")\n",
    "print(\"Shape:\", df.shape)\n",
    "print(df.head())"
   ]
  },
  {
   "cell_type": "code",
   "execution_count": 27,
   "id": "adfcac81",
   "metadata": {},
   "outputs": [
    {
     "name": "stdout",
     "output_type": "stream",
     "text": [
      "Missing values per column:\n",
      "country_serial     36\n",
      "2000                9\n",
      "2001                9\n",
      "2002                9\n",
      "2003                9\n",
      "2004                9\n",
      "2005                9\n",
      "2006                9\n",
      "2007                9\n",
      "2008                9\n",
      "2009                9\n",
      "2010                9\n",
      "2011                8\n",
      "2012                1\n",
      "2013                1\n",
      "2014                1\n",
      "2015                1\n",
      "2016                1\n",
      "2017                1\n",
      "2018                1\n",
      "2019                2\n",
      "2020                1\n",
      "2021                1\n",
      "2022              785\n",
      "dtype: int64\n"
     ]
    }
   ],
   "source": [
    "# Step 2: Check for missing values per column\n",
    "missing_summary = df.isnull().sum()\n",
    "print(\"Missing values per column:\")\n",
    "print(missing_summary[missing_summary > 0])"
   ]
  },
  {
   "cell_type": "code",
   "execution_count": 29,
   "id": "262eaaf2",
   "metadata": {},
   "outputs": [
    {
     "name": "stdout",
     "output_type": "stream",
     "text": [
      "Detected year columns: ['2000', '2001', '2002', '2003', '2004', '2005', '2006', '2007', '2008', '2009', '2010', '2011', '2012', '2013', '2014', '2015', '2016', '2017', '2018', '2019', '2020', '2021', '2022'] \n",
      "\n",
      "Found 792 rows with missing year values.\n"
     ]
    }
   ],
   "source": [
    "# Step 3: Check rows with missing year values\n",
    "year_cols = [col for col in df.columns if col.isdigit()]\n",
    "print(\"Detected year columns:\", year_cols, \"\\n\")\n",
    "\n",
    "missing_years = df[df[year_cols].isnull().any(axis=1)]\n",
    "print(f\"Found {len(missing_years)} rows with missing year values.\")"
   ]
  },
  {
   "cell_type": "code",
   "execution_count": 30,
   "id": "cc152f27",
   "metadata": {},
   "outputs": [
    {
     "name": "stdout",
     "output_type": "stream",
     "text": [
      "Rows missing metric names: 0\n"
     ]
    }
   ],
   "source": [
    "# Step 4: Check for missing or blank metric names\n",
    "missing_metrics = df[df[\"metric\"].isnull() | (df[\"metric\"] == \"\")]\n",
    "print(f\"Rows missing metric names: {len(missing_metrics)}\")"
   ]
  },
  {
   "cell_type": "code",
   "execution_count": 31,
   "id": "05138ede",
   "metadata": {},
   "outputs": [
    {
     "name": "stdout",
     "output_type": "stream",
     "text": [
      "Unique units:\n",
      "['GWh' 'KWh per capita' 'MW' 'MJ/USD PPP 2017' 'Millions of people'\n",
      " 'Current US$'] \n",
      "\n",
      "Metrics with inconsistent units: 0\n"
     ]
    }
   ],
   "source": [
    "# Step 5: Check for unit consistency\n",
    "print(\"Unique units:\")\n",
    "print(df[\"unit\"].unique(), \"\\n\")\n",
    "\n",
    "\n",
    "unit_check = df.groupby(\"metric\")[\"unit\"].nunique().reset_index()\n",
    "inconsistent_units = unit_check[unit_check[\"unit\"] > 1]\n",
    "print(f\"Metrics with inconsistent units: {len(inconsistent_units)}\")\n",
    "if len(inconsistent_units) > 0:\n",
    "    print(inconsistent_units, \"\\n\")"
   ]
  },
  {
   "cell_type": "code",
   "execution_count": 33,
   "id": "b9026ebb",
   "metadata": {},
   "outputs": [
    {
     "name": "stdout",
     "output_type": "stream",
     "text": [
      "Total unique countries: 54\n",
      "Sample countries: ['Algeria', 'Angola', 'Benin', 'Botswana', 'Burkina Faso', 'Burundi', 'Cameroon', 'Cape Verde', 'Central African Republic', 'Chad']\n"
     ]
    }
   ],
   "source": [
    "# Step 6: Check country naming consistency\n",
    "countries = sorted(df[\"country\"].unique())\n",
    "print(f\"Total unique countries: {len(countries)}\")\n",
    "print(\"Sample countries:\", countries[:10])"
   ]
  },
  {
   "cell_type": "code",
   "execution_count": null,
   "id": "ef9b6ec4",
   "metadata": {},
   "outputs": [
    {
     "name": "stdout",
     "output_type": "stream",
     "text": [
      "Data Validation Summary:\n",
      "Total rows: 1944\n",
      "Rows with missing year data: 792\n",
      "Rows missing metric names: 0\n",
      "Metrics with inconsistent units: 0\n",
      "Unique countries: 54\n"
     ]
    }
   ],
   "source": [
    "# Step 7: Final validation summary\n",
    "summary = {\n",
    "    \"Total rows\": len(df),\n",
    "    \"Rows with missing year data\": len(missing_years),\n",
    "    \"Rows missing metric names\": len(missing_metrics),\n",
    "    \"Metrics with inconsistent units\": len(inconsistent_units),\n",
    "    \"Unique countries\": len(countries)\n",
    "}\n",
    "\n",
    "print(\"Data Validation Summary:\")\n",
    "for key, value in summary.items():\n",
    "    print(f\"{key}: {value}\")"
   ]
  }
 ],
 "metadata": {
  "kernelspec": {
   "display_name": "venv",
   "language": "python",
   "name": "python3"
  },
  "language_info": {
   "codemirror_mode": {
    "name": "ipython",
    "version": 3
   },
   "file_extension": ".py",
   "mimetype": "text/x-python",
   "name": "python",
   "nbconvert_exporter": "python",
   "pygments_lexer": "ipython3",
   "version": "3.12.3"
  }
 },
 "nbformat": 4,
 "nbformat_minor": 5
}
