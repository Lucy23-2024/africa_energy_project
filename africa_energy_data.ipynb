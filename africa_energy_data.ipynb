{
 "cells": [
  {
   "cell_type": "markdown",
   "id": "7226faa9",
   "metadata": {},
   "source": [
    "#### Step 1: Importing Libraries"
   ]
  },
  {
   "cell_type": "code",
   "execution_count": 2,
   "id": "8c9d81f8",
   "metadata": {},
   "outputs": [],
   "source": [
    "import json\n",
    "import pandas as pd\n",
    "import glob"
   ]
  },
  {
   "cell_type": "markdown",
   "id": "e88932f9",
   "metadata": {},
   "source": [
    "#### Step 2: Data Loading"
   ]
  },
  {
   "cell_type": "code",
   "execution_count": 7,
   "id": "7711b083",
   "metadata": {},
   "outputs": [
    {
     "name": "stdout",
     "output_type": "stream",
     "text": [
      "Found files: ['energy.json', 'social_and_economic.json', 'electricity.json']\n"
     ]
    }
   ],
   "source": [
    "# Step 1: Get all JSON file names from the folder\n",
    "files = glob.glob(\"*.json\") # change this to your folder path\n",
    "\n",
    "print(\"Found files:\", files)"
   ]
  },
  {
   "cell_type": "code",
   "execution_count": 10,
   "id": "84af164f",
   "metadata": {},
   "outputs": [
    {
     "name": "stdout",
     "output_type": "stream",
     "text": [
      "[      id      name      score                unit      region_name  \\\n",
      "0     DZ   Algeria   1.122612  Millions of people     North Africa   \n",
      "1     DZ   Algeria   0.947765  Millions of people     North Africa   \n",
      "2     DZ   Algeria   0.831871  Millions of people     North Africa   \n",
      "3     DZ   Algeria   0.712877  Millions of people     North Africa   \n",
      "4     DZ   Algeria   0.623791  Millions of people     North Africa   \n",
      "...   ..       ...        ...                 ...              ...   \n",
      "3721  ZW  Zimbabwe  30.299999     % of population  Southern Africa   \n",
      "3722  ZW  Zimbabwe  30.299999     % of population  Southern Africa   \n",
      "3723  ZW  Zimbabwe       30.5     % of population  Southern Africa   \n",
      "3724  ZW  Zimbabwe       30.5     % of population  Southern Africa   \n",
      "3725  ZW  Zimbabwe  30.799999     % of population  Southern Africa   \n",
      "\n",
      "     indicator_topic   indicator_source  \\\n",
      "0             Access  Tracking SDG7/WBG   \n",
      "1             Access  Tracking SDG7/WBG   \n",
      "2             Access  Tracking SDG7/WBG   \n",
      "3             Access  Tracking SDG7/WBG   \n",
      "4             Access  Tracking SDG7/WBG   \n",
      "...              ...                ...   \n",
      "3721          Access               None   \n",
      "3722          Access               None   \n",
      "3723          Access               None   \n",
      "3724          Access               None   \n",
      "3725          Access               None   \n",
      "\n",
      "                                         indicator_name indicator_group  year  \\\n",
      "0     Energy: Population without access to clean coo...          Energy  2000   \n",
      "1     Energy: Population without access to clean coo...          Energy  2001   \n",
      "2     Energy: Population without access to clean coo...          Energy  2002   \n",
      "3     Energy: Population without access to clean coo...          Energy  2003   \n",
      "4     Energy: Population without access to clean coo...          Energy  2004   \n",
      "...                                                 ...             ...   ...   \n",
      "3721  Energy: Population with access to clean cookin...          Energy  2018   \n",
      "3722  Energy: Population with access to clean cookin...          Energy  2019   \n",
      "3723  Energy: Population with access to clean cookin...          Energy  2020   \n",
      "3724  Energy: Population with access to clean cookin...          Energy  2021   \n",
      "3725  Energy: Population with access to clean cookin...          Energy  2022   \n",
      "\n",
      "                        url  \n",
      "0      /aep/country/algeria  \n",
      "1      /aep/country/algeria  \n",
      "2      /aep/country/algeria  \n",
      "3      /aep/country/algeria  \n",
      "4      /aep/country/algeria  \n",
      "...                     ...  \n",
      "3721  /aep/country/zimbabwe  \n",
      "3722  /aep/country/zimbabwe  \n",
      "3723  /aep/country/zimbabwe  \n",
      "3724  /aep/country/zimbabwe  \n",
      "3725  /aep/country/zimbabwe  \n",
      "\n",
      "[3726 rows x 11 columns],       id      name        score                unit      region_name  \\\n",
      "0     DZ   Algeria    12.498847  Millions of people     North Africa   \n",
      "1     DZ   Algeria     12.41194  Millions of people     North Africa   \n",
      "2     DZ   Algeria    12.317847  Millions of people     North Africa   \n",
      "3     DZ   Algeria    12.221443  Millions of people     North Africa   \n",
      "4     DZ   Algeria    12.127441  Millions of people     North Africa   \n",
      "...   ..       ...          ...                 ...              ...   \n",
      "4963  ZW  Zimbabwe  23651000320         Current US$  Southern Africa   \n",
      "4964  ZW  Zimbabwe  22599999488         Current US$  Southern Africa   \n",
      "4965  ZW  Zimbabwe  21670000640         Current US$  Southern Africa   \n",
      "4966  ZW  Zimbabwe  21901393920         Current US$  Southern Africa   \n",
      "4967  ZW  Zimbabwe  23440736256         Current US$  Southern Africa   \n",
      "\n",
      "       indicator_topic  indicator_source  \\\n",
      "0           Population  AfDB Data portal   \n",
      "1           Population  AfDB Data portal   \n",
      "2           Population  AfDB Data portal   \n",
      "3           Population  AfDB Data portal   \n",
      "4           Population  AfDB Data portal   \n",
      "...                ...               ...   \n",
      "4963  National Account  AfDB Data portal   \n",
      "4964  National Account  AfDB Data portal   \n",
      "4965  National Account  AfDB Data portal   \n",
      "4966  National Account  AfDB Data portal   \n",
      "4967  National Account  AfDB Data portal   \n",
      "\n",
      "                             indicator_name      indicator_group  year  \\\n",
      "0     Rural population (millions of people)  Social and Economic  2000   \n",
      "1     Rural population (millions of people)  Social and Economic  2001   \n",
      "2     Rural population (millions of people)  Social and Economic  2002   \n",
      "3     Rural population (millions of people)  Social and Economic  2003   \n",
      "4     Rural population (millions of people)  Social and Economic  2004   \n",
      "...                                     ...                  ...   ...   \n",
      "4963                      GDP (current US$)  Social and Economic  2018   \n",
      "4964                      GDP (current US$)  Social and Economic  2019   \n",
      "4965                      GDP (current US$)  Social and Economic  2020   \n",
      "4966                      GDP (current US$)  Social and Economic  2021   \n",
      "4967                      GDP (current US$)  Social and Economic  2022   \n",
      "\n",
      "                        url  \n",
      "0      /aep/country/algeria  \n",
      "1      /aep/country/algeria  \n",
      "2      /aep/country/algeria  \n",
      "3      /aep/country/algeria  \n",
      "4      /aep/country/algeria  \n",
      "...                     ...  \n",
      "4963  /aep/country/zimbabwe  \n",
      "4964  /aep/country/zimbabwe  \n",
      "4965  /aep/country/zimbabwe  \n",
      "4966  /aep/country/zimbabwe  \n",
      "4967  /aep/country/zimbabwe  \n",
      "\n",
      "[4968 rows x 11 columns],        id      name         score unit      region_name indicator_topic  \\\n",
      "0      DZ   Algeria         25412  GWh     North Africa          Supply   \n",
      "1      DZ   Algeria  26830.699219  GWh     North Africa          Supply   \n",
      "2      DZ   Algeria  27865.699219  GWh     North Africa          Supply   \n",
      "3      DZ   Algeria  29845.740234  GWh     North Africa          Supply   \n",
      "4      DZ   Algeria  30885.099609  GWh     North Africa          Supply   \n",
      "...    ..       ...           ...  ...              ...             ...   \n",
      "42223  ZW  Zimbabwe             0   MW  Southern Africa       Technical   \n",
      "42224  ZW  Zimbabwe             0   MW  Southern Africa       Technical   \n",
      "42225  ZW  Zimbabwe             0   MW  Southern Africa       Technical   \n",
      "42226  ZW  Zimbabwe             0   MW  Southern Africa       Technical   \n",
      "42227  ZW  Zimbabwe             0   MW  Southern Africa       Technical   \n",
      "\n",
      "      indicator_source                                     indicator_name  \\\n",
      "0       AFREC Database                Electricity generation, Total (GWh)   \n",
      "1       AFREC Database                Electricity generation, Total (GWh)   \n",
      "2       AFREC Database                Electricity generation, Total (GWh)   \n",
      "3       AFREC Database                Electricity generation, Total (GWh)   \n",
      "4       AFREC Database                Electricity generation, Total (GWh)   \n",
      "...                ...                                                ...   \n",
      "42223   IRENA database  Electricity installed capacity in Geothermal (MW)   \n",
      "42224   IRENA database  Electricity installed capacity in Geothermal (MW)   \n",
      "42225   IRENA database  Electricity installed capacity in Geothermal (MW)   \n",
      "42226   IRENA database  Electricity installed capacity in Geothermal (MW)   \n",
      "42227   IRENA database  Electricity installed capacity in Geothermal (MW)   \n",
      "\n",
      "      indicator_group  year                    url  \n",
      "0         Electricity  2000   /aep/country/algeria  \n",
      "1         Electricity  2001   /aep/country/algeria  \n",
      "2         Electricity  2002   /aep/country/algeria  \n",
      "3         Electricity  2003   /aep/country/algeria  \n",
      "4         Electricity  2004   /aep/country/algeria  \n",
      "...               ...   ...                    ...  \n",
      "42223     Electricity  2018  /aep/country/zimbabwe  \n",
      "42224     Electricity  2019  /aep/country/zimbabwe  \n",
      "42225     Electricity  2020  /aep/country/zimbabwe  \n",
      "42226     Electricity  2021  /aep/country/zimbabwe  \n",
      "42227     Electricity  2022  /aep/country/zimbabwe  \n",
      "\n",
      "[42228 rows x 11 columns]]\n"
     ]
    }
   ],
   "source": [
    "# Step 2: Read and combine them all\n",
    "dataframes = []\n",
    "\n",
    "for file in files:\n",
    "    with open(file, \"r\") as f:\n",
    "        data = json.load(f)\n",
    "        df = pd.DataFrame(data)\n",
    "        dataframes.append(df)\n",
    "\n",
    "print(dataframes)"
   ]
  },
  {
   "cell_type": "code",
   "execution_count": 11,
   "id": "297e2eaf",
   "metadata": {},
   "outputs": [
    {
     "name": "stdout",
     "output_type": "stream",
     "text": [
      "Combined shape: (50922, 11)\n",
      "   id     name     score                unit   region_name indicator_topic  \\\n",
      "0  DZ  Algeria  1.122612  Millions of people  North Africa          Access   \n",
      "1  DZ  Algeria  0.947765  Millions of people  North Africa          Access   \n",
      "2  DZ  Algeria  0.831871  Millions of people  North Africa          Access   \n",
      "3  DZ  Algeria  0.712877  Millions of people  North Africa          Access   \n",
      "4  DZ  Algeria  0.623791  Millions of people  North Africa          Access   \n",
      "\n",
      "    indicator_source                                     indicator_name  \\\n",
      "0  Tracking SDG7/WBG  Energy: Population without access to clean coo...   \n",
      "1  Tracking SDG7/WBG  Energy: Population without access to clean coo...   \n",
      "2  Tracking SDG7/WBG  Energy: Population without access to clean coo...   \n",
      "3  Tracking SDG7/WBG  Energy: Population without access to clean coo...   \n",
      "4  Tracking SDG7/WBG  Energy: Population without access to clean coo...   \n",
      "\n",
      "  indicator_group  year                   url  \n",
      "0          Energy  2000  /aep/country/algeria  \n",
      "1          Energy  2001  /aep/country/algeria  \n",
      "2          Energy  2002  /aep/country/algeria  \n",
      "3          Energy  2003  /aep/country/algeria  \n",
      "4          Energy  2004  /aep/country/algeria  \n"
     ]
    }
   ],
   "source": [
    "# Step 3: Combine all into one DataFrame\n",
    "combined_df = pd.concat(dataframes, ignore_index=True)\n",
    "\n",
    "print(\"Combined shape:\", combined_df.shape)\n",
    "print(combined_df.head())\n"
   ]
  },
  {
   "cell_type": "markdown",
   "id": "cab16066",
   "metadata": {},
   "source": [
    "#### Step 3: Data Cleaning & Formatting"
   ]
  },
  {
   "cell_type": "code",
   "execution_count": 12,
   "id": "e1f37f10",
   "metadata": {},
   "outputs": [
    {
     "data": {
      "text/html": [
       "<div>\n",
       "<style scoped>\n",
       "    .dataframe tbody tr th:only-of-type {\n",
       "        vertical-align: middle;\n",
       "    }\n",
       "\n",
       "    .dataframe tbody tr th {\n",
       "        vertical-align: top;\n",
       "    }\n",
       "\n",
       "    .dataframe thead th {\n",
       "        text-align: right;\n",
       "    }\n",
       "</style>\n",
       "<table border=\"1\" class=\"dataframe\">\n",
       "  <thead>\n",
       "    <tr style=\"text-align: right;\">\n",
       "      <th></th>\n",
       "      <th>country_serial</th>\n",
       "      <th>country</th>\n",
       "      <th>value</th>\n",
       "      <th>unit</th>\n",
       "      <th>region_name</th>\n",
       "      <th>sub_sector</th>\n",
       "      <th>source</th>\n",
       "      <th>metric</th>\n",
       "      <th>sector</th>\n",
       "      <th>year</th>\n",
       "      <th>source_link</th>\n",
       "    </tr>\n",
       "  </thead>\n",
       "  <tbody>\n",
       "    <tr>\n",
       "      <th>0</th>\n",
       "      <td>DZ</td>\n",
       "      <td>Algeria</td>\n",
       "      <td>1.122612</td>\n",
       "      <td>Millions of people</td>\n",
       "      <td>North Africa</td>\n",
       "      <td>Access</td>\n",
       "      <td>Tracking SDG7/WBG</td>\n",
       "      <td>Energy: Population without access to clean coo...</td>\n",
       "      <td>Energy</td>\n",
       "      <td>2000</td>\n",
       "      <td>/aep/country/algeria</td>\n",
       "    </tr>\n",
       "    <tr>\n",
       "      <th>1</th>\n",
       "      <td>DZ</td>\n",
       "      <td>Algeria</td>\n",
       "      <td>0.947765</td>\n",
       "      <td>Millions of people</td>\n",
       "      <td>North Africa</td>\n",
       "      <td>Access</td>\n",
       "      <td>Tracking SDG7/WBG</td>\n",
       "      <td>Energy: Population without access to clean coo...</td>\n",
       "      <td>Energy</td>\n",
       "      <td>2001</td>\n",
       "      <td>/aep/country/algeria</td>\n",
       "    </tr>\n",
       "    <tr>\n",
       "      <th>2</th>\n",
       "      <td>DZ</td>\n",
       "      <td>Algeria</td>\n",
       "      <td>0.831871</td>\n",
       "      <td>Millions of people</td>\n",
       "      <td>North Africa</td>\n",
       "      <td>Access</td>\n",
       "      <td>Tracking SDG7/WBG</td>\n",
       "      <td>Energy: Population without access to clean coo...</td>\n",
       "      <td>Energy</td>\n",
       "      <td>2002</td>\n",
       "      <td>/aep/country/algeria</td>\n",
       "    </tr>\n",
       "    <tr>\n",
       "      <th>3</th>\n",
       "      <td>DZ</td>\n",
       "      <td>Algeria</td>\n",
       "      <td>0.712877</td>\n",
       "      <td>Millions of people</td>\n",
       "      <td>North Africa</td>\n",
       "      <td>Access</td>\n",
       "      <td>Tracking SDG7/WBG</td>\n",
       "      <td>Energy: Population without access to clean coo...</td>\n",
       "      <td>Energy</td>\n",
       "      <td>2003</td>\n",
       "      <td>/aep/country/algeria</td>\n",
       "    </tr>\n",
       "    <tr>\n",
       "      <th>4</th>\n",
       "      <td>DZ</td>\n",
       "      <td>Algeria</td>\n",
       "      <td>0.623791</td>\n",
       "      <td>Millions of people</td>\n",
       "      <td>North Africa</td>\n",
       "      <td>Access</td>\n",
       "      <td>Tracking SDG7/WBG</td>\n",
       "      <td>Energy: Population without access to clean coo...</td>\n",
       "      <td>Energy</td>\n",
       "      <td>2004</td>\n",
       "      <td>/aep/country/algeria</td>\n",
       "    </tr>\n",
       "  </tbody>\n",
       "</table>\n",
       "</div>"
      ],
      "text/plain": [
       "  country_serial  country     value                unit   region_name  \\\n",
       "0             DZ  Algeria  1.122612  Millions of people  North Africa   \n",
       "1             DZ  Algeria  0.947765  Millions of people  North Africa   \n",
       "2             DZ  Algeria  0.831871  Millions of people  North Africa   \n",
       "3             DZ  Algeria  0.712877  Millions of people  North Africa   \n",
       "4             DZ  Algeria  0.623791  Millions of people  North Africa   \n",
       "\n",
       "  sub_sector             source  \\\n",
       "0     Access  Tracking SDG7/WBG   \n",
       "1     Access  Tracking SDG7/WBG   \n",
       "2     Access  Tracking SDG7/WBG   \n",
       "3     Access  Tracking SDG7/WBG   \n",
       "4     Access  Tracking SDG7/WBG   \n",
       "\n",
       "                                              metric  sector  year  \\\n",
       "0  Energy: Population without access to clean coo...  Energy  2000   \n",
       "1  Energy: Population without access to clean coo...  Energy  2001   \n",
       "2  Energy: Population without access to clean coo...  Energy  2002   \n",
       "3  Energy: Population without access to clean coo...  Energy  2003   \n",
       "4  Energy: Population without access to clean coo...  Energy  2004   \n",
       "\n",
       "            source_link  \n",
       "0  /aep/country/algeria  \n",
       "1  /aep/country/algeria  \n",
       "2  /aep/country/algeria  \n",
       "3  /aep/country/algeria  \n",
       "4  /aep/country/algeria  "
      ]
     },
     "execution_count": 12,
     "metadata": {},
     "output_type": "execute_result"
    }
   ],
   "source": [
    "# Step 1: Rename columns\n",
    "df = combined_df.rename(columns={\n",
    "    \"id\": \"country_serial\",\n",
    "    \"name\": \"country\",\n",
    "    \"indicator_name\": \"metric\",\n",
    "    \"unit\": \"unit\",\n",
    "    \"indicator_group\": \"sector\",\n",
    "    \"indicator_topic\": \"sub_sector\",\n",
    "    \"indicator_source\": \"source\",\n",
    "    \"url\": \"source_link\",\n",
    "    \"score\": \"value\"\n",
    "})\n",
    "\n",
    "df.head()"
   ]
  },
  {
   "cell_type": "code",
   "execution_count": 6,
   "id": "26d15b26",
   "metadata": {},
   "outputs": [],
   "source": [
    "# Step 2: Convert value column to numeric\n",
    "df[\"value\"] = pd.to_numeric(df[\"value\"], errors=\"coerce\")"
   ]
  },
  {
   "cell_type": "markdown",
   "id": "0b157864",
   "metadata": {},
   "source": [
    "- The above code cell “Convert every entry in the ‘value’ column to a number. e.g. Some values might appear as \"36.5\" instead of 36.5\n",
    "\n",
    "- If something cannot be converted (like ‘N/A’ or text), replace it with NaN (which means missing value).\n",
    "\n",
    "- If we try to perform calculations or reshape this data while it’s still text, pandas will throw an error because it can’t compute mathematical operations on strings.\n",
    "\n",
    "- `errors=\"coerce\"` tells pandas: “If you can’t convert something to a number, turn it into NaN (missing value), don’t crash.”"
   ]
  },
  {
   "cell_type": "code",
   "execution_count": 13,
   "id": "074540ea",
   "metadata": {},
   "outputs": [],
   "source": [
    "# Step 3: Pivot data (years → columns)\n",
    "pivot_df = df.pivot_table(\n",
    "    index=[\n",
    "        \"country\", \"country_serial\", \"metric\", \"unit\",\n",
    "        \"sector\", \"sub_sector\", \"source_link\", \"source\"\n",
    "    ],\n",
    "    columns=\"year\",\n",
    "    values=\"value\",\n",
    "    aggfunc=\"first\"   # safer than 'mean'\n",
    ").reset_index()"
   ]
  },
  {
   "cell_type": "code",
   "execution_count": 17,
   "id": "b4abf294",
   "metadata": {},
   "outputs": [],
   "source": [
    "# Step 4: Flatten the columns - removes the year column\n",
    "pivot_df.columns.name = None"
   ]
  },
  {
   "cell_type": "code",
   "execution_count": 18,
   "id": "b7ade6c7",
   "metadata": {},
   "outputs": [
    {
     "data": {
      "text/html": [
       "<div>\n",
       "<style scoped>\n",
       "    .dataframe tbody tr th:only-of-type {\n",
       "        vertical-align: middle;\n",
       "    }\n",
       "\n",
       "    .dataframe tbody tr th {\n",
       "        vertical-align: top;\n",
       "    }\n",
       "\n",
       "    .dataframe thead th {\n",
       "        text-align: right;\n",
       "    }\n",
       "</style>\n",
       "<table border=\"1\" class=\"dataframe\">\n",
       "  <thead>\n",
       "    <tr style=\"text-align: right;\">\n",
       "      <th></th>\n",
       "      <th>country</th>\n",
       "      <th>country_serial</th>\n",
       "      <th>metric</th>\n",
       "      <th>unit</th>\n",
       "      <th>sector</th>\n",
       "      <th>sub_sector</th>\n",
       "      <th>source_link</th>\n",
       "      <th>source</th>\n",
       "      <th>2000</th>\n",
       "      <th>2001</th>\n",
       "      <th>...</th>\n",
       "      <th>2013</th>\n",
       "      <th>2014</th>\n",
       "      <th>2015</th>\n",
       "      <th>2016</th>\n",
       "      <th>2017</th>\n",
       "      <th>2018</th>\n",
       "      <th>2019</th>\n",
       "      <th>2020</th>\n",
       "      <th>2021</th>\n",
       "      <th>2022</th>\n",
       "    </tr>\n",
       "  </thead>\n",
       "  <tbody>\n",
       "    <tr>\n",
       "      <th>0</th>\n",
       "      <td>Algeria</td>\n",
       "      <td>DZ</td>\n",
       "      <td>Electricity export (GWh)</td>\n",
       "      <td>GWh</td>\n",
       "      <td>Electricity</td>\n",
       "      <td>Supply</td>\n",
       "      <td>/aep/country/algeria</td>\n",
       "      <td>AFREC Database</td>\n",
       "      <td>319</td>\n",
       "      <td>196</td>\n",
       "      <td>...</td>\n",
       "      <td>384</td>\n",
       "      <td>877</td>\n",
       "      <td>641</td>\n",
       "      <td>507</td>\n",
       "      <td>918.764526</td>\n",
       "      <td>833.876404</td>\n",
       "      <td>975.834595</td>\n",
       "      <td>1128.864014</td>\n",
       "      <td>1529.344971</td>\n",
       "      <td>NULL</td>\n",
       "    </tr>\n",
       "    <tr>\n",
       "      <th>1</th>\n",
       "      <td>Algeria</td>\n",
       "      <td>DZ</td>\n",
       "      <td>Electricity final consumption (GWh)</td>\n",
       "      <td>GWh</td>\n",
       "      <td>Electricity</td>\n",
       "      <td>Supply</td>\n",
       "      <td>/aep/country/algeria</td>\n",
       "      <td>AFREC Database</td>\n",
       "      <td>18592</td>\n",
       "      <td>19664</td>\n",
       "      <td>...</td>\n",
       "      <td>40188</td>\n",
       "      <td>45751</td>\n",
       "      <td>47956.96875</td>\n",
       "      <td>52288</td>\n",
       "      <td>56376.101562</td>\n",
       "      <td>58152.601562</td>\n",
       "      <td>59053.726562</td>\n",
       "      <td>60044.328125</td>\n",
       "      <td>62502.121094</td>\n",
       "      <td>NULL</td>\n",
       "    </tr>\n",
       "    <tr>\n",
       "      <th>2</th>\n",
       "      <td>Algeria</td>\n",
       "      <td>DZ</td>\n",
       "      <td>Electricity final consumption per capita (KWh)</td>\n",
       "      <td>KWh per capita</td>\n",
       "      <td>Electricity</td>\n",
       "      <td>Supply</td>\n",
       "      <td>/aep/country/algeria</td>\n",
       "      <td>AFREC Database</td>\n",
       "      <td>596.209656</td>\n",
       "      <td>622.433105</td>\n",
       "      <td>...</td>\n",
       "      <td>1048.239624</td>\n",
       "      <td>1169.704102</td>\n",
       "      <td>1202.787354</td>\n",
       "      <td>1287.689941</td>\n",
       "      <td>1364.439453</td>\n",
       "      <td>1384.320435</td>\n",
       "      <td>1383.671143</td>\n",
       "      <td>1385.640747</td>\n",
       "      <td>1421.494507</td>\n",
       "      <td>NULL</td>\n",
       "    </tr>\n",
       "    <tr>\n",
       "      <th>3</th>\n",
       "      <td>Algeria</td>\n",
       "      <td>DZ</td>\n",
       "      <td>Electricity generated from biofuels and waste ...</td>\n",
       "      <td>GWh</td>\n",
       "      <td>Electricity</td>\n",
       "      <td>Supply</td>\n",
       "      <td>/aep/country/algeria</td>\n",
       "      <td>AFREC Database</td>\n",
       "      <td>0</td>\n",
       "      <td>0</td>\n",
       "      <td>...</td>\n",
       "      <td>0</td>\n",
       "      <td>0</td>\n",
       "      <td>0</td>\n",
       "      <td>0</td>\n",
       "      <td>0</td>\n",
       "      <td>0</td>\n",
       "      <td>0</td>\n",
       "      <td>0</td>\n",
       "      <td>0</td>\n",
       "      <td>NULL</td>\n",
       "    </tr>\n",
       "    <tr>\n",
       "      <th>4</th>\n",
       "      <td>Algeria</td>\n",
       "      <td>DZ</td>\n",
       "      <td>Electricity generated from fossil fuels (GWh)</td>\n",
       "      <td>GWh</td>\n",
       "      <td>Electricity</td>\n",
       "      <td>Supply</td>\n",
       "      <td>/aep/country/algeria</td>\n",
       "      <td>AFREC Database</td>\n",
       "      <td>25358</td>\n",
       "      <td>26556</td>\n",
       "      <td>...</td>\n",
       "      <td>59560</td>\n",
       "      <td>63988</td>\n",
       "      <td>68576</td>\n",
       "      <td>70663</td>\n",
       "      <td>75381.96875</td>\n",
       "      <td>75879.992188</td>\n",
       "      <td>79441.46875</td>\n",
       "      <td>83299.226562</td>\n",
       "      <td>84709.507812</td>\n",
       "      <td>NULL</td>\n",
       "    </tr>\n",
       "  </tbody>\n",
       "</table>\n",
       "<p>5 rows × 31 columns</p>\n",
       "</div>"
      ],
      "text/plain": [
       "   country country_serial                                             metric  \\\n",
       "0  Algeria             DZ                           Electricity export (GWh)   \n",
       "1  Algeria             DZ                Electricity final consumption (GWh)   \n",
       "2  Algeria             DZ     Electricity final consumption per capita (KWh)   \n",
       "3  Algeria             DZ  Electricity generated from biofuels and waste ...   \n",
       "4  Algeria             DZ      Electricity generated from fossil fuels (GWh)   \n",
       "\n",
       "             unit       sector sub_sector           source_link  \\\n",
       "0             GWh  Electricity     Supply  /aep/country/algeria   \n",
       "1             GWh  Electricity     Supply  /aep/country/algeria   \n",
       "2  KWh per capita  Electricity     Supply  /aep/country/algeria   \n",
       "3             GWh  Electricity     Supply  /aep/country/algeria   \n",
       "4             GWh  Electricity     Supply  /aep/country/algeria   \n",
       "\n",
       "           source        2000        2001  ...         2013         2014  \\\n",
       "0  AFREC Database         319         196  ...          384          877   \n",
       "1  AFREC Database       18592       19664  ...        40188        45751   \n",
       "2  AFREC Database  596.209656  622.433105  ...  1048.239624  1169.704102   \n",
       "3  AFREC Database           0           0  ...            0            0   \n",
       "4  AFREC Database       25358       26556  ...        59560        63988   \n",
       "\n",
       "          2015         2016          2017          2018          2019  \\\n",
       "0          641          507    918.764526    833.876404    975.834595   \n",
       "1  47956.96875        52288  56376.101562  58152.601562  59053.726562   \n",
       "2  1202.787354  1287.689941   1364.439453   1384.320435   1383.671143   \n",
       "3            0            0             0             0             0   \n",
       "4        68576        70663   75381.96875  75879.992188   79441.46875   \n",
       "\n",
       "           2020          2021  2022  \n",
       "0   1128.864014   1529.344971  NULL  \n",
       "1  60044.328125  62502.121094  NULL  \n",
       "2   1385.640747   1421.494507  NULL  \n",
       "3             0             0  NULL  \n",
       "4  83299.226562  84709.507812  NULL  \n",
       "\n",
       "[5 rows x 31 columns]"
      ]
     },
     "execution_count": 18,
     "metadata": {},
     "output_type": "execute_result"
    }
   ],
   "source": [
    "# Step 5: Save to CSV\n",
    "pivot_df.to_csv(\"africa_energy_data.csv\", index=False)\n",
    "\n",
    "pivot_df.head()"
   ]
  },
  {
   "cell_type": "code",
   "execution_count": 19,
   "id": "b723c622",
   "metadata": {},
   "outputs": [
    {
     "data": {
      "text/plain": [
       "(1944, 31)"
      ]
     },
     "execution_count": 19,
     "metadata": {},
     "output_type": "execute_result"
    }
   ],
   "source": [
    "pivot_df.shape"
   ]
  },
  {
   "cell_type": "markdown",
   "id": "a5086e9f",
   "metadata": {},
   "source": [
    "#### Step 4: Data Storage"
   ]
  },
  {
   "cell_type": "code",
   "execution_count": 8,
   "id": "52a97439",
   "metadata": {},
   "outputs": [
    {
     "name": "stdout",
     "output_type": "stream",
     "text": [
      "Collecting pymongo\n",
      "  Downloading pymongo-4.15.3-cp312-cp312-manylinux2014_x86_64.manylinux_2_17_x86_64.manylinux_2_28_x86_64.whl.metadata (22 kB)\n",
      "Collecting dnspython<3.0.0,>=1.16.0 (from pymongo)\n",
      "  Downloading dnspython-2.8.0-py3-none-any.whl.metadata (5.7 kB)\n",
      "Downloading pymongo-4.15.3-cp312-cp312-manylinux2014_x86_64.manylinux_2_17_x86_64.manylinux_2_28_x86_64.whl (1.7 MB)\n",
      "\u001b[2K   \u001b[38;2;114;156;31m━━━━━━━━━━━━━━━━━━━━━━━━━━━━━━━━━━━━━━━━\u001b[0m \u001b[32m1.7/1.7 MB\u001b[0m \u001b[31m3.5 MB/s\u001b[0m eta \u001b[36m0:00:00\u001b[0mm eta \u001b[36m0:00:01\u001b[0m[36m0:00:01\u001b[0m\n",
      "\u001b[?25hDownloading dnspython-2.8.0-py3-none-any.whl (331 kB)\n",
      "\u001b[2K   \u001b[38;2;114;156;31m━━━━━━━━━━━━━━━━━━━━━━━━━━━━━━━━━━━━━━━━\u001b[0m \u001b[32m331.1/331.1 kB\u001b[0m \u001b[31m5.9 MB/s\u001b[0m eta \u001b[36m0:00:00\u001b[0m0m eta \u001b[36m0:00:01\u001b[0m\n",
      "\u001b[?25hInstalling collected packages: dnspython, pymongo\n",
      "Successfully installed dnspython-2.8.0 pymongo-4.15.3\n"
     ]
    }
   ],
   "source": [
    "!pip install pymongo"
   ]
  },
  {
   "cell_type": "code",
   "execution_count": 20,
   "id": "fe4c6022",
   "metadata": {},
   "outputs": [],
   "source": [
    "from pymongo import MongoClient\n",
    "\n",
    "# Step 1: Ensure year columns are strings - In MongoDB, field names (the keys) must always be strings.\n",
    "pivot_df.columns = pivot_df.columns.map(str)"
   ]
  },
  {
   "cell_type": "code",
   "execution_count": null,
   "id": "80504ed6",
   "metadata": {},
   "outputs": [],
   "source": [
    "# Step 2: Replace NaN with None (MongoDB does not accept NaN)\n",
    "pivot_df = pivot_df.where(pd.notnull(pivot_df), None)"
   ]
  },
  {
   "cell_type": "markdown",
   "id": "a4689c03",
   "metadata": {},
   "source": [
    "- MongoDB does not accept NaN values\n",
    "\n",
    "- When you export from pandas to MongoDB, pandas uses NaN (Not a Number) to represent missing values.\n",
    "\n",
    "- But in MongoDB (and in JSON), there is no such thing as NaN.\n",
    "\n",
    "- The valid equivalent for “missing” is null, which corresponds to None in Python."
   ]
  },
  {
   "cell_type": "code",
   "execution_count": null,
   "id": "64c2f93b",
   "metadata": {},
   "outputs": [],
   "source": [
    "# Step 3: Convert DataFrame to list of dicts\n",
    "records = pivot_df.to_dict(orient=\"records\")\n",
    "print(records)"
   ]
  },
  {
   "cell_type": "markdown",
   "id": "f29c1428",
   "metadata": {},
   "source": [
    "- This code cell above your entire pandas DataFrame (pivot_df) into a list of Python dictionaries, where:\n",
    "\n",
    "    - each row in the DataFrame becomes one dictionary (document)\n",
    "\n",
    "    - each column name becomes a key in that dictionary\n",
    "\n",
    "- MongoDB doesn’t understand pandas DataFrames directly. MongoDB stores data as JSON-like documents\n",
    "\n",
    "- It expects data in a structure like:\n",
    "\n",
    "`{\"key\": \"value\", \"key2\": \"value2\"}`"
   ]
  },
  {
   "cell_type": "code",
   "execution_count": 22,
   "id": "f072045b",
   "metadata": {},
   "outputs": [],
   "source": [
    "# Step 4: Connect to MongoDB\n",
    "client = MongoClient(\"mongodb://localhost:27017/\")\n",
    "db = client[\"africa_energy_db\"]\n",
    "collection = db[\"energy_data\"]"
   ]
  },
  {
   "cell_type": "code",
   "execution_count": null,
   "id": "6c2f12d0",
   "metadata": {},
   "outputs": [],
   "source": [
    "# Step 5: Insert data\n",
    "collection.insert_many(records)"
   ]
  },
  {
   "cell_type": "code",
   "execution_count": null,
   "id": "95cec06a",
   "metadata": {},
   "outputs": [
    {
     "name": "stdout",
     "output_type": "stream",
     "text": [
      "Inserted: 1943 documents\n",
      "{'_id': ObjectId('68ef1e0f36d3b506fcf02f9a'), 'country': 'Algeria', 'country_serial': 'DZ', 'metric': 'Electricity export (GWh)', 'unit': 'GWh', 'sector': 'Electricity', 'sub_sector': 'Supply', 'source_link': '/aep/country/algeria', 'source': 'AFREC Database', '2000': 319.0, '2001': 196.0, '2002': 259.0, '2003': 212.0, '2004': 197.0, '2005': 275.0, '2006': 298.0, '2007': 273.0, '2008': 323.0, '2009': 362.0, '2010': 803.0, '2011': 799.0, '2012': 985.0, '2013': 384.0, '2014': 877.0, '2015': 641.0, '2016': 507.0, '2017': 918.764526367188, '2018': 833.876403808594, '2019': 975.834594726563, '2020': 1128.86401367188, '2021': 1529.34497070313, '2022': nan}\n"
     ]
    }
   ],
   "source": [
    "# Step 6: Verify\n",
    "print(\"Inserted:\", collection.count_documents({}), \"documents\")\n",
    "print(collection.find_one())"
   ]
  },
  {
   "cell_type": "markdown",
   "id": "9ef837b2",
   "metadata": {},
   "source": [
    "Step 5: Data Validation"
   ]
  },
  {
   "cell_type": "code",
   "execution_count": 24,
   "id": "f63959b6",
   "metadata": {},
   "outputs": [
    {
     "name": "stdout",
     "output_type": "stream",
     "text": [
      "Shape: (1944, 31)\n",
      "   country country_serial                                             metric  \\\n",
      "0  Algeria             DZ                           Electricity export (GWh)   \n",
      "1  Algeria             DZ                Electricity final consumption (GWh)   \n",
      "2  Algeria             DZ     Electricity final consumption per capita (KWh)   \n",
      "3  Algeria             DZ  Electricity generated from biofuels and waste ...   \n",
      "4  Algeria             DZ      Electricity generated from fossil fuels (GWh)   \n",
      "\n",
      "             unit       sector sub_sector           source_link  \\\n",
      "0             GWh  Electricity     Supply  /aep/country/algeria   \n",
      "1             GWh  Electricity     Supply  /aep/country/algeria   \n",
      "2  KWh per capita  Electricity     Supply  /aep/country/algeria   \n",
      "3             GWh  Electricity     Supply  /aep/country/algeria   \n",
      "4             GWh  Electricity     Supply  /aep/country/algeria   \n",
      "\n",
      "           source          2000          2001  ...          2013  \\\n",
      "0  AFREC Database    319.000000    196.000000  ...    384.000000   \n",
      "1  AFREC Database  18592.000000  19664.000000  ...  40188.000000   \n",
      "2  AFREC Database    596.209656    622.433105  ...   1048.239624   \n",
      "3  AFREC Database      0.000000      0.000000  ...      0.000000   \n",
      "4  AFREC Database  25358.000000  26556.000000  ...  59560.000000   \n",
      "\n",
      "           2014          2015          2016          2017          2018  \\\n",
      "0    877.000000    641.000000    507.000000    918.764526    833.876404   \n",
      "1  45751.000000  47956.968750  52288.000000  56376.101562  58152.601562   \n",
      "2   1169.704102   1202.787354   1287.689941   1364.439453   1384.320435   \n",
      "3      0.000000      0.000000      0.000000      0.000000      0.000000   \n",
      "4  63988.000000  68576.000000  70663.000000  75381.968750  75879.992188   \n",
      "\n",
      "           2019          2020          2021  2022  \n",
      "0    975.834595   1128.864014   1529.344971   NaN  \n",
      "1  59053.726562  60044.328125  62502.121094   NaN  \n",
      "2   1383.671143   1385.640747   1421.494507   NaN  \n",
      "3      0.000000      0.000000      0.000000   NaN  \n",
      "4  79441.468750  83299.226562  84709.507812   NaN  \n",
      "\n",
      "[5 rows x 31 columns]\n"
     ]
    }
   ],
   "source": [
    "# Step 1: Load your CSV\n",
    "df = pd.read_csv(\"africa_energy_data.csv\")\n",
    "print(\"Shape:\", df.shape)\n",
    "print(df.head())"
   ]
  },
  {
   "cell_type": "code",
   "execution_count": 27,
   "id": "adfcac81",
   "metadata": {},
   "outputs": [
    {
     "name": "stdout",
     "output_type": "stream",
     "text": [
      "Missing values per column:\n",
      "country_serial     36\n",
      "2000                9\n",
      "2001                9\n",
      "2002                9\n",
      "2003                9\n",
      "2004                9\n",
      "2005                9\n",
      "2006                9\n",
      "2007                9\n",
      "2008                9\n",
      "2009                9\n",
      "2010                9\n",
      "2011                8\n",
      "2012                1\n",
      "2013                1\n",
      "2014                1\n",
      "2015                1\n",
      "2016                1\n",
      "2017                1\n",
      "2018                1\n",
      "2019                2\n",
      "2020                1\n",
      "2021                1\n",
      "2022              785\n",
      "dtype: int64\n"
     ]
    }
   ],
   "source": [
    "# Step 2: Check for missing values per column\n",
    "missing_summary = df.isnull().sum()\n",
    "print(\"Missing values per column:\")\n",
    "print(missing_summary[missing_summary > 0])"
   ]
  },
  {
   "cell_type": "code",
   "execution_count": 29,
   "id": "262eaaf2",
   "metadata": {},
   "outputs": [
    {
     "name": "stdout",
     "output_type": "stream",
     "text": [
      "Detected year columns: ['2000', '2001', '2002', '2003', '2004', '2005', '2006', '2007', '2008', '2009', '2010', '2011', '2012', '2013', '2014', '2015', '2016', '2017', '2018', '2019', '2020', '2021', '2022'] \n",
      "\n",
      "Found 792 rows with missing year values.\n"
     ]
    }
   ],
   "source": [
    "# Step 3: Check rows with missing year values\n",
    "year_cols = [col for col in df.columns if col.isdigit()]\n",
    "print(\"Detected year columns:\", year_cols, \"\\n\")\n",
    "\n",
    "missing_years = df[df[year_cols].isnull().any(axis=1)]\n",
    "print(f\"Found {len(missing_years)} rows with missing year values.\")"
   ]
  },
  {
   "cell_type": "code",
   "execution_count": 30,
   "id": "cc152f27",
   "metadata": {},
   "outputs": [
    {
     "name": "stdout",
     "output_type": "stream",
     "text": [
      "Rows missing metric names: 0\n"
     ]
    }
   ],
   "source": [
    "# Step 4: Check for missing or blank metric names\n",
    "missing_metrics = df[df[\"metric\"].isnull() | (df[\"metric\"] == \"\")]\n",
    "print(f\"Rows missing metric names: {len(missing_metrics)}\")"
   ]
  },
  {
   "cell_type": "code",
   "execution_count": 31,
   "id": "05138ede",
   "metadata": {},
   "outputs": [
    {
     "name": "stdout",
     "output_type": "stream",
     "text": [
      "Unique units:\n",
      "['GWh' 'KWh per capita' 'MW' 'MJ/USD PPP 2017' 'Millions of people'\n",
      " 'Current US$'] \n",
      "\n",
      "Metrics with inconsistent units: 0\n"
     ]
    }
   ],
   "source": [
    "# Step 5: Check for unit consistency\n",
    "print(\"Unique units:\")\n",
    "print(df[\"unit\"].unique(), \"\\n\")\n",
    "\n",
    "\n",
    "unit_check = df.groupby(\"metric\")[\"unit\"].nunique().reset_index()\n",
    "inconsistent_units = unit_check[unit_check[\"unit\"] > 1]\n",
    "print(f\"Metrics with inconsistent units: {len(inconsistent_units)}\")\n",
    "if len(inconsistent_units) > 0:\n",
    "    print(inconsistent_units, \"\\n\")"
   ]
  },
  {
   "cell_type": "code",
   "execution_count": 33,
   "id": "b9026ebb",
   "metadata": {},
   "outputs": [
    {
     "name": "stdout",
     "output_type": "stream",
     "text": [
      "Total unique countries: 54\n",
      "Sample countries: ['Algeria', 'Angola', 'Benin', 'Botswana', 'Burkina Faso', 'Burundi', 'Cameroon', 'Cape Verde', 'Central African Republic', 'Chad']\n"
     ]
    }
   ],
   "source": [
    "# Step 6: Check country naming consistency\n",
    "countries = sorted(df[\"country\"].unique())\n",
    "print(f\"Total unique countries: {len(countries)}\")\n",
    "print(\"Sample countries:\", countries[:10])"
   ]
  },
  {
   "cell_type": "code",
   "execution_count": null,
   "id": "ef9b6ec4",
   "metadata": {},
   "outputs": [
    {
     "name": "stdout",
     "output_type": "stream",
     "text": [
      "Data Validation Summary:\n",
      "Total rows: 1944\n",
      "Rows with missing year data: 792\n",
      "Rows missing metric names: 0\n",
      "Metrics with inconsistent units: 0\n",
      "Unique countries: 54\n"
     ]
    }
   ],
   "source": [
    "# Step 7: Final validation summary\n",
    "summary = {\n",
    "    \"Total rows\": len(df),\n",
    "    \"Rows with missing year data\": len(missing_years),\n",
    "    \"Rows missing metric names\": len(missing_metrics),\n",
    "    \"Metrics with inconsistent units\": len(inconsistent_units),\n",
    "    \"Unique countries\": len(countries)\n",
    "}\n",
    "\n",
    "print(\"Data Validation Summary:\")\n",
    "for key, value in summary.items():\n",
    "    print(f\"{key}: {value}\")"
   ]
  }
 ],
 "metadata": {
  "kernelspec": {
   "display_name": "venv",
   "language": "python",
   "name": "python3"
  },
  "language_info": {
   "codemirror_mode": {
    "name": "ipython",
    "version": 3
   },
   "file_extension": ".py",
   "mimetype": "text/x-python",
   "name": "python",
   "nbconvert_exporter": "python",
   "pygments_lexer": "ipython3",
   "version": "3.12.3"
  }
 },
 "nbformat": 4,
 "nbformat_minor": 5
}
